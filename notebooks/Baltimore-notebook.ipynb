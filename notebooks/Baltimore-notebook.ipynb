{
 "cells": [
  {
   "cell_type": "code",
   "execution_count": 1,
   "metadata": {
    "collapsed": false,
    "deletable": true,
    "editable": true
   },
   "outputs": [
    {
     "data": {
      "text/html": [
       "<a href=\"javascript:code_showhide_toggle()\">Show/Hide Code</a>"
      ],
      "text/plain": [
       "<IPython.core.display.HTML object>"
      ]
     },
     "metadata": {},
     "output_type": "display_data"
    }
   ],
   "source": [
    "%%html \n",
    "<a href=\"javascript:code_showhide_toggle()\">Show/Hide Code</a>"
   ]
  },
  {
   "cell_type": "markdown",
   "metadata": {
    "deletable": true,
    "editable": true
   },
   "source": [
    "# Harmonize and Index Baltimore Crime Incident Dataset"
   ]
  },
  {
   "cell_type": "markdown",
   "metadata": {
    "deletable": true,
    "editable": true
   },
   "source": [
    "## Contents"
   ]
  },
  {
   "cell_type": "markdown",
   "metadata": {
    "deletable": true,
    "editable": true
   },
   "source": [
    "- [Introduction](#Introduction)\n",
    "- [Setup](#Setup)\n",
    "- [Load Input Data](#Load-Input-Data)\n",
    "- [Exploratory Analysis](#Exploratory-Analysis)\n",
    "- [Harmonize Variables](#Harmonize-Variables)\n",
    "- [Add metadata for additional variables](#Add-metadata-for-additional-variables)\n",
    "- [Generate Dictionary](#Generate-Dictionary)\n",
    "- [Save Data and Dictionary](#Save-Data-and-Dictionary)\n",
    "- [Create External Tables in Amazon Athena](#Create-External-Tables-in-Amazon-Athena)\n",
    "- [Index Data and Dictionary](#Index-Data-and-Dictionary)\n",
    "- [View Harmonized Data Sample](#View-Harmonized-Data-Sample)\n",
    "- [View Data Dictionary](#View-Data-Dictionary)\n",
    "- [Publish Notebook](#Publish-Notebook)"
   ]
  },
  {
   "cell_type": "markdown",
   "metadata": {
    "deletable": true,
    "editable": true
   },
   "source": [
    "## Introduction \n",
    "This notebook will illustrate use of Jupyter with PySpark to \n",
    "- harmonize crime datasets from multiple jurisdictions\n",
    "- add metadata to support a data driven search UI\n",
    "- create a data dictionary with metadata for each variable\n",
    "- save data and metadata as Spark SQL tables backed by (Athena compatible) Parquet files in S3\n",
    "- index data and metadata to support search\n",
    "- self-publish this notebook so it can be linked from the search UI to provide transparency and reproducability\n"
   ]
  },
  {
   "cell_type": "markdown",
   "metadata": {
    "deletable": true,
    "editable": true
   },
   "source": [
    "## Setup\n",
    "\n",
    "#### What does this do\n",
    "This sets up our environment variables to use for data input, output, indexing, etc..."
   ]
  },
  {
   "cell_type": "code",
   "execution_count": 2,
   "metadata": {
    "collapsed": false,
    "deletable": true,
    "editable": true
   },
   "outputs": [
    {
     "name": "stdout",
     "output_type": "stream",
     "text": [
      "City: Baltimore\n",
      "Notebook Name: Baltimore-notebook\n",
      "Dataset URL: https://data.baltimorecity.gov/api/views/wsfq-mvij/rows.csv?accessType=DOWNLOAD\n",
      "S3 dataset input: s3://datasearch-blog2-jupyterspark-bec964uow-emrbucket-1nunsfhzqup3u/crimedata/raw/Baltimore.csv\n",
      "Harmonized output: s3://datasearch-blog2-jupyterspark-bec964uow-emrbucket-1nunsfhzqup3u/crimedata/harmonized/Baltimore\n",
      "ElasticSearch Cluster: localhost.9200\n",
      "Setup & Initialization done\n"
     ]
    }
   ],
   "source": [
    "# CONFIGURATION VARIABLES\n",
    "city=\"Baltimore\"\n",
    "cityurl=\"https://data.baltimorecity.gov/api/views/wsfq-mvij/rows.csv?accessType=DOWNLOAD\"\n",
    "citynotebook=\"Baltimore-notebook\" # citynotebook is used to automatically publish the notebook at the end\n",
    "\n",
    "\n",
    "# location for raw (unprocessed) dataset in S3\n",
    "scratch_bucket=os.environ[\"S3_SCRATCH_BUCKET\"]\n",
    "datasets3 = \"s3://{0}/crimedata/raw/{1}.csv\".format(scratch_bucket, city)\n",
    "\n",
    "# locaton for harmonized (processed) dataset in S3. Structure is:\n",
    "#   outputroot\n",
    "#       |--- data - incidents - multiple CSV files\n",
    "#       |--- dictionary - incidents - CSV file containing data dictionary\n",
    "#       |--- doc - copy of notebook (published for web access)\n",
    "outputroot = \"s3://{0}/crimedata/harmonized/{1}\".format(scratch_bucket,city)\n",
    "outputpath_data = \"{}/data\".format(outputroot)\n",
    "outputpath_dictionary=\"{}/dictionary\".format(outputroot)\n",
    "outputpath_doc=\"{}/docs\".format(outputroot)\n",
    "notebook_urlbase = \"https://s3.amazonaws.com/{0}/{1}\".format(outputpath_doc.replace(\"s3://\",\"\"), citynotebook)\n",
    "\n",
    "# elasticsearch cluster endpoint\n",
    "# - use local proxy service (installed via an EMR bootstrap) which signs ES API calls using EMR EC2 role.\n",
    "esendpoint=\"localhost\"\n",
    "esport=9200\n",
    "\n",
    "# Summary of configuration\n",
    "print(\"City: {}\".format(city))\n",
    "print(\"Notebook Name: {}\".format(citynotebook))\n",
    "print(\"Dataset URL: {}\".format(cityurl))\n",
    "print(\"S3 dataset input: {}\".format(datasets3))\n",
    "print(\"Harmonized output: {}\".format(outputroot))\n",
    "print(\"ElasticSearch Cluster: {}.{}\".format(esendpoint, esport))\n",
    "print(\"Setup & Initialization done\")"
   ]
  },
  {
   "cell_type": "code",
   "execution_count": 3,
   "metadata": {
    "collapsed": false,
    "deletable": true,
    "editable": true
   },
   "outputs": [
    {
     "name": "stdout",
     "output_type": "stream",
     "text": [
      "Initialization complete.\n"
     ]
    }
   ],
   "source": [
    "# INITIALIZATION - instantiate objects used by notebook\n",
    "\n",
    "%matplotlib inline\n",
    "from pyspark import SparkContext\n",
    "from pyspark.sql import HiveContext\n",
    "from pyspark.sql.functions import *\n",
    "from IPython.display import display, HTML\n",
    "import datetime\n",
    "import subprocess\n",
    "\n",
    "# elasticsearch and harmonization objects defined in ./lib/esindex.py and ./lib/harmonizeCrimeIncidents.py\n",
    "from lib.esindex import esindex\n",
    "from lib.harmonizeCrimeIncidents import harmonizeCrimeIncidents\n",
    "\n",
    "sc = SparkContext.getOrCreate()\n",
    "hc = HiveContext(sc)\n",
    "es = esindex(esendpoint)\n",
    "hz = harmonizeCrimeIncidents(hc)\n",
    "print(\"Initialization complete.\")"
   ]
  },
  {
   "cell_type": "markdown",
   "metadata": {
    "deletable": true,
    "editable": true
   },
   "source": [
    "## Load Input Data\n",
    "\n",
    "#### What does this do\n",
    "This takes a data source file, in our case a CSV file, and puts it into our S3 bucket for procssing. Once the source file is copied into the bucket, we will load the file into a Spark dataframe for analysis and processing."
   ]
  },
  {
   "cell_type": "code",
   "execution_count": 4,
   "metadata": {
    "collapsed": false,
    "deletable": true,
    "editable": true
   },
   "outputs": [
    {
     "name": "stdout",
     "output_type": "stream",
     "text": [
      "Downloading /tmp/Baltimore.csv from: https://data.baltimorecity.gov/api/views/wsfq-mvij/rows.csv?accessType=DOWNLOAD\n",
      "Copying /tmp/Baltimore.csv to: s3://datasearch-blog2-jupyterspark-bec964uow-emrbucket-1nunsfhzqup3u/crimedata/raw/Baltimore.csv\n"
     ]
    }
   ],
   "source": [
    "# Download & install dataset from website\n",
    "\n",
    "def copy_from_website_to_s3(city, cityurl, datasets3):\n",
    "    tmpfile=\"/tmp/{0}.csv\".format(city)\n",
    "    print(\"Downloading {0} from: {1}\".format(tmpfile, cityurl))\n",
    "    subprocess.check_output(\"curl {0} -o {1}\".format(cityurl, tmpfile).split())\n",
    "    print(\"Copying {0} to: {1}\".format(tmpfile, datasets3))\n",
    "    subprocess.check_output(\"aws s3 cp {0} {1} --sse AES256\".format(tmpfile, datasets3).split())\n",
    "    os.remove(tmpfile)\n",
    "    \n",
    "# uncomment if you want to re-download the dataset\n",
    "copy_from_website_to_s3(city, cityurl, datasets3)\n"
   ]
  },
  {
   "cell_type": "code",
   "execution_count": 5,
   "metadata": {
    "collapsed": false,
    "deletable": true,
    "editable": true
   },
   "outputs": [
    {
     "name": "stdout",
     "output_type": "stream",
     "text": [
      "Loading dataset from S3\n",
      "Dataset Baltimore: Loaded 247531 rows.\n"
     ]
    }
   ],
   "source": [
    "# Read input datasets as DataFrames\n",
    "# No need to infer schema - all variables initially typed as strings\n",
    "print(\"Loading dataset from S3\")\n",
    "df = hc.read.load( datasets3,\n",
    "                   format='com.databricks.spark.csv',\n",
    "                   header='true',\n",
    "                   inferSchema='false',\n",
    "                   delimiter=',') \n",
    "df_in=df # keep copy of raw data for reference\n",
    "print(\"Dataset {0}: Loaded {1} rows.\".format(city, df.count()))"
   ]
  },
  {
   "cell_type": "markdown",
   "metadata": {
    "deletable": true,
    "editable": true
   },
   "source": [
    "## Exploratory Analysis\n",
    "Edit as desired to interactively explore the data\n",
    "\n",
    "#### What does this do\n",
    "With the data source file loaded into a Spark Data Frame, you can get some details on the content of the data using methods from Spark, Pandas, and others. This is purely exploratory information to give users insights into the raw data set."
   ]
  },
  {
   "cell_type": "code",
   "execution_count": 6,
   "metadata": {
    "collapsed": false,
    "deletable": true,
    "editable": true
   },
   "outputs": [
    {
     "data": {
      "text/plain": [
       "\"['CrimeDate', 'CrimeTime', 'CrimeCode', 'Location', 'Description', 'Inside/Outside', 'Weapon', 'Post', 'District', 'Neighborhood', 'Location 1', 'Premise', 'Total Incidents']\""
      ]
     },
     "execution_count": 6,
     "metadata": {},
     "output_type": "execute_result"
    }
   ],
   "source": [
    "# examine column headers\n",
    "str(df.columns)"
   ]
  },
  {
   "cell_type": "code",
   "execution_count": 7,
   "metadata": {
    "collapsed": false,
    "deletable": true,
    "editable": true
   },
   "outputs": [
    {
     "data": {
      "text/plain": [
       "[Row(CrimeDate=u'02/11/2017', CrimeTime=u'23:10:00', CrimeCode=u'3AF', Location=u'PAUL ST & E LAFAYETTE AV', Description=u'ROBBERY - STREET', Inside/Outside=u'O', Weapon=u'FIREARM', Post=u'141', District=u'CENTRAL', Neighborhood=u'Charles North', Location 1=u'(39.3098600000, -76.6148600000)', Premise=u'STREET', Total Incidents=u'1'),\n",
       " Row(CrimeDate=u'02/11/2017', CrimeTime=u'22:39:00', CrimeCode=u'4A', Location=u'2000 GRIFFIS AVE', Description=u'AGG. ASSAULT', Inside/Outside=u'O', Weapon=u'FIREARM', Post=u'831', District=u'SOUTHWESTERN', Neighborhood=u'Morrell Park', Location 1=u'(39.2666600000, -76.6491300000)', Premise=u'STREET', Total Incidents=u'1')]"
      ]
     },
     "execution_count": 7,
     "metadata": {},
     "output_type": "execute_result"
    }
   ],
   "source": [
    "# look at first 2 rows\n",
    "df.head(2)"
   ]
  },
  {
   "cell_type": "code",
   "execution_count": 8,
   "metadata": {
    "collapsed": false,
    "deletable": true,
    "editable": true
   },
   "outputs": [
    {
     "name": "stdout",
     "output_type": "stream",
     "text": [
      "+--------------------+\n",
      "|Description         |\n",
      "+--------------------+\n",
      "|ROBBERY - COMMERCIAL|\n",
      "|AGG. ASSAULT        |\n",
      "|ROBBERY - RESIDENCE |\n",
      "|ARSON               |\n",
      "|SHOOTING            |\n",
      "|ROBBERY - STREET    |\n",
      "|LARCENY FROM AUTO   |\n",
      "|AUTO THEFT          |\n",
      "|LARCENY             |\n",
      "|HOMICIDE            |\n",
      "|COMMON ASSAULT      |\n",
      "|ROBBERY - CARJACKING|\n",
      "|RAPE                |\n",
      "|BURGLARY            |\n",
      "|ASSAULT BY THREAT   |\n",
      "+--------------------+\n",
      "\n"
     ]
    }
   ],
   "source": [
    "# look at the distinct values for 'Description'\n",
    "df.select('Description').distinct().show(truncate=False)"
   ]
  },
  {
   "cell_type": "code",
   "execution_count": 9,
   "metadata": {
    "collapsed": false,
    "deletable": true,
    "editable": true
   },
   "outputs": [
    {
     "data": {
      "image/png": "[encoded data removed]",
      "text/plain": [
       "<matplotlib.figure.Figure at 0x7f1d56d5d0d0>"
      ]
     },
     "metadata": {},
     "output_type": "display_data"
    }
   ],
   "source": [
    "# Graph incident count by Description\n",
    "descr = df.select('Description').toPandas()\n",
    "descrGrp = descr.groupby('Description').size().rename('counts')\n",
    "descrPlot = descrGrp.plot(kind='bar')"
   ]
  },
  {
   "cell_type": "markdown",
   "metadata": {
    "deletable": true,
    "editable": true
   },
   "source": [
    "## Harmonize Variables"
   ]
  },
  {
   "cell_type": "markdown",
   "metadata": {
    "deletable": true,
    "editable": true
   },
   "source": [
    "Standard harmonised variables for crime incident datasets are defined in ./lib/harmonizeCrimeIncidents.py\n",
    "(You can open this module in JupyterNB, and modify the variable list and associated standard variable metadata as required) \n",
    "\n",
    "#### What does this do\n",
    "Harmonization is the process of mapping the raw variables of each incoming dataset to use the standard 'harmonized' \n",
    "variables and associated units of measurement, as much as possible. Harmonized datasets support cross-dataset search as well as the ability to combine/union datasets to perform multi dataset analysis and research.\n",
    "\n",
    "See examples below for how to generate new variables from existing variables, and how to manipulate variable values. The hz (harmonizeCrimeIncidents) class provides methods to help abstract the code for some common actions. \n",
    "\n",
    "#### Why are we doing this\n",
    "A core challenge when combining loosely coupled in a combined search index is dealing with different names for the same attribute. For example \"Sex\" versus \"Gender\" or \"48in\" versus \"4ft\". We have a pre-defined set of standard variable names and types that we are using for our search page, the harmonization process ensures that attributes and values in the raw data files to match that predifined set to allow for a consistent search tool across multiple data sets."
   ]
  },
  {
   "cell_type": "code",
   "execution_count": 10,
   "metadata": {
    "collapsed": false,
    "deletable": true,
    "editable": true
   },
   "outputs": [
    {
     "name": "stdout",
     "output_type": "stream",
     "text": [
      "New variable <description_orig> created from <Description>\n",
      "New variable <geolocation> created from <Location 1>\n",
      "Dropped variable <Location 1>\n",
      "New variable <crimedate> created from <CrimeDate>\n",
      "New variable <crimetime> created from <CrimeTime>\n",
      "New variable <crimecode> created from <CrimeCode>\n",
      "New variable <location> created from <Location>\n",
      "New variable <description> created from <Description>\n",
      "New variable <insideoutside> created from <Inside/Outside>\n",
      "Dropped variable <Inside/Outside>\n",
      "New variable <weapon> created from <Weapon>\n",
      "New variable <post> created from <Post>\n",
      "New variable <district> created from <District>\n",
      "New variable <neighborhood> created from <Neighborhood>\n",
      "New variable <premise> created from <Premise>\n",
      "New variable <totalincidents> created from <Total Incidents>\n",
      "Dropped variable <Total Incidents>\n"
     ]
    }
   ],
   "source": [
    "# Use hz.mapVar(old, new, keepOrig=False) to create new variables from the original variables, by default dropping \n",
    "# the original variable. Use 'keepOrig=True' argument to keep the original variable in the dataset.\n",
    "# Metadata for the transformation will be captured and included in the data dictionary\n",
    "\n",
    "df = hz.mapVar(df, \"Description\", \"description_orig\", keepOrig=True)  # make a copy of original Description variable\n",
    "df = hz.mapVar(df, \"Location 1\", \"geolocation\")\n",
    "\n",
    "# Rename any variables that have illegal names \n",
    "# no illegal characters or spaces (required to support parquet output format)\n",
    "# all lowercase variable names (required to provide compatibility with Amazon Athena)\n",
    "df = hz.makeValidVariableNames(df)"
   ]
  },
  {
   "cell_type": "code",
   "execution_count": 11,
   "metadata": {
    "collapsed": false,
    "deletable": true,
    "editable": true
   },
   "outputs": [
    {
     "name": "stdout",
     "output_type": "stream",
     "text": [
      "Values for description converted per supplied mapping\n"
     ]
    }
   ],
   "source": [
    "# Harmonize Description variable to standard values.\n",
    "\n",
    "# map value to standard descriptions\n",
    "descrMappings = {\n",
    "    \"ARSON\" : \"Arson\",\n",
    "    \"AGG. ASSAULT\" : \"Assault\",\n",
    "    \"ASSAULT BY THREAT\" : \"Assault\",\n",
    "    \"COMMON ASSAULT\" : \"Assault\",\n",
    "    \"RAPE\" : \"Rape\",\n",
    "    \"BURGLARY\" : \"Burglary\",\n",
    "    \"ROBBERY - COMMERCIAL\" : \"Robbery\",\n",
    "    \"ROBBERY - RESIDENCE\" : \"Robbery\",\n",
    "    \"ROBBERY - STREET\" : \"Robbery\",\n",
    "    \"ROBBERY - CARJACKING\" : \"Robbery\",\n",
    "    \"LARCENY FROM AUTO\" : \"Theft\",\n",
    "    \"AUTO THEFT\" : \"Theft\",\n",
    "    \"LARCENY\" : \"Theft\",\n",
    "    \"HOMICIDE\" : \"Homicide\",\n",
    "    \"SHOOTING\" : \"Weapons\"\n",
    "}\n",
    "df = hz.mapValues(df, \"description\", descrMappings)\n"
   ]
  },
  {
   "cell_type": "code",
   "execution_count": 12,
   "metadata": {
    "collapsed": false,
    "deletable": true,
    "editable": true
   },
   "outputs": [
    {
     "name": "stdout",
     "output_type": "stream",
     "text": [
      "Add 'city' variable\n"
     ]
    }
   ],
   "source": [
    "# Add city variable. All rows are given the value of the current city name\n",
    "df = df.withColumn('city', lit(city)) \n",
    "\n",
    "# Add TransformDescr metadata field\n",
    "hz.addTransformDescr('city','\"City\" assigned by harmonization code')\n",
    "print(\"Add 'city' variable\")"
   ]
  },
  {
   "cell_type": "code",
   "execution_count": 13,
   "metadata": {
    "collapsed": false,
    "deletable": true,
    "editable": true
   },
   "outputs": [
    {
     "name": "stdout",
     "output_type": "stream",
     "text": [
      "Harmonized geolocation variable\n"
     ]
    }
   ],
   "source": [
    "# Format geolocation field from '(lat, lon)' to 'lat,long' format understaood by elasticsearch - i.e. remove parenthesis\n",
    "df = df.withColumn('geolocation', regexp_replace(df['geolocation'], r'[\\(\\)\\s]', '')) \n",
    "hz.addTransformDescr('geolocation','geolocation format harmonised to \"latitude, longitude\"')\n",
    "print(\"Harmonized geolocation variable\")"
   ]
  },
  {
   "cell_type": "code",
   "execution_count": 14,
   "metadata": {
    "collapsed": false,
    "deletable": true,
    "editable": true
   },
   "outputs": [
    {
     "name": "stdout",
     "output_type": "stream",
     "text": [
      "Deleted 2902 rows with corrupted coordinates in LATITUDE and LONGITUDE\n"
     ]
    }
   ],
   "source": [
    "# filter out records with empty or null coordinates\n",
    "c1 = df.count()\n",
    "df = df.where(length('geolocation') > 0).where(length('geolocation') > 0)\n",
    "c2 = df.count()\n",
    "print(\"Deleted {} rows with corrupted coordinates in LATITUDE and LONGITUDE\".format(c1-c2))"
   ]
  },
  {
   "cell_type": "code",
   "execution_count": 15,
   "metadata": {
    "collapsed": false,
    "deletable": true,
    "editable": true
   },
   "outputs": [
    {
     "name": "stdout",
     "output_type": "stream",
     "text": [
      "Harmonized date & time variables\n"
     ]
    }
   ],
   "source": [
    "# Generate standard datetime, date part, and time part fields from raw CrimeDate and CrimeTime fields \n",
    "# for simplicity we will keep all times in localtime (ignoring timezones)\n",
    "\n",
    "# Split CrimeDate into year, month, day (all defined as harmonized variables in the hz class)\n",
    "# CrimeDate is formatted as day/month/year\n",
    "dateregex = r'(\\d+)/(\\d+)/(\\d+)'\n",
    "df = df.withColumn('month', regexp_extract('CrimeDate', dateregex, 1))\n",
    "hz.addTransformDescr('month','month, extracted from CrimeDate')\n",
    "df = df.withColumn('day', regexp_extract('CrimeDate', dateregex, 2))\n",
    "hz.addTransformDescr('day','day, extracted from CrimeDate')\n",
    "df = df.withColumn('year', regexp_extract('CrimeDate', dateregex, 3))\n",
    "hz.addTransformDescr('year','year, extracted from CrimeDate')\n",
    "\n",
    "# Split CrimeTime into hour & minute (both defined as harmonized variables in the hz class)\n",
    "# CrimeDate is formatted as either 18:51:00 or 1851 - both formats matched below\n",
    "time1regex = r'(\\d+):(\\d+):(\\d+)'\n",
    "time2regex = r'(\\d\\d)(\\d\\d)'\n",
    "df = df.withColumn('hour1', regexp_extract('CrimeTime', time1regex, 1))        # match 18:51:00 format, or \"\"\n",
    "df = df.withColumn('hour2', regexp_extract('CrimeTime', time2regex, 1))        # match 1851 format, or \"\"\n",
    "df = df.withColumn('hour', concat(df.hour1,df.hour2))                          # combine above matches\n",
    "df = df.drop('hour1').drop('hour2')                                            # drop temporary columns\n",
    "df = df.withColumn('hour', regexp_replace('hour', '24', '00')) \n",
    "hz.addTransformDescr('hour','hour, extracted from CrimeTime')\n",
    "df = df.withColumn('minute1', regexp_extract('CrimeTime', time1regex, 2))      # match 18:51:00 format, or \"\"\n",
    "df = df.withColumn('minute2', regexp_extract('CrimeTime', time2regex, 2))      # match 1851 format, or \"\"\n",
    "df = df.withColumn('minute', concat(df.minute1,df.minute2))                    # combine above matches\n",
    "df = df.drop('minute1').drop('minute2')                                        # drop temporary columns\n",
    "hz.addTransformDescr('minute','minute, extracted from CrimeTime')\n",
    "\n",
    "# Create new datetime field in format YYYY-MM-DD hhmm (defined as a harmonized variable in the hz class)\n",
    "df = df.withColumn('datetime',concat(concat_ws('-',df.year,df.month,df.day),lit(' '),concat_ws(':',df.hour,df.minute,lit('00'))).cast(\"timestamp\"))\n",
    "hz.addTransformDescr('datetime','Full timestamp with date and time, eg 2007-04-05 14:30')  \n",
    "\n",
    "# Drop the original CrimeDate and CrimeTime fields - no longer needed\n",
    "df = df.drop('CrimeDate').drop('CrimeTime')\n",
    "\n",
    "# Cast all the date time part fields from string to int (allows use of numeric range filters in the search UI)\n",
    "for col in ['year','month','day','hour','minute']:\n",
    "    df = df.withColumn(col, df[col].cast(\"int\"))\n",
    "\n",
    "# Add dayOfWeek variable, eg Monday, Tuesday, etc. (defined as a harmonized variable in the hz class)\n",
    "df = df.withColumn('dayofweek',date_format('datetime', 'EEEE'))\n",
    "hz.addTransformDescr('dayofweek','day of Week, calculated from datetime')  \n",
    "\n",
    "print(\"Harmonized date & time variables\")"
   ]
  },
  {
   "cell_type": "code",
   "execution_count": 16,
   "metadata": {
    "collapsed": false,
    "deletable": true,
    "editable": true
   },
   "outputs": [
    {
     "name": "stdout",
     "output_type": "stream",
     "text": [
      "+---------------------+\n",
      "|datetime             |\n",
      "+---------------------+\n",
      "|2017-02-11 23:10:00.0|\n",
      "|2017-02-11 22:39:00.0|\n",
      "+---------------------+\n",
      "only showing top 2 rows\n",
      "\n"
     ]
    }
   ],
   "source": [
    "df.select('datetime').show(2,truncate=False)"
   ]
  },
  {
   "cell_type": "code",
   "execution_count": 17,
   "metadata": {
    "collapsed": false,
    "deletable": true,
    "editable": true
   },
   "outputs": [
    {
     "name": "stdout",
     "output_type": "stream",
     "text": [
      "Added dataset descriptive variables\n"
     ]
    }
   ],
   "source": [
    "# Add dataset descriptive variables (defined in hz class). \n",
    "\n",
    "# location of raw data\n",
    "df = df.withColumn('rawdatapath', lit(datasets3))\n",
    "hz.addTransformDescr('rawdatapath','Assigned by harmonization code')\n",
    "\n",
    "# location of harmonized data\n",
    "df = df.withColumn('harmonizeddatapath', lit(outputroot))\n",
    "hz.addTransformDescr('harmonizeddatapath','Assigned by harmonization code')\n",
    "\n",
    "# URL for this notoebook (notebook will be saved/published using cells at the end of the notebook)\n",
    "df = df.withColumn('notebookhtml', lit(notebook_urlbase + \".html\"))\n",
    "hz.addTransformDescr('notebookhtml','Assigned by harmonization code')\n",
    "\n",
    "print(\"Added dataset descriptive variables\")"
   ]
  },
  {
   "cell_type": "markdown",
   "metadata": {
    "deletable": true,
    "editable": true
   },
   "source": [
    "# Add metadata for additional variables\n",
    "Create some additional variables for this specific data set.\n",
    "\n",
    "Here we can assign a default 'vargroup' for all variables that are not part of the defined list of harmonized variables in the hz class, using the hz.addVarGroup() method.\n",
    "(The 'vargroup' is used by the search UI to group variables under 'accordian' panels in the search page side bar).\n",
    "\n",
    "We can also assign custom metadata to selected unharmonized variables as desired. NOTE:\n",
    " - default metadata for harmonized variables is defined in the hz class already, so we can ignore those\n",
    " - unharmonized variables will be assigned default metadata automatically when we build the data dictionary below using hz.buildDataDict(). However, you might want to explicitly assign metadata to selected variables to control the search UI widget type, and/or to add descriptions to the dictionary.\n",
    " \n",
    "#### What does this do\n",
    "This process adds customized search parameters to this specific data set in the UI that aren't part of our standard set.\n",
    "\n",
    "#### Why are we doing this\n",
    "Not all individual variables within a single data set are always valuable on their own. Some need some additional logic or combination to make search and discovery a better experience. This process allows the harmonization routine to apply that logic and expose it within the UI"
   ]
  },
  {
   "cell_type": "code",
   "execution_count": 18,
   "metadata": {
    "collapsed": false,
    "deletable": true,
    "editable": true
   },
   "outputs": [
    {
     "name": "stdout",
     "output_type": "stream",
     "text": [
      "Added metadata for variable <insideoutside>\n"
     ]
    }
   ],
   "source": [
    "# vargroups are used to define the Search Filter UI 'accordians' and their order\n",
    "# set default variable group - used if variable is not exicitly assigned to a group\n",
    "defaultVarGroup = \"{0} (Unharmonized)\".format(city)\n",
    "hz.addVarGroup(defaultVarGroup,order=90,default=True)\n",
    "\n",
    "# Metadata for the harmonized variables is already defined in 'hz' class.\n",
    "# We can add metadata here for additional (non harmonized) variables to control\n",
    "# how they are presented in the data dictionary and search UI. \n",
    "\n",
    "# Here, \"Inside/Outside\" is not defined as one of the standard harmonized variables, so let's define its metadata here\n",
    "# Set 'type' to use an enumerated drowndown selector. \n",
    "# (use the hz.get_unique_values() method to build a value list for the enum selector widget.)\n",
    "values=\",\".join(hz.get_unique_values(df,'insideoutside'))\n",
    "hz.addVarMetadata(\"insideoutside\", \n",
    "                 vargroup=defaultVarGroup, \n",
    "                 type=\"enum,%s\" % values, \n",
    "                 descr=\"Incident occurred inside or outside\", \n",
    "                 uifilter=True)\n",
    "print(\"Added metadata for variable <insideoutside>\")"
   ]
  },
  {
   "cell_type": "code",
   "execution_count": 19,
   "metadata": {
    "collapsed": false,
    "deletable": true,
    "editable": true
   },
   "outputs": [
    {
     "data": {
      "text/plain": [
       "[Row(description=u'Robbery', crimecode=u'3AF', location=u'PAUL ST & E LAFAYETTE AV', weapon=u'FIREARM', post=u'141', district=u'CENTRAL', neighborhood=u'Charles North', premise=u'STREET', description_orig=u'ROBBERY - STREET', geolocation=u'39.3098600000,-76.6148600000', insideoutside=u'O', totalincidents=u'1', city=u'Baltimore', month=2, day=11, year=2017, hour=23, minute=10, datetime=datetime.datetime(2017, 2, 11, 23, 10), dayofweek=u'Saturday', rawdatapath=u's3://datasearch-blog2-jupyterspark-bec964uow-emrbucket-1nunsfhzqup3u/crimedata/raw/Baltimore.csv', harmonizeddatapath=u's3://datasearch-blog2-jupyterspark-bec964uow-emrbucket-1nunsfhzqup3u/crimedata/harmonized/Baltimore', notebookhtml=u'https://s3.amazonaws.com/datasearch-blog2-jupyterspark-bec964uow-emrbucket-1nunsfhzqup3u/crimedata/harmonized/Baltimore/docs/Baltimore-notebook.html'),\n",
       " Row(description=u'Assault', crimecode=u'4A', location=u'2000 GRIFFIS AVE', weapon=u'FIREARM', post=u'831', district=u'SOUTHWESTERN', neighborhood=u'Morrell Park', premise=u'STREET', description_orig=u'AGG. ASSAULT', geolocation=u'39.2666600000,-76.6491300000', insideoutside=u'O', totalincidents=u'1', city=u'Baltimore', month=2, day=11, year=2017, hour=22, minute=39, datetime=datetime.datetime(2017, 2, 11, 22, 39), dayofweek=u'Saturday', rawdatapath=u's3://datasearch-blog2-jupyterspark-bec964uow-emrbucket-1nunsfhzqup3u/crimedata/raw/Baltimore.csv', harmonizeddatapath=u's3://datasearch-blog2-jupyterspark-bec964uow-emrbucket-1nunsfhzqup3u/crimedata/harmonized/Baltimore', notebookhtml=u'https://s3.amazonaws.com/datasearch-blog2-jupyterspark-bec964uow-emrbucket-1nunsfhzqup3u/crimedata/harmonized/Baltimore/docs/Baltimore-notebook.html')]"
      ]
     },
     "execution_count": 19,
     "metadata": {},
     "output_type": "execute_result"
    }
   ],
   "source": [
    "df.head(2)"
   ]
  },
  {
   "cell_type": "markdown",
   "metadata": {
    "deletable": true,
    "editable": true
   },
   "source": [
    "## Generate Dictionary\n",
    "Generate a dictionary table containing field distribution stats and metadata data from the mappings \n",
    "\n",
    "#### What does this do\n",
    "All variables that a) don't match standard harmonized variables, and b) don't have added metadata will be assigned to the default vargroup, and the variable type will be derived from the data distribution characteristics, calculated by hz.buildDataDict().\n",
    "\n",
    "#### Why are we doing this\n",
    "The data dictionary is used to generate dynamic search widgets and tools based on the data sets themselves. By basing our search widgets on the data itself, rather than hard-coded, it allows the search UI to update based on available data."
   ]
  },
  {
   "cell_type": "code",
   "execution_count": 20,
   "metadata": {
    "collapsed": false,
    "deletable": true,
    "editable": true
   },
   "outputs": [
    {
     "name": "stdout",
     "output_type": "stream",
     "text": [
      "Data Dictionary created.\n"
     ]
    }
   ],
   "source": [
    "df_dict = hz.buildDataDict(df)\n",
    "print(\"Data Dictionary created.\")"
   ]
  },
  {
   "cell_type": "markdown",
   "metadata": {
    "deletable": true,
    "editable": true
   },
   "source": [
    "## Save Data and Dictionary\n",
    "Use the hiveContext object 'hc' to create a new schema for this city, and save the data dafarame and dictionary dataframe as tables in this schema with the hz.saveAsParquetTable() method. \n",
    "\n",
    "#### What does this do\n",
    "Data and the associated dictionary information is saved to the S3 output path as parquet files.\n",
    "\n",
    "#### Why are we doing this\n",
    "This allows the tables we've created or modified through harmonization to be easily restored, combined, and analysed using SQL."
   ]
  },
  {
   "cell_type": "code",
   "execution_count": 21,
   "metadata": {
    "collapsed": false,
    "deletable": true,
    "editable": true
   },
   "outputs": [
    {
     "name": "stdout",
     "output_type": "stream",
     "text": [
      "Creating Spark SQL table: incidents.baltimore\n",
      "Creating Spark SQL table: incidents.baltimore_dict\n",
      "Done creating tables\n"
     ]
    }
   ],
   "source": [
    "# Drop and create schema\n",
    "schema=\"incidents\"\n",
    "hc.sql(\"DROP SCHEMA IF EXISTS {0} CASCADE\".format(schema))\n",
    "hc.sql(\"CREATE SCHEMA {0} COMMENT 'Crime incident data for {0}'\".format(schema))\n",
    "\n",
    "# Create Incident Data as SparkSQL table with S3 backed storage\n",
    "data_table=city.lower()\n",
    "data_table_ddl=hz.saveAsParquetTable(df,schema,data_table,outputpath_data)\n",
    "\n",
    "# Create Dictionary as SparkSQL table with S3 backed storage\n",
    "dict_table = data_table+\"_dict\"\n",
    "dict_table_ddl=hz.saveAsParquetTable(df_dict.coalesce(1),schema,dict_table,outputpath_dictionary)\n",
    "\n",
    "print \"Done creating tables\""
   ]
  },
  {
   "cell_type": "markdown",
   "metadata": {
    "deletable": true,
    "editable": true
   },
   "source": [
    "## Create External Tables in Amazon Athena\n",
    "\n",
    "#### What does this do\n",
    "\n",
    "The S3 parquet files containing the harmonizd data are registered as Amazon Athena external tables.\n",
    "\n",
    "#### Why are we doing this\n",
    "\n",
    "You can use Amazon Athena to perform detailed ad-hoc analysis of this and other harmonised datasets using the familiar power of SQL. Using Athena also allows you to easily integrate the dataset with Amazon Quicksight where you can create visual analyses and dashboards."
   ]
  },
  {
   "cell_type": "code",
   "execution_count": 22,
   "metadata": {
    "collapsed": false,
    "deletable": true,
    "editable": true
   },
   "outputs": [
    {
     "name": "stdout",
     "output_type": "stream",
     "text": [
      "Exectuting Athena DDL: CREATE DATABASE IF NOT EXISTS `incidents`;\n",
      "Exectuting Athena DDL: DROP TABLE IF EXISTS `incidents`.`baltimore`;\n",
      "Exectuting Athena DDL: DROP TABLE IF EXISTS `incidents`.`baltimore_dict`;\n",
      "Exectuting Athena DDL: CREATE EXTERNAL TABLE `incidents`.`baltimore` (`description` STRING, `crimecode` STRING, `location` STRING, `weapon` STRING, `post` STRING, `district` STRING, `neighborhood` STRING, `premise` STRING, `description_orig` STRING, `geolocation` STRING, `insideoutside` STRING, `totalincidents` STRING, `city` STRING, `month` INT, `day` INT, `year` INT, `hour` INT, `minute` INT, `datetime` TIMESTAMP, `dayofweek` STRING, `rawdatapath` STRING, `harmonizeddatapath` STRING, `notebookhtml` STRING)\n",
      "STORED AS parquet\n",
      "LOCATION 's3://datasearch-blog2-jupyterspark-bec964uow-emrbucket-1nunsfhzqup3u/crimedata/harmonized/Baltimore/data/table=baltimore/';\n",
      "Exectuting Athena DDL: CREATE EXTERNAL TABLE `incidents`.`baltimore_dict` (`dict_field` STRING, `dict_count` BIGINT, `dict_countdistinct` BIGINT, `dict_countmissing` BIGINT, `dict_mean` DOUBLE, `dict_stddev` DOUBLE, `dict_min` STRING, `dict_max` STRING, `dict_vargroup` STRING, `dict_vardescr` STRING, `dict_uifilter` STRING, `dict_varmapping` STRING, `dict_vartype` STRING)\n",
      "STORED AS parquet\n",
      "LOCATION 's3://datasearch-blog2-jupyterspark-bec964uow-emrbucket-1nunsfhzqup3u/crimedata/harmonized/Baltimore/dictionary/table=baltimore_dict/';\n"
     ]
    }
   ],
   "source": [
    "ddlList=[\n",
    "    \"CREATE DATABASE IF NOT EXISTS `{0}`;\".format(schema),\n",
    "    \"DROP TABLE IF EXISTS `{0}`.`{1}`;\".format(schema,data_table),\n",
    "    \"DROP TABLE IF EXISTS `{0}`.`{1}`;\".format(schema,dict_table),\n",
    "    data_table_ddl,\n",
    "    dict_table_ddl\n",
    "]\n",
    "athena_s3_staging_dir = \"s3://{0}/athena_staging_dir\".format(scratch_bucket)\n",
    "hz.executeAthenaDDL(athena_s3_staging_dir, ddlList)"
   ]
  },
  {
   "cell_type": "markdown",
   "metadata": {
    "deletable": true,
    "editable": true
   },
   "source": [
    "## Index Data and Dictionary\n",
    "\n",
    "#### What does this do\n",
    "Creates or replaces the elastic search index to store our harmonized data and assoicated dictionary file\n",
    "\n",
    "#### Why are we doing this\n",
    "We save both incident data and dictionary information to elastic search, to power the search page.\n",
    "The dictionary fields are used to dynamically build the search filter panels in the search page side bar - these fields identify each variable, it's vargroup (accordian panel), type (ui selector to use), & description (hover tooltip).\n",
    "The incident record fields are used for the dataset record search."
   ]
  },
  {
   "cell_type": "markdown",
   "metadata": {
    "deletable": true,
    "editable": true
   },
   "source": [
    "Call  es.createOrReplaceIndex(es_index) to reset and set up default field mappings for the index (see ./lib/elasticsearch.py for more info on default mappings). \n",
    "You can also optionally specify field mappings for individual fields using es.addTypeMapping() as illustrated below, to support the search features you need - for example use a mapping to set date type for timestamps, or to speficy geo_point field if you want to use maps in your Kibana dashboard."
   ]
  },
  {
   "cell_type": "code",
   "execution_count": 23,
   "metadata": {
    "collapsed": false,
    "deletable": true,
    "editable": true
   },
   "outputs": [
    {
     "name": "stdout",
     "output_type": "stream",
     "text": [
      "Deleted existing elasticsearch documents (baltimore_harmonized)\n",
      "Create index <baltimore_harmonized> response: {\"acknowledged\":true,\"shards_acknowledged\":true}\n",
      "Add type mapping for <baltimore_harmonized.incidents> response: {\"acknowledged\":true}\n"
     ]
    }
   ],
   "source": [
    "# set up data index\n",
    "# index name city name for uniqueness, and *harmonized* to allow ES queries across all datasets\n",
    "es_dataindex = \"{0}_harmonized\".format(city.lower())\n",
    "es_datatype = 'incidents'\n",
    "es.createOrReplaceIndex(es_dataindex)\n",
    "\n",
    "# create mappings for geolocation and datetime field.. all other fields inherit default mapping\n",
    "mapping=\"\"\"\n",
    "{\n",
    "    \"properties\": {\n",
    "        \"geolocation\": {\n",
    "          \"type\": \"geo_point\"\n",
    "        },\n",
    "        \"datetime\": {\n",
    "          \"type\": \"date\",\n",
    "          \"format\" : \"yyyy-MM-dd HH:mm:ss\"}\n",
    "        }\n",
    "    }\n",
    "}\n",
    "\"\"\"\n",
    "es.addTypeMapping(es_dataindex, es_datatype, mapping)"
   ]
  },
  {
   "cell_type": "code",
   "execution_count": 24,
   "metadata": {
    "collapsed": false,
    "deletable": true,
    "editable": true
   },
   "outputs": [
    {
     "name": "stdout",
     "output_type": "stream",
     "text": [
      "Deleted existing elasticsearch documents (baltimore_dictionary)\n",
      "Create index <baltimore_dictionary> response: {\"acknowledged\":true,\"shards_acknowledged\":true}\n"
     ]
    }
   ],
   "source": [
    "# set up dictionary index\n",
    "# index name city name for uniqueness, and *dictionary* to allow ES queries across all datasets\n",
    "es_dictindex = \"{0}_dictionary\".format(city.lower())\n",
    "es_dicttype = 'dictionary'\n",
    "es.createOrReplaceIndex(es_dictindex)"
   ]
  },
  {
   "cell_type": "markdown",
   "metadata": {
    "deletable": true,
    "editable": true
   },
   "source": [
    "All data and dictionary fields can be indexed, by calling ex.saveToEs() and passing the df and df_dict object directly, as shown below.\n",
    "If instead you want to index a subset of the variables, make copy of the data dataframe, drop columns you don't want to index, generate a new dictionary dataframe using the new data dataframe as the argument to hz.buildDataDict(df_for_indexing), and pass the new data and dictionary dataframes to es.saveToEs() as shown below."
   ]
  },
  {
   "cell_type": "code",
   "execution_count": 25,
   "metadata": {
    "collapsed": false,
    "deletable": true,
    "editable": true
   },
   "outputs": [
    {
     "name": "stdout",
     "output_type": "stream",
     "text": [
      "Saving data to elasticsearch - please be patient\n",
      "Dataset 1 saved to elasticsearch <baltimore_harmonized/incidents>\n"
     ]
    }
   ],
   "source": [
    "# index all variables in data dataframe\n",
    "print(\"Saving data to elasticsearch - please be patient\")\n",
    "df = df.withColumn(\"datetime\",df[\"datetime\"].cast(\"string\")) # elasticsearch needs datetimes in a string type\n",
    "es.saveToEs(df,index=es_dataindex,doctype=es_datatype)"
   ]
  },
  {
   "cell_type": "code",
   "execution_count": 26,
   "metadata": {
    "collapsed": false,
    "deletable": true,
    "editable": true
   },
   "outputs": [
    {
     "name": "stdout",
     "output_type": "stream",
     "text": [
      "Saving dictionary to elasticsearch - please be patient\n",
      "Dataset 1 saved to elasticsearch <baltimore_dictionary/dictionary>\n"
     ]
    }
   ],
   "source": [
    "# index all variables in dictionary dataframe\n",
    "print(\"Saving dictionary to elasticsearch - please be patient\")\n",
    "es.saveToEs(df_dict,index=es_dictindex,doctype=es_dicttype)"
   ]
  },
  {
   "cell_type": "markdown",
   "metadata": {
    "deletable": true,
    "editable": true
   },
   "source": [
    "## View Harmonized Data Sample\n",
    "\n",
    "#### What does this do\n",
    "Test that the data table was sucessfully created by using SQL to load a few rows.\n",
    "\n",
    "#### Why are we doing this\n",
    "What we see below is what will be exposed in the search UI, so we want to see what our harmonized data looks like. Did we get all the right headers? Does it match the target data type? Is any applied logic correct? etc... \n"
   ]
  },
  {
   "cell_type": "code",
   "execution_count": 27,
   "metadata": {
    "collapsed": false,
    "deletable": true,
    "editable": true
   },
   "outputs": [
    {
     "name": "stdout",
     "output_type": "stream",
     "text": [
      "+-----------+---------+------------------------+-------+----+------------+-------------+----------+----------------+----------------------------+-------------+--------------+---------+-----+---+----+----+------+---------------------+---------+------------------------------------------------------------------------------------------------+---------------------------------------------------------------------------------------------------+----------------------------------------------------------------------------------------------------------------------------------------------------+\n",
      "|description|crimecode|location                |weapon |post|district    |neighborhood |premise   |description_orig|geolocation                 |insideoutside|totalincidents|city     |month|day|year|hour|minute|datetime             |dayofweek|rawdatapath                                                                                     |harmonizeddatapath                                                                                 |notebookhtml                                                                                                                                        |\n",
      "+-----------+---------+------------------------+-------+----+------------+-------------+----------+----------------+----------------------------+-------------+--------------+---------+-----+---+----+----+------+---------------------+---------+------------------------------------------------------------------------------------------------+---------------------------------------------------------------------------------------------------+----------------------------------------------------------------------------------------------------------------------------------------------------+\n",
      "|Robbery    |3AF      |PAUL ST & E LAFAYETTE AV|FIREARM|141 |CENTRAL     |Charles North|STREET    |ROBBERY - STREET|39.3098600000,-76.6148600000|O            |1             |Baltimore|2    |11 |2017|23  |10    |2017-02-11 23:10:00.0|Saturday |s3://datasearch-blog2-jupyterspark-bec964uow-emrbucket-1nunsfhzqup3u/crimedata/raw/Baltimore.csv|s3://datasearch-blog2-jupyterspark-bec964uow-emrbucket-1nunsfhzqup3u/crimedata/harmonized/Baltimore|https://s3.amazonaws.com/datasearch-blog2-jupyterspark-bec964uow-emrbucket-1nunsfhzqup3u/crimedata/harmonized/Baltimore/docs/Baltimore-notebook.html|\n",
      "|Assault    |4A       |2000 GRIFFIS AVE        |FIREARM|831 |SOUTHWESTERN|Morrell Park |STREET    |AGG. ASSAULT    |39.2666600000,-76.6491300000|O            |1             |Baltimore|2    |11 |2017|22  |39    |2017-02-11 22:39:00.0|Saturday |s3://datasearch-blog2-jupyterspark-bec964uow-emrbucket-1nunsfhzqup3u/crimedata/raw/Baltimore.csv|s3://datasearch-blog2-jupyterspark-bec964uow-emrbucket-1nunsfhzqup3u/crimedata/harmonized/Baltimore|https://s3.amazonaws.com/datasearch-blog2-jupyterspark-bec964uow-emrbucket-1nunsfhzqup3u/crimedata/harmonized/Baltimore/docs/Baltimore-notebook.html|\n",
      "|Assault    |4E       |100 N MONASTERY AVE     |HANDS  |842 |SOUTHWESTERN|Allendale    |ROW/TOWNHO|COMMON ASSAULT  |39.2883700000,-76.6758800000|I            |1             |Baltimore|2    |11 |2017|21  |24    |2017-02-11 21:24:00.0|Saturday |s3://datasearch-blog2-jupyterspark-bec964uow-emrbucket-1nunsfhzqup3u/crimedata/raw/Baltimore.csv|s3://datasearch-blog2-jupyterspark-bec964uow-emrbucket-1nunsfhzqup3u/crimedata/harmonized/Baltimore|https://s3.amazonaws.com/datasearch-blog2-jupyterspark-bec964uow-emrbucket-1nunsfhzqup3u/crimedata/harmonized/Baltimore/docs/Baltimore-notebook.html|\n",
      "+-----------+---------+------------------------+-------+----+------------+-------------+----------+----------------+----------------------------+-------------+--------------+---------+-----+---+----+----+------+---------------------+---------+------------------------------------------------------------------------------------------------+---------------------------------------------------------------------------------------------------+----------------------------------------------------------------------------------------------------------------------------------------------------+\n",
      "\n"
     ]
    }
   ],
   "source": [
    "sql=\"SELECT * FROM %s.%s LIMIT 3\" % (schema, data_table)\n",
    "# run query, convert results to a local pandas dataframe, and display as an HTML table.\n",
    "hc.sql(sql).show(truncate=False)"
   ]
  },
  {
   "cell_type": "markdown",
   "metadata": {
    "deletable": true,
    "editable": true
   },
   "source": [
    "## View Data Dictionary\n",
    "\n",
    "#### What does this do\n",
    "Test the summary of the data to verify our dictionary was successfully created\n",
    "\n",
    "#### Why are we doing this\n",
    "The data dictionary drives how the data is organized and presented in the UI. We want to ensure we have our expected row counts, data types, mins and means, and that data is organized correctly for display in the UI. What we see here will translate into the search widgets and any available ranges that control those widgets."
   ]
  },
  {
   "cell_type": "code",
   "execution_count": 28,
   "metadata": {
    "collapsed": false,
    "deletable": true,
    "editable": true
   },
   "outputs": [
    {
     "data": {
      "text/html": [
       "<table border=\"1\" class=\"dataframe\">\n",
       "  <thead>\n",
       "    <tr style=\"text-align: right;\">\n",
       "      <th></th>\n",
       "      <th>dict_field</th>\n",
       "      <th>dict_count</th>\n",
       "      <th>dict_countdistinct</th>\n",
       "      <th>dict_countmissing</th>\n",
       "      <th>dict_mean</th>\n",
       "      <th>dict_stddev</th>\n",
       "      <th>dict_min</th>\n",
       "      <th>dict_max</th>\n",
       "      <th>dict_vargroup</th>\n",
       "      <th>dict_vardescr</th>\n",
       "      <th>dict_uifilter</th>\n",
       "      <th>dict_varmapping</th>\n",
       "      <th>dict_vartype</th>\n",
       "    </tr>\n",
       "  </thead>\n",
       "  <tbody>\n",
       "    <tr>\n",
       "      <th>0</th>\n",
       "      <td>city</td>\n",
       "      <td>244629</td>\n",
       "      <td>1</td>\n",
       "      <td>0</td>\n",
       "      <td>NaN</td>\n",
       "      <td>NaN</td>\n",
       "      <td>Baltimore</td>\n",
       "      <td>Baltimore</td>\n",
       "      <td>04.Location</td>\n",
       "      <td>Incident city</td>\n",
       "      <td>True</td>\n",
       "      <td>\"City\" assigned by harmonization code</td>\n",
       "      <td>text</td>\n",
       "    </tr>\n",
       "    <tr>\n",
       "      <th>1</th>\n",
       "      <td>crimecode</td>\n",
       "      <td>244629</td>\n",
       "      <td>81</td>\n",
       "      <td>0</td>\n",
       "      <td>NaN</td>\n",
       "      <td>NaN</td>\n",
       "      <td>1F</td>\n",
       "      <td>9S</td>\n",
       "      <td>90.Baltimore (Unharmonized)</td>\n",
       "      <td>unknown</td>\n",
       "      <td>True</td>\n",
       "      <td>Source CrimeCode. Variable value unchanged fro...</td>\n",
       "      <td>text</td>\n",
       "    </tr>\n",
       "    <tr>\n",
       "      <th>2</th>\n",
       "      <td>datetime</td>\n",
       "      <td>244629</td>\n",
       "      <td>156688</td>\n",
       "      <td>0</td>\n",
       "      <td>NaN</td>\n",
       "      <td>NaN</td>\n",
       "      <td>2012-01-01 00:00:00</td>\n",
       "      <td>2017-02-11 23:10:00</td>\n",
       "      <td>00.Date and Time</td>\n",
       "      <td>Incident date and time</td>\n",
       "      <td>True</td>\n",
       "      <td>Full timestamp with date and time, eg 2007-04-...</td>\n",
       "      <td>datetime</td>\n",
       "    </tr>\n",
       "    <tr>\n",
       "      <th>3</th>\n",
       "      <td>day</td>\n",
       "      <td>244629</td>\n",
       "      <td>31</td>\n",
       "      <td>0</td>\n",
       "      <td>15.776833</td>\n",
       "      <td>8.811316</td>\n",
       "      <td>1</td>\n",
       "      <td>31</td>\n",
       "      <td>00.Date and Time</td>\n",
       "      <td>Incident date</td>\n",
       "      <td>True</td>\n",
       "      <td>day, extracted from CrimeDate</td>\n",
       "      <td>enum,1,2,3,4,5,6,7,8,9,10,11,12,13,14,15,16,17...</td>\n",
       "    </tr>\n",
       "    <tr>\n",
       "      <th>4</th>\n",
       "      <td>dayofweek</td>\n",
       "      <td>244629</td>\n",
       "      <td>7</td>\n",
       "      <td>0</td>\n",
       "      <td>NaN</td>\n",
       "      <td>NaN</td>\n",
       "      <td>Friday</td>\n",
       "      <td>Wednesday</td>\n",
       "      <td>00.Date and Time</td>\n",
       "      <td>Incident day of week</td>\n",
       "      <td>True</td>\n",
       "      <td>day of Week, calculated from datetime</td>\n",
       "      <td>enum,Sunday,Monday,Tuesday,Wednesday,Thursday,...</td>\n",
       "    </tr>\n",
       "    <tr>\n",
       "      <th>5</th>\n",
       "      <td>description</td>\n",
       "      <td>244629</td>\n",
       "      <td>8</td>\n",
       "      <td>0</td>\n",
       "      <td>NaN</td>\n",
       "      <td>NaN</td>\n",
       "      <td>Arson</td>\n",
       "      <td>Weapons</td>\n",
       "      <td>01.Incident</td>\n",
       "      <td>Incident description</td>\n",
       "      <td>True</td>\n",
       "      <td>Source Description. Map values {\"HOMICIDE\": \"H...</td>\n",
       "      <td>text</td>\n",
       "    </tr>\n",
       "    <tr>\n",
       "      <th>6</th>\n",
       "      <td>description_orig</td>\n",
       "      <td>244629</td>\n",
       "      <td>15</td>\n",
       "      <td>0</td>\n",
       "      <td>NaN</td>\n",
       "      <td>NaN</td>\n",
       "      <td>AGG. ASSAULT</td>\n",
       "      <td>SHOOTING</td>\n",
       "      <td>90.Baltimore (Unharmonized)</td>\n",
       "      <td>unknown</td>\n",
       "      <td>True</td>\n",
       "      <td>Source Description. Variable value unchanged f...</td>\n",
       "      <td>text</td>\n",
       "    </tr>\n",
       "    <tr>\n",
       "      <th>7</th>\n",
       "      <td>district</td>\n",
       "      <td>244159</td>\n",
       "      <td>9</td>\n",
       "      <td>470</td>\n",
       "      <td>NaN</td>\n",
       "      <td>NaN</td>\n",
       "      <td>CENTRAL</td>\n",
       "      <td>WESTERN</td>\n",
       "      <td>90.Baltimore (Unharmonized)</td>\n",
       "      <td>unknown</td>\n",
       "      <td>True</td>\n",
       "      <td>Source District. Variable value unchanged from...</td>\n",
       "      <td>text</td>\n",
       "    </tr>\n",
       "    <tr>\n",
       "      <th>8</th>\n",
       "      <td>geolocation</td>\n",
       "      <td>244629</td>\n",
       "      <td>89253</td>\n",
       "      <td>0</td>\n",
       "      <td>NaN</td>\n",
       "      <td>NaN</td>\n",
       "      <td>39.2004100000,-76.5560200000</td>\n",
       "      <td>39.3740700000,-76.6264100000</td>\n",
       "      <td>04.Location</td>\n",
       "      <td>Incident geoLocation coordinates</td>\n",
       "      <td>False</td>\n",
       "      <td>Source Location 1. geolocation format harmonis...</td>\n",
       "      <td>text</td>\n",
       "    </tr>\n",
       "    <tr>\n",
       "      <th>9</th>\n",
       "      <td>harmonizeddatapath</td>\n",
       "      <td>244629</td>\n",
       "      <td>1</td>\n",
       "      <td>0</td>\n",
       "      <td>NaN</td>\n",
       "      <td>NaN</td>\n",
       "      <td>s3://datasearch-blog2-jupyterspark-bec964uow-e...</td>\n",
       "      <td>s3://datasearch-blog2-jupyterspark-bec964uow-e...</td>\n",
       "      <td>99.Miscellaneous</td>\n",
       "      <td>S3 Path to harmonized dataset root prefix.</td>\n",
       "      <td>False</td>\n",
       "      <td>Assigned by harmonization code</td>\n",
       "      <td>text</td>\n",
       "    </tr>\n",
       "    <tr>\n",
       "      <th>10</th>\n",
       "      <td>hour</td>\n",
       "      <td>244629</td>\n",
       "      <td>24</td>\n",
       "      <td>0</td>\n",
       "      <td>13.306967</td>\n",
       "      <td>6.742414</td>\n",
       "      <td>0</td>\n",
       "      <td>23</td>\n",
       "      <td>00.Date and Time</td>\n",
       "      <td>Incident hour</td>\n",
       "      <td>True</td>\n",
       "      <td>hour, extracted from CrimeTime</td>\n",
       "      <td>enum,1,2,3,4,5,6,7,8,9,10,11,12,13,14,15,16,17...</td>\n",
       "    </tr>\n",
       "    <tr>\n",
       "      <th>11</th>\n",
       "      <td>insideoutside</td>\n",
       "      <td>238699</td>\n",
       "      <td>4</td>\n",
       "      <td>5930</td>\n",
       "      <td>NaN</td>\n",
       "      <td>NaN</td>\n",
       "      <td>I</td>\n",
       "      <td>Outside</td>\n",
       "      <td>90.Baltimore (Unharmonized)</td>\n",
       "      <td>Incident occurred inside or outside</td>\n",
       "      <td>True</td>\n",
       "      <td>Source Inside/Outside. Variable value unchange...</td>\n",
       "      <td>enum,I,Inside,O,Outside</td>\n",
       "    </tr>\n",
       "    <tr>\n",
       "      <th>12</th>\n",
       "      <td>location</td>\n",
       "      <td>244625</td>\n",
       "      <td>24699</td>\n",
       "      <td>4</td>\n",
       "      <td>NaN</td>\n",
       "      <td>NaN</td>\n",
       "      <td>\"2900 O\"\"DONNELL ST\"</td>\n",
       "      <td>YORK RD &amp; E 41ST ST</td>\n",
       "      <td>04.Location</td>\n",
       "      <td>Incident location/address</td>\n",
       "      <td>True</td>\n",
       "      <td>Source Location. Variable value unchanged from...</td>\n",
       "      <td>text</td>\n",
       "    </tr>\n",
       "    <tr>\n",
       "      <th>13</th>\n",
       "      <td>minute</td>\n",
       "      <td>244629</td>\n",
       "      <td>60</td>\n",
       "      <td>0</td>\n",
       "      <td>19.006639</td>\n",
       "      <td>18.294558</td>\n",
       "      <td>0</td>\n",
       "      <td>59</td>\n",
       "      <td>00.Date and Time</td>\n",
       "      <td>Incident minute</td>\n",
       "      <td>True</td>\n",
       "      <td>minute, extracted from CrimeTime</td>\n",
       "      <td>range,0,59,1</td>\n",
       "    </tr>\n",
       "    <tr>\n",
       "      <th>14</th>\n",
       "      <td>month</td>\n",
       "      <td>244629</td>\n",
       "      <td>12</td>\n",
       "      <td>0</td>\n",
       "      <td>6.579191</td>\n",
       "      <td>3.405180</td>\n",
       "      <td>1</td>\n",
       "      <td>12</td>\n",
       "      <td>00.Date and Time</td>\n",
       "      <td>Incident month</td>\n",
       "      <td>True</td>\n",
       "      <td>month, extracted from CrimeDate</td>\n",
       "      <td>enum,1,2,3,4,5,6,7,8,9,10,11,12</td>\n",
       "    </tr>\n",
       "    <tr>\n",
       "      <th>15</th>\n",
       "      <td>neighborhood</td>\n",
       "      <td>244159</td>\n",
       "      <td>278</td>\n",
       "      <td>470</td>\n",
       "      <td>NaN</td>\n",
       "      <td>NaN</td>\n",
       "      <td>Abell</td>\n",
       "      <td>York-Homeland</td>\n",
       "      <td>90.Baltimore (Unharmonized)</td>\n",
       "      <td>unknown</td>\n",
       "      <td>True</td>\n",
       "      <td>Source Neighborhood. Variable value unchanged ...</td>\n",
       "      <td>text</td>\n",
       "    </tr>\n",
       "    <tr>\n",
       "      <th>16</th>\n",
       "      <td>notebookhtml</td>\n",
       "      <td>244629</td>\n",
       "      <td>1</td>\n",
       "      <td>0</td>\n",
       "      <td>NaN</td>\n",
       "      <td>NaN</td>\n",
       "      <td>https://s3.amazonaws.com/datasearch-blog2-jupy...</td>\n",
       "      <td>https://s3.amazonaws.com/datasearch-blog2-jupy...</td>\n",
       "      <td>99.Miscellaneous</td>\n",
       "      <td>URL to Jupyter notebook containing documentati...</td>\n",
       "      <td>False</td>\n",
       "      <td>Assigned by harmonization code</td>\n",
       "      <td>text</td>\n",
       "    </tr>\n",
       "    <tr>\n",
       "      <th>17</th>\n",
       "      <td>post</td>\n",
       "      <td>244162</td>\n",
       "      <td>125</td>\n",
       "      <td>467</td>\n",
       "      <td>NaN</td>\n",
       "      <td>NaN</td>\n",
       "      <td>111</td>\n",
       "      <td>943</td>\n",
       "      <td>90.Baltimore (Unharmonized)</td>\n",
       "      <td>unknown</td>\n",
       "      <td>True</td>\n",
       "      <td>Source Post. Variable value unchanged from sou...</td>\n",
       "      <td>text</td>\n",
       "    </tr>\n",
       "    <tr>\n",
       "      <th>18</th>\n",
       "      <td>premise</td>\n",
       "      <td>238232</td>\n",
       "      <td>119</td>\n",
       "      <td>6397</td>\n",
       "      <td>NaN</td>\n",
       "      <td>NaN</td>\n",
       "      <td>ALLEY</td>\n",
       "      <td>YARD/BUSIN</td>\n",
       "      <td>90.Baltimore (Unharmonized)</td>\n",
       "      <td>unknown</td>\n",
       "      <td>True</td>\n",
       "      <td>Source Premise. Variable value unchanged from ...</td>\n",
       "      <td>text</td>\n",
       "    </tr>\n",
       "    <tr>\n",
       "      <th>19</th>\n",
       "      <td>rawdatapath</td>\n",
       "      <td>244629</td>\n",
       "      <td>1</td>\n",
       "      <td>0</td>\n",
       "      <td>NaN</td>\n",
       "      <td>NaN</td>\n",
       "      <td>s3://datasearch-blog2-jupyterspark-bec964uow-e...</td>\n",
       "      <td>s3://datasearch-blog2-jupyterspark-bec964uow-e...</td>\n",
       "      <td>99.Miscellaneous</td>\n",
       "      <td>S3 Path to raw dataset.</td>\n",
       "      <td>False</td>\n",
       "      <td>Assigned by harmonization code</td>\n",
       "      <td>text</td>\n",
       "    </tr>\n",
       "    <tr>\n",
       "      <th>20</th>\n",
       "      <td>totalincidents</td>\n",
       "      <td>244629</td>\n",
       "      <td>1</td>\n",
       "      <td>0</td>\n",
       "      <td>NaN</td>\n",
       "      <td>NaN</td>\n",
       "      <td>1</td>\n",
       "      <td>1</td>\n",
       "      <td>90.Baltimore (Unharmonized)</td>\n",
       "      <td>unknown</td>\n",
       "      <td>True</td>\n",
       "      <td>Source Total Incidents. Variable value unchang...</td>\n",
       "      <td>text</td>\n",
       "    </tr>\n",
       "    <tr>\n",
       "      <th>21</th>\n",
       "      <td>weapon</td>\n",
       "      <td>82872</td>\n",
       "      <td>4</td>\n",
       "      <td>161757</td>\n",
       "      <td>NaN</td>\n",
       "      <td>NaN</td>\n",
       "      <td>FIREARM</td>\n",
       "      <td>OTHER</td>\n",
       "      <td>90.Baltimore (Unharmonized)</td>\n",
       "      <td>unknown</td>\n",
       "      <td>True</td>\n",
       "      <td>Source Weapon. Variable value unchanged from s...</td>\n",
       "      <td>text</td>\n",
       "    </tr>\n",
       "    <tr>\n",
       "      <th>22</th>\n",
       "      <td>year</td>\n",
       "      <td>244629</td>\n",
       "      <td>6</td>\n",
       "      <td>0</td>\n",
       "      <td>2014.054503</td>\n",
       "      <td>1.474897</td>\n",
       "      <td>2012</td>\n",
       "      <td>2017</td>\n",
       "      <td>00.Date and Time</td>\n",
       "      <td>Incident year</td>\n",
       "      <td>True</td>\n",
       "      <td>year, extracted from CrimeDate</td>\n",
       "      <td>range,2000,2017,1</td>\n",
       "    </tr>\n",
       "  </tbody>\n",
       "</table>"
      ],
      "text/plain": [
       "<IPython.core.display.HTML object>"
      ]
     },
     "execution_count": 28,
     "metadata": {},
     "output_type": "execute_result"
    }
   ],
   "source": [
    "sql=\"SELECT * FROM %s.%s ORDER BY dict_field ASC\" % (schema, dict_table)\n",
    "# run query, convert results to a local pandas dataframe, and display as an HTML table.\n",
    "HTML(hc.sql(sql).toPandas().to_html())"
   ]
  },
  {
   "cell_type": "markdown",
   "metadata": {
    "deletable": true,
    "editable": true
   },
   "source": [
    "## Publish Notebook\n",
    "Save the notebook using javascript to trigger the save_checkpoint method.\n",
    "\n",
    "#### What does this do\n",
    "Convert notebook .ipny to html, and use hz.publishNotebookToS3 to copy the .ipny and .html files to the target S3 folder with web access enabled.\n",
    "\n",
    "#### Why are we doing this\n",
    "This provides a record within the UI of all the harmonization logic used to transform the raw data into what is exposed through the search and discovery tool. This record allows for easier verification, enhancements, or modifications of harmonization routines."
   ]
  },
  {
   "cell_type": "code",
   "execution_count": 29,
   "metadata": {
    "collapsed": false,
    "deletable": true,
    "editable": true
   },
   "outputs": [
    {
     "data": {
      "text/html": [
       "<!- SHOW / HIDE CODE TOGGLE ->\n",
       "<script>\n",
       "    var code_hide=true; //true -> hide code at first\n",
       "    function code_showhide_toggle() {\n",
       "        if (code_hide){\n",
       "            $('div.input').hide();\n",
       "            $('div.prompt').hide();\n",
       "        } else {\n",
       "            $('div.input').show();\n",
       "            $('div.prompt').show();\n",
       "        }\n",
       "        code_hide = !code_hide\n",
       "    }\n",
       "    $( document ).ready(code_showhide_toggle);\n",
       "</script>"
      ],
      "text/plain": [
       "<IPython.core.display.HTML object>"
      ]
     },
     "metadata": {},
     "output_type": "display_data"
    }
   ],
   "source": [
    "%%html\n",
    "<!- SHOW / HIDE CODE TOGGLE ->\n",
    "<script>\n",
    "    var code_hide=true; //true -> hide code at first\n",
    "    function code_showhide_toggle() {\n",
    "        if (code_hide){\n",
    "            $('div.input').hide();\n",
    "            $('div.prompt').hide();\n",
    "        } else {\n",
    "            $('div.input').show();\n",
    "            $('div.prompt').show();\n",
    "        }\n",
    "        code_hide = !code_hide\n",
    "    }\n",
    "    $( document ).ready(code_showhide_toggle);\n",
    "</script>"
   ]
  },
  {
   "cell_type": "code",
   "execution_count": 30,
   "metadata": {
    "collapsed": false,
    "deletable": true,
    "editable": true
   },
   "outputs": [
    {
     "name": "stdout",
     "output_type": "stream",
     "text": [
      "Mon Feb 20 15:31:54 UTC 2017\r\n"
     ]
    }
   ],
   "source": [
    "!date"
   ]
  },
  {
   "cell_type": "code",
   "execution_count": 31,
   "metadata": {
    "collapsed": false,
    "deletable": true,
    "editable": true
   },
   "outputs": [
    {
     "data": {
      "application/javascript": [
       "// save current notebook\n",
       "IPython.notebook.save_checkpoint()"
      ],
      "text/plain": [
       "<IPython.core.display.Javascript object>"
      ]
     },
     "metadata": {},
     "output_type": "display_data"
    }
   ],
   "source": [
    "%%javascript\n",
    "// save current notebook\n",
    "IPython.notebook.save_checkpoint()"
   ]
  },
  {
   "cell_type": "code",
   "execution_count": 32,
   "metadata": {
    "collapsed": false,
    "deletable": true,
    "editable": true
   },
   "outputs": [
    {
     "name": "stdout",
     "output_type": "stream",
     "text": [
      "[NbConvertApp] Converting notebook Baltimore-notebook.ipynb to html\n",
      "[NbConvertApp] Writing 383275 bytes to Baltimore-notebook.html\n"
     ]
    }
   ],
   "source": [
    "# convert ipynb to html, and move into subfolder\n",
    "!jupyter nbconvert --to html $citynotebook"
   ]
  },
  {
   "cell_type": "code",
   "execution_count": 33,
   "metadata": {
    "collapsed": false,
    "deletable": true,
    "editable": true
   },
   "outputs": [
    {
     "name": "stdout",
     "output_type": "stream",
     "text": [
      "Copy Baltimore-notebook.ipynb to s3://datasearch-blog2-jupyterspark-bec964uow-emrbucket-1nunsfhzqup3u/crimedata/harmonized/Baltimore/docs/Baltimore-notebook.ipynb\n",
      "URL: https://s3.amazonaws.com/datasearch-blog2-jupyterspark-bec964uow-emrbucket-1nunsfhzqup3u/crimedata/harmonized/Baltimore/docs/Baltimore-notebook.ipynb\n",
      "Copy Baltimore-notebook.html to s3://datasearch-blog2-jupyterspark-bec964uow-emrbucket-1nunsfhzqup3u/crimedata/harmonized/Baltimore/docs/Baltimore-notebook.html\n",
      "URL: https://s3.amazonaws.com/datasearch-blog2-jupyterspark-bec964uow-emrbucket-1nunsfhzqup3u/crimedata/harmonized/Baltimore/docs/Baltimore-notebook.html\n",
      "Move Baltimore-notebook.html to subfolder ./html\n"
     ]
    }
   ],
   "source": [
    "# copy saved notebook (ipynb and html formats) to target S3 bucket\n",
    "hz.publishNotebookToS3(outputpath_doc, notebook_urlbase, citynotebook) \n",
    "# move html copy of notebook into subfolder\n",
    "f = citynotebook + \".html\"\n",
    "print(\"Move {} to subfolder ./html\".format(f))\n",
    "!mkdir -p ./html\n",
    "os.rename(f,\"./html/{}\".format(f))"
   ]
  },
  {
   "cell_type": "code",
   "execution_count": 34,
   "metadata": {
    "collapsed": false,
    "deletable": true,
    "editable": true
   },
   "outputs": [
    {
     "name": "stdout",
     "output_type": "stream",
     "text": [
      "Notebook execution complete.\n"
     ]
    }
   ],
   "source": [
    "print(\"Notebook execution complete.\")"
   ]
  }
 ],
 "metadata": {
  "kernelspec": {
   "display_name": "Python 2",
   "language": "python",
   "name": "python2"
  },
  "language_info": {
   "codemirror_mode": {
    "name": "ipython",
    "version": 2
   },
   "file_extension": ".py",
   "mimetype": "text/x-python",
   "name": "python",
   "nbconvert_exporter": "python",
   "pygments_lexer": "ipython2",
   "version": "2.7.12"
  }
 },
 "nbformat": 4,
 "nbformat_minor": 1
}
