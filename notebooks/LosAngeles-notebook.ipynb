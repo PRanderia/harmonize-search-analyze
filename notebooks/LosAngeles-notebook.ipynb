{
 "cells": [
  {
   "cell_type": "code",
   "execution_count": 1,
   "metadata": {
    "collapsed": false
   },
   "outputs": [
    {
     "data": {
      "text/html": [
       "<a href=\"javascript:code_showhide_toggle()\">Show/Hide Code</a>"
      ],
      "text/plain": [
       "<IPython.core.display.HTML object>"
      ]
     },
     "metadata": {},
     "output_type": "display_data"
    }
   ],
   "source": [
    "%%html \n",
    "<a href=\"javascript:code_showhide_toggle()\">Show/Hide Code</a>"
   ]
  },
  {
   "cell_type": "markdown",
   "metadata": {},
   "source": [
    "# Harmonize and Index Los Angeles Crime Incident Dataset"
   ]
  },
  {
   "cell_type": "markdown",
   "metadata": {},
   "source": [
    "## Contents"
   ]
  },
  {
   "cell_type": "markdown",
   "metadata": {},
   "source": [
    "- [Introduction](#Introduction)\n",
    "- [Setup](#Setup)\n",
    "- [Load Input Data](#Load-Input-Data)\n",
    "- [Exploratory Analysis](#Exploratory-Analysis)\n",
    "- [Harmonize Variables](#Harmonize-Variables)\n",
    "- [Add metadata for additional variables](#Add-metadata-for-additional-variables)\n",
    "- [Generate Dictionary](#Generate-Dictionary)\n",
    "- [Save Data and Dictionary](#Save-Data-and-Dictionary)\n",
    "- [Create External Tables in Amazon Athena](#Create-External-Tables-in-Amazon-Athena)\n",
    "- [Index Data and Dictionary](#Index-Data-and-Dictionary)\n",
    "- [View Harmonized Data Sample](#View-Harmonized-Data-Sample)\n",
    "- [View Data Dictionary](#View-Data-Dictionary)\n",
    "- [Publish Notebook](#Publish-Notebook)"
   ]
  },
  {
   "cell_type": "markdown",
   "metadata": {},
   "source": [
    "## Introduction \n",
    "This notebook will illustrate use of Jupyter with PySpark to \n",
    "- harmonize crime datasets from multiple jurisdictions\n",
    "- add metadata to support a data driven search UI\n",
    "- create a data dictionary with metadata for each variable\n",
    "- save data and metadata as Spark SQL tables backed by (Athena compatible) Parquet files in S3\n",
    "- index data and metadata to support search\n",
    "- self-publish this notebook so it can be linked from the search UI to provide transparency and reproducability\n"
   ]
  },
  {
   "cell_type": "markdown",
   "metadata": {},
   "source": [
    "## Setup\n",
    "\n",
    "#### What does this do\n",
    "This sets up our environment variables to use for data input, output, indexing, etc..."
   ]
  },
  {
   "cell_type": "code",
   "execution_count": 2,
   "metadata": {
    "collapsed": false
   },
   "outputs": [
    {
     "name": "stdout",
     "output_type": "stream",
     "text": [
      "City: LosAngeles\n",
      "Notebook Name: LosAngeles-notebook\n",
      "Dataset URL: https://data.lacounty.gov/api/views/ca5f-5zzs/rows.csv?accessType=DOWNLOAD\n",
      "S3 dataset input: s3://datasearch-blog-jupyterspark-180dxejofo-emrbucket-1fvo1qv4b0l67/crimedata/raw/LosAngeles.csv\n",
      "Harmonized output: s3://datasearch-blog-jupyterspark-180dxejofo-emrbucket-1fvo1qv4b0l67/crimedata/harmonized/LosAngeles\n",
      "ElasticSearch Cluster: localhost.9200\n",
      "Setup & Initialization done\n"
     ]
    }
   ],
   "source": [
    "# CONFIGURATION VARIABLES\n",
    "city=\"LosAngeles\"\n",
    "cityurl=\"https://data.lacounty.gov/api/views/ca5f-5zzs/rows.csv?accessType=DOWNLOAD\"\n",
    "citynotebook=\"LosAngeles-notebook\"  # citynotebook is used to automatically publish the notebook at the end\n",
    "\n",
    "# location for raw (unprocessed) dataset in S3\n",
    "scratch_bucket=os.environ[\"S3_SCRATCH_BUCKET\"]\n",
    "datasets3 = \"s3://{0}/crimedata/raw/{1}.csv\".format(scratch_bucket, city)\n",
    "\n",
    "# locaton for harmonized (processed) dataset in S3. Structure is:\n",
    "#   outputroot\n",
    "#       |--- data - incidents - multiple CSV files\n",
    "#       |--- dictionary - incidents - CSV file containing data dictionary\n",
    "#       |--- doc - copy of notebook (published for web access)\n",
    "outputroot = \"s3://{0}/crimedata/harmonized/{1}\".format(scratch_bucket,city)\n",
    "outputpath_data = \"{}/data\".format(outputroot)\n",
    "outputpath_dictionary=\"{}/dictionary\".format(outputroot)\n",
    "outputpath_doc=\"{}/docs\".format(outputroot)\n",
    "notebook_urlbase = \"https://s3.amazonaws.com/{0}/{1}\".format(outputpath_doc.replace(\"s3://\",\"\"), citynotebook)\n",
    "\n",
    "# elasticsearch cluster endpoint\n",
    "# - use local proxy service (installed via an EMR bootstrap) which signs ES API calls using EMR EC2 role.\n",
    "esendpoint=\"localhost\"\n",
    "esport=9200\n",
    "\n",
    "# Summary of configuration\n",
    "print(\"City: {}\".format(city))\n",
    "print(\"Notebook Name: {}\".format(citynotebook))\n",
    "print(\"Dataset URL: {}\".format(cityurl))\n",
    "print(\"S3 dataset input: {}\".format(datasets3))\n",
    "print(\"Harmonized output: {}\".format(outputroot))\n",
    "print(\"ElasticSearch Cluster: {}.{}\".format(esendpoint, esport))\n",
    "print(\"Setup & Initialization done\")"
   ]
  },
  {
   "cell_type": "code",
   "execution_count": 3,
   "metadata": {
    "collapsed": false
   },
   "outputs": [
    {
     "name": "stdout",
     "output_type": "stream",
     "text": [
      "Initialization complete.\n"
     ]
    }
   ],
   "source": [
    "# INITIALIZATION - instantiate objects used by notebook\n",
    "\n",
    "%matplotlib inline\n",
    "from pyspark import SparkContext\n",
    "from pyspark.sql import HiveContext\n",
    "from pyspark.sql.functions import *\n",
    "from IPython.display import display, HTML\n",
    "import datetime\n",
    "import subprocess\n",
    "\n",
    "# elasticsearch and harmonization objects defined in ./lib/esindex.py and ./lib/harmonizeCrimeIncidents.py\n",
    "from lib.esindex import esindex\n",
    "from lib.harmonizeCrimeIncidents import harmonizeCrimeIncidents\n",
    "\n",
    "sc = SparkContext.getOrCreate()\n",
    "hc = HiveContext(sc)\n",
    "es = esindex(esendpoint)\n",
    "hz = harmonizeCrimeIncidents(hc)\n",
    "print(\"Initialization complete.\")"
   ]
  },
  {
   "cell_type": "markdown",
   "metadata": {},
   "source": [
    "## Load Input Data\n",
    "\n",
    "#### What does this do\n",
    "This takes a data source file, in our case a CSV file, and puts it into our S3 bucket for procssing. Once the source file is copied into the bucket, we will load the file into a Spark dataframe for analysis and processing."
   ]
  },
  {
   "cell_type": "code",
   "execution_count": 4,
   "metadata": {
    "collapsed": false
   },
   "outputs": [
    {
     "name": "stdout",
     "output_type": "stream",
     "text": [
      "Downloading /tmp/LosAngeles.csv from: https://data.lacounty.gov/api/views/ca5f-5zzs/rows.csv?accessType=DOWNLOAD\n",
      "Copying /tmp/LosAngeles.csv to: s3://datasearch-blog-jupyterspark-180dxejofo-emrbucket-1fvo1qv4b0l67/crimedata/raw/LosAngeles.csv\n"
     ]
    }
   ],
   "source": [
    "# Download & install dataset from website\n",
    "\n",
    "def copy_from_website_to_s3(city, cityurl, datasets3):\n",
    "    tmpfile=\"/tmp/{0}.csv\".format(city)\n",
    "    print(\"Downloading {0} from: {1}\".format(tmpfile, cityurl))\n",
    "    subprocess.check_output(\"curl {0} -o {1}\".format(cityurl, tmpfile).split())\n",
    "    print(\"Copying {0} to: {1}\".format(tmpfile, datasets3))\n",
    "    subprocess.check_output(\"aws s3 cp {0} {1} --sse AES256\".format(tmpfile, datasets3).split())\n",
    "    os.remove(tmpfile)\n",
    "    \n",
    "# uncomment if you want to re-download the dataset\n",
    "copy_from_website_to_s3(city, cityurl, datasets3)\n"
   ]
  },
  {
   "cell_type": "code",
   "execution_count": 5,
   "metadata": {
    "collapsed": false
   },
   "outputs": [
    {
     "name": "stdout",
     "output_type": "stream",
     "text": [
      "Loading dataset from S3\n",
      "Dataset LosAngeles: Loaded 172860 rows.\n"
     ]
    }
   ],
   "source": [
    "# Read input datasets as DataFrames\n",
    "# No need to infer schema - all variables typed as strings\n",
    "print(\"Loading dataset from S3\")\n",
    "df = hc.read.load( datasets3,\n",
    "                   format='com.databricks.spark.csv',\n",
    "                   header='true',\n",
    "                   inferSchema='false',\n",
    "                   delimiter=',') \n",
    "df_in=df # keep copy of raw data for reference\n",
    "print(\"Dataset {0}: Loaded {1} rows.\".format(city, df.count()))"
   ]
  },
  {
   "cell_type": "markdown",
   "metadata": {},
   "source": [
    "## Exploratory Analysis\n",
    "Edit as desired to interactively explore the data\n",
    "\n",
    "#### What does this do\n",
    "With the data source file loaded into a Spark Data Frame, you can get some details on the content of the data using methods from Spark, Pandas, and others. This is purely exploratory information to give users insights into the raw data set."
   ]
  },
  {
   "cell_type": "code",
   "execution_count": 6,
   "metadata": {
    "collapsed": false
   },
   "outputs": [
    {
     "data": {
      "text/plain": [
       "\"['CRIME_DATE', 'CRIME_YEAR', 'CRIME_CATEGORY_NUMBER', 'CRIME_CATEGORY_DESCRIPTION', 'STATISTICAL_CODE', 'STATISTICAL_CODE_DESCRIPTION', 'VICTIM_COUNT', 'STREET', 'CITY', 'STATE', 'ZIP', 'LATITUDE', 'LONGITUDE', 'GANG_RELATED', 'REPORTING_DISTRICT', 'STATION_IDENTIFIER', 'STATION_NAME', 'CRIME_IDENTIFIER', 'LOCATION']\""
      ]
     },
     "execution_count": 6,
     "metadata": {},
     "output_type": "execute_result"
    }
   ],
   "source": [
    "# examine column headers\n",
    "str(df.columns)"
   ]
  },
  {
   "cell_type": "code",
   "execution_count": 7,
   "metadata": {
    "collapsed": false
   },
   "outputs": [
    {
     "data": {
      "text/plain": [
       "[Row(CRIME_DATE=u'02/05/2016 11:02:34 AM', CRIME_YEAR=u'2016', CRIME_CATEGORY_NUMBER=u'23', CRIME_CATEGORY_DESCRIPTION=u'VEHICLE / BOATING LAWS', STATISTICAL_CODE=u'255', STATISTICAL_CODE_DESCRIPTION=u'VEHICLE AND BOATING LAWS: Misdemeanor', VICTIM_COUNT=u'1', STREET=None, CITY=None, STATE=None, ZIP=None, LATITUDE=None, LONGITUDE=None, GANG_RELATED=u'N', REPORTING_DISTRICT=u'6885', STATION_IDENTIFIER=u'CA0190031', STATION_NAME=u'TRANSIT SERV BUR', CRIME_IDENTIFIER=u'17631177', LOCATION=None),\n",
       " Row(CRIME_DATE=u'12/17/2016 02:12:41 PM', CRIME_YEAR=u'2016', CRIME_CATEGORY_NUMBER=u'20', CRIME_CATEGORY_DESCRIPTION=u'VAGRANCY', STATISTICAL_CODE=u'222', STATISTICAL_CODE_DESCRIPTION=u'VAGRANCY/QUALITY OF LIFE:Illegal Vending', VICTIM_COUNT=u'1', STREET=None, CITY=None, STATE=None, ZIP=None, LATITUDE=None, LONGITUDE=None, GANG_RELATED=u'N', REPORTING_DISTRICT=u'2170', STATION_IDENTIFIER=u'CA01900V3', STATION_NAME=u'CENTURY', CRIME_IDENTIFIER=u'17998329', LOCATION=None)]"
      ]
     },
     "execution_count": 7,
     "metadata": {},
     "output_type": "execute_result"
    }
   ],
   "source": [
    "# look at first 2 rows\n",
    "df.head(2)"
   ]
  },
  {
   "cell_type": "code",
   "execution_count": 8,
   "metadata": {
    "collapsed": false
   },
   "outputs": [
    {
     "name": "stdout",
     "output_type": "stream",
     "text": [
      "+----------------------------+\n",
      "|CRIME_CATEGORY_DESCRIPTION  |\n",
      "+----------------------------+\n",
      "|VEHICLE / BOATING LAWS      |\n",
      "|LIQUOR LAWS                 |\n",
      "|CRIMINAL HOMICIDE           |\n",
      "|FRAUD AND NSF CHECKS        |\n",
      "|OFFENSES AGAINST FAMILY     |\n",
      "|null                        |\n",
      "|FELONIES MISCELLANEOUS      |\n",
      "|WARRANTS                    |\n",
      "|FEDERAL OFFENSES WITH MONEY |\n",
      "|ARSON                       |\n",
      "|AGGRAVATED ASSAULT          |\n",
      "|GAMBLING                    |\n",
      "|LARCENY THEFT               |\n",
      "|DRUNK DRIVING VEHICLE / BOAT|\n",
      "|SEX OFFENSES FELONIES       |\n",
      "|SEX OFFENSES MISDEMEANORS   |\n",
      "|DRUNK / ALCOHOL / DRUGS     |\n",
      "|FORGERY                     |\n",
      "|WEAPON LAWS                 |\n",
      "|MISDEMEANORS MISCELLANEOUS  |\n",
      "+----------------------------+\n",
      "only showing top 20 rows\n",
      "\n"
     ]
    }
   ],
   "source": [
    "# look at the distinct values for 'CRIME_CATEGORY_DESCRIPTION'\n",
    "df.select('CRIME_CATEGORY_DESCRIPTION').distinct().show(truncate=False)"
   ]
  },
  {
   "cell_type": "code",
   "execution_count": 9,
   "metadata": {
    "collapsed": false
   },
   "outputs": [
    {
     "data": {
      "image/png": "[encoded data removed]",
      "text/plain": [
       "<matplotlib.figure.Figure at 0x7f5d481edd10>"
      ]
     },
     "metadata": {},
     "output_type": "display_data"
    }
   ],
   "source": [
    "# Graph incident count by Description\n",
    "descr = df.select('CRIME_CATEGORY_DESCRIPTION').toPandas()\n",
    "descrGrp = descr.groupby('CRIME_CATEGORY_DESCRIPTION').size().rename('counts')\n",
    "descrPlot = descrGrp.plot(kind='bar')"
   ]
  },
  {
   "cell_type": "markdown",
   "metadata": {},
   "source": [
    "## Harmonize Variables"
   ]
  },
  {
   "cell_type": "markdown",
   "metadata": {},
   "source": [
    "Standard harmonised variables for crime incident datasets are defined in ./lib/harmonizeCrimeIncidents.py\n",
    "(You can open this module in JupyterNB, and modify the variable list and associated standard variable metadata as required) \n",
    "\n",
    "#### What does this do\n",
    "Harmonization is the process of mapping the raw variables of each incoming dataset to use the standard 'harmonized' \n",
    "variables and associated units of measurement, as much as possible. Harmonized datasets support cross-dataset search as well as the ability to combine/union datasets to perform multi dataset analysis and research.\n",
    "\n",
    "See examples below for how to generate new variables from existing variables, and how to manipulate variable values. The hz (harmonizeCrimeIncidents) class provides methods to help abstract the code for some common actions. \n",
    "\n",
    "#### Why are we doing this\n",
    "A core challenge when combining loosely coupled in a combined search index is dealing with different names for the same attribute. For example \"Sex\" versus \"Gender\" or \"48in\" versus \"4ft\". We have a pre-defined set of standard variable names and types that we are using for our search page, the harmonization process ensures that attributes and values in the raw data files to match that predifined set to allow for a consistent search tool across multiple data sets."
   ]
  },
  {
   "cell_type": "code",
   "execution_count": 10,
   "metadata": {
    "collapsed": false
   },
   "outputs": [
    {
     "name": "stdout",
     "output_type": "stream",
     "text": [
      "New variable <location> created from <STREET>\n",
      "Dropped variable <STREET>\n",
      "New variable <neighbourhood> created from <STATION_NAME>\n",
      "New variable <crime_date> created from <CRIME_DATE>\n",
      "New variable <crime_year> created from <CRIME_YEAR>\n",
      "New variable <crime_category_number> created from <CRIME_CATEGORY_NUMBER>\n",
      "New variable <crime_category_description> created from <CRIME_CATEGORY_DESCRIPTION>\n",
      "New variable <statistical_code> created from <STATISTICAL_CODE>\n",
      "New variable <statistical_code_description> created from <STATISTICAL_CODE_DESCRIPTION>\n",
      "New variable <victim_count> created from <VICTIM_COUNT>\n",
      "New variable <city> created from <CITY>\n",
      "New variable <state> created from <STATE>\n",
      "New variable <zip> created from <ZIP>\n",
      "New variable <latitude> created from <LATITUDE>\n",
      "New variable <longitude> created from <LONGITUDE>\n",
      "New variable <gang_related> created from <GANG_RELATED>\n",
      "New variable <reporting_district> created from <REPORTING_DISTRICT>\n",
      "New variable <station_identifier> created from <STATION_IDENTIFIER>\n",
      "New variable <station_name> created from <STATION_NAME>\n",
      "New variable <crime_identifier> created from <CRIME_IDENTIFIER>\n"
     ]
    }
   ],
   "source": [
    "# Use hz.mapVar(old,new, keepOrig=False) to create new variables from the original variables, by default dropping \n",
    "# the original variable. Use keepOrig=True argument to keep the original variable in the dataset.\n",
    "# Metadata for the transformation will be captured and included in the data dictionary\n",
    "\n",
    "df = hz.mapVar(df, \"STREET\", \"location\")\n",
    "df = hz.mapVar(df, \"STATION_NAME\", \"neighbourhood\", keepOrig=True)\n",
    "\n",
    "# Rename any variables that have illegal names \n",
    "# no illegal characters or spaces (required to support parquet output format)\n",
    "# all lowercase variable names (required to provide compatibility with Amazon Athena)\n",
    "df = hz.makeValidVariableNames(df)"
   ]
  },
  {
   "cell_type": "code",
   "execution_count": 11,
   "metadata": {
    "collapsed": false
   },
   "outputs": [
    {
     "name": "stdout",
     "output_type": "stream",
     "text": [
      "New variable <Description> created from <CRIME_CATEGORY_DESCRIPTION>\n",
      "Values for description converted per supplied mapping\n"
     ]
    }
   ],
   "source": [
    "# Harmonize Description variable to standard values.\n",
    "df = hz.mapVar(df, \"CRIME_CATEGORY_DESCRIPTION\", \"Description\", keepOrig=True)  # make a new copy of Description variable, original renamed\n",
    "# map value to standard descriptions\n",
    "descrMappings = {\n",
    "    \"AGGRAVATED ASSAULT\" : \"Assault\",\n",
    "    \"ARSON\" : \"Arson\",\n",
    "    \"BURGLARY\" : \"Burglary\",\n",
    "    \"CRIMINAL HOMICIDE\" : \"Homicide\",\n",
    "    \"DISORDERLY CONDUCT\" : \"Miscellaneous\",\n",
    "    \"DRUNK / ALCOHOL / DRUGS\" : \"OUI\",\n",
    "    \"DRUNK DRIVING VEHICLE / BOAT\" : \"OUI\",\n",
    "    \"FEDERAL OFFENSES W/O MONEY\" : \"Miscellaneous\",\n",
    "    \"FEDERAL OFFENSES WITH MONEY\" : \"Miscellaneous\",\n",
    "    \"FELONIES MISCELLANEOUS\" : \"Miscellaneous\",\n",
    "    \"FORCIBLE RAPE\" : \"Rape\",\n",
    "    \"FORGERY\" : \"Miscellaneous\",\n",
    "    \"FRAUD AND NSF CHECKS\" : \"Fraud\",\n",
    "    \"GAMBLING\" : \"Miscellaneous\",\n",
    "    \"GRAND THEFT AUTO\" : \"Vehicle Theft\",\n",
    "    \"LARCENY THEFT\" : \"Theft\",\n",
    "    \"LIQUOR LAWS\" : \"Miscellaneous\",\n",
    "    \"MISDEMEANORS MISCELLANEOUS\" : \"Miscellaneous\",\n",
    "    \"NARCOTICS\" : \"Narcotics\",\n",
    "    \"NON-AGGRAVATED ASSAULTS\" : \"Assault\",\n",
    "    \"OFFENSES AGAINST FAMILY\" : \"Miscellaneous\",\n",
    "    \"RECEIVING STOLEN PROPERTY\" : \"Miscellaneous\",\n",
    "    \"ROBBERY\" : \"Robbery\",\n",
    "    \"SEX OFFENSES FELONIES\" : \"Sex Offenses\",\n",
    "    \"SEX OFFENSES MISDEMEANORS\" : \"Sex Offenses\",\n",
    "    \"VAGRANCY\" : \"Miscellaneous\",\n",
    "    \"VANDALISM\" : \"Miscellaneous\",\n",
    "    \"VEHICLE / BOATING LAWS\" : \"Miscellaneous\",\n",
    "    \"WARRANTS\" : \"Miscellaneous\",\n",
    "    \"WEAPON LAWS\" : \"Weapons\"\n",
    "}\n",
    "df = hz.mapValues(df, \"description\", descrMappings)"
   ]
  },
  {
   "cell_type": "code",
   "execution_count": 12,
   "metadata": {
    "collapsed": false
   },
   "outputs": [
    {
     "name": "stdout",
     "output_type": "stream",
     "text": [
      "Add 'city' variable\n"
     ]
    }
   ],
   "source": [
    "# Add city variable. All rows are given the value of the current city name\n",
    "df = df.withColumn('city', lit(city)) \n",
    "\n",
    "# Add TransformDescr metadata field\n",
    "hz.addTransformDescr('city','\"city\" assigned by harmonization code')\n",
    "print(\"Add 'city' variable\")"
   ]
  },
  {
   "cell_type": "markdown",
   "metadata": {},
   "source": [
    "Cleanup and harmonise geographic co-ordinate variables. \n",
    "As we can see below, both latitude and longitude variables have rows with invalid values - empty strings and invalid coordinates.\n",
    "For this example we will simply remove those rows from our dataset, in order to avoid constructing invalid geo-point coordinates that will cause failuers when attempting to index into elasticsearch later."
   ]
  },
  {
   "cell_type": "code",
   "execution_count": 13,
   "metadata": {
    "collapsed": false
   },
   "outputs": [
    {
     "name": "stdout",
     "output_type": "stream",
     "text": [
      "+--------------------+\n",
      "|            latitude|\n",
      "+--------------------+\n",
      "|                null|\n",
      "|-148729881.698397...|\n",
      "|-148729881.720660...|\n",
      "|-148729881.725253...|\n",
      "|-148729881.741598...|\n",
      "|-148729881.970412...|\n",
      "|-148729882.011821...|\n",
      "|-148729882.042453...|\n",
      "|  33.333295355757807|\n",
      "|  33.335784313433094|\n",
      "+--------------------+\n",
      "only showing top 10 rows\n",
      "\n"
     ]
    }
   ],
   "source": [
    "df.select('latitude').distinct().sort('latitude', ascending=True).show(10)"
   ]
  },
  {
   "cell_type": "code",
   "execution_count": 14,
   "metadata": {
    "collapsed": false
   },
   "outputs": [
    {
     "name": "stdout",
     "output_type": "stream",
     "text": [
      "+--------------------+\n",
      "|           longitude|\n",
      "+--------------------+\n",
      "|                null|\n",
      "|-117.655767442441663|\n",
      "|-117.655835654548161|\n",
      "|-117.655874238324889|\n",
      "|-117.657129324924499|\n",
      "|-117.660092027012396|\n",
      "|-117.660094787095011|\n",
      "|-117.661437005844522|\n",
      "|-117.662237245315054|\n",
      "|-117.666570005900531|\n",
      "+--------------------+\n",
      "only showing top 10 rows\n",
      "\n"
     ]
    }
   ],
   "source": [
    "df.select('longitude').distinct().sort('longitude', ascending=True).show(10)"
   ]
  },
  {
   "cell_type": "code",
   "execution_count": 15,
   "metadata": {
    "collapsed": false
   },
   "outputs": [
    {
     "name": "stdout",
     "output_type": "stream",
     "text": [
      "Deleted 11421 rows with corrupted coordinates in latitude and longitude\n"
     ]
    }
   ],
   "source": [
    "# filter out records with invalid latitude or longitude coordinates\n",
    "c1 = df.count()\n",
    "# eliminate empty & null values\n",
    "df = df.where(length('latitude') > 0).where(length('longitude') > 0)\n",
    "# eliminate invalid (negative) latitude values.. All northen hemisphere values expected to be postive\n",
    "df = df.where(df.latitude > 0)\n",
    "c2 = df.count()\n",
    "print(\"Deleted {} rows with corrupted coordinates in latitude and longitude\".format(c1-c2))"
   ]
  },
  {
   "cell_type": "code",
   "execution_count": 16,
   "metadata": {
    "collapsed": false
   },
   "outputs": [
    {
     "name": "stdout",
     "output_type": "stream",
     "text": [
      "Generated Harmonized geolocation variable, and dropped original latitude and longitude variables\n"
     ]
    }
   ],
   "source": [
    "# Format GeoLocation field by combining latitude and longitude\n",
    "df = df.withColumn('geolocation', concat(df.latitude, lit(','),df.longitude)) \n",
    "df = df.drop('latitude').drop('longitude')\n",
    "hz.addTransformDescr('geolocation','geolocation variable created from latitude and longitude variables')\n",
    "print(\"Generated Harmonized geolocation variable, and dropped original latitude and longitude variables\")"
   ]
  },
  {
   "cell_type": "code",
   "execution_count": 17,
   "metadata": {
    "collapsed": false
   },
   "outputs": [
    {
     "name": "stdout",
     "output_type": "stream",
     "text": [
      "Harmonized date & time variables\n"
     ]
    }
   ],
   "source": [
    "# Generate standard datetime, date part, and time part fields from raw crime_date field\n",
    "# for simplicity we will keep all times in localtime (ignoring timezones)\n",
    "\n",
    "# Split crime_date into year, month, day (all defined as harmonized variables in the hz class)\n",
    "# crime_date is formatted as month/day/year hour:minute AM|PM\n",
    "regex=r'(\\d+)/(\\d+)/(\\d+) (\\d+):(\\d+):(\\d+) (\\w\\w)'\n",
    "df = df.withColumn('month', regexp_extract('crime_date', regex, 1))\n",
    "hz.addTransformDescr('month','month, extracted from crime_date')\n",
    "\n",
    "df = df.withColumn('day', regexp_extract('crime_date', regex, 2))\n",
    "hz.addTransformDescr('day','day, extracted from crime_date')\n",
    "\n",
    "df = df.withColumn('year', regexp_extract('crime_date', regex, 3))\n",
    "hz.addTransformDescr('year','year, extracted from crime_date')\n",
    "\n",
    "df = df.withColumn('hour', regexp_extract('crime_date', regex, 4))   \n",
    "\n",
    "df = df.withColumn('hour', regexp_replace('hour', '24', '00')) \n",
    "hz.addTransformDescr('hour','hour, extracted from crime_date')\n",
    "\n",
    "df = df.withColumn('minute', regexp_extract('crime_date', regex, 5)) \n",
    "hz.addTransformDescr('minute','minute, extracted from crime_date')\n",
    "\n",
    "df = df.withColumn('AMPM', regexp_extract('crime_date', regex, 7)) \n",
    "\n",
    "# Convert hour to 24hr format\n",
    "df = df.withColumnRenamed('hour', 'hour_tmp')\n",
    "selectExpr = \"IF( ampm = 'PM', cast((cast(hour_tmp as int) + 12) as string), hour_tmp ) AS hour\"\n",
    "df=df.selectExpr(selectExpr,\"*\").drop('hour_tmp').drop('ampm')  \n",
    "df = df.withColumn('hour', regexp_replace('hour', '24', '00'))  # replace 24:00 with 00:00\n",
    "\n",
    "# Create new datetime field in format YYYY-MM-DD hhmm (defined as a harmonized variable in the hz class)\n",
    "df = df.withColumn('datetime',concat(concat_ws('-',df.year,df.month,df.day),lit(' '),concat_ws(':',df.hour,df.minute,lit('00'))).cast(\"timestamp\"))\n",
    "hz.addTransformDescr('datetime','Full timestamp with date and time, eg 2007-04-05 14:30')  \n",
    "\n",
    "# Drop the original crime_date and CRIME_YEAR variables - no longer needed\n",
    "df = df.drop('crime_date').drop('crime_year')\n",
    "\n",
    "# Cast all the date time part fields from string to int (allows use of numeric range filters in the search UI)\n",
    "for col in ['year','month','day','hour','minute']:\n",
    "    df = df.withColumn(col, df[col].cast(\"int\"))\n",
    "\n",
    "# Add dayofweek variable, eg Monday, Tuesday, etc. (defined as a harmonized variable in the hz class)\n",
    "df = df.withColumn('dayofweek',date_format('datetime', 'EEEE'))\n",
    "hz.addTransformDescr('dayofweek','day of Week, calculated from datetime')  \n",
    "\n",
    "print(\"Harmonized date & time variables\")"
   ]
  },
  {
   "cell_type": "code",
   "execution_count": 18,
   "metadata": {
    "collapsed": false
   },
   "outputs": [
    {
     "name": "stdout",
     "output_type": "stream",
     "text": [
      "+---------------------+\n",
      "|datetime             |\n",
      "+---------------------+\n",
      "|2016-06-11 23:06:00.0|\n",
      "|2016-07-21 09:07:00.0|\n",
      "+---------------------+\n",
      "only showing top 2 rows\n",
      "\n"
     ]
    }
   ],
   "source": [
    "df.select('datetime').show(2,truncate=False)"
   ]
  },
  {
   "cell_type": "code",
   "execution_count": 19,
   "metadata": {
    "collapsed": false
   },
   "outputs": [
    {
     "name": "stdout",
     "output_type": "stream",
     "text": [
      "Added dataset descriptive variables\n"
     ]
    }
   ],
   "source": [
    "# Add dataset descriptive variables (defined in hz class). \n",
    "\n",
    "# location of raw data\n",
    "df = df.withColumn('rawdatapath', lit(datasets3))\n",
    "hz.addTransformDescr('rawdatapath','Assigned by harmonization code')\n",
    "\n",
    "# location of harmonized data\n",
    "df = df.withColumn('harmonizeddatapath', lit(outputroot))\n",
    "hz.addTransformDescr('harmonizeddatapath','Assigned by harmonization code')\n",
    "\n",
    "# URL for this notoebook (notebook will be saved/published using cells at the end of the notebook)\n",
    "df = df.withColumn('notebookhtml', lit(notebook_urlbase + \".html\"))\n",
    "hz.addTransformDescr('notebookhtml','Assigned by harmonization code')\n",
    "\n",
    "print(\"Added dataset descriptive variables\")"
   ]
  },
  {
   "cell_type": "markdown",
   "metadata": {},
   "source": [
    "# Add metadata for additional variables\n",
    "Create some additional variables for this specific data set.\n",
    "\n",
    "Here we can assign a default 'vargroup' for all variables that are not part of the defined list of harmonized variables in the hz class, using the hz.addVarGroup() method.\n",
    "(The 'vargroup' is used by the search UI to group variables under 'accordian' panels in the search page side bar).\n",
    "\n",
    "We can also assign custom metadata to selected unharmonized variables as desired. NOTE:\n",
    " - default metadata for harmonized variables is defined in the hz class already, so we can ignore those\n",
    " - unharmonized variables will be assigned default metadata automatically when we build the data dictionary below using hz.buildDataDict(). However, you might want to explicitly assign metadata to selected variables to control the search UI widget type, and/or to add descriptions to the dictionary.\n",
    " \n",
    "#### What does this do\n",
    "This process adds customized search parameters to this specific data set in the UI that aren't part of our standard set.\n",
    "\n",
    "#### Why are we doing this\n",
    "Not all individual variables within a single data set are always valuable on their own. Some need some additional logic or combination to make search and discovery a better experience. This process allows the harmonization routine to apply that logic and expose it within the UI"
   ]
  },
  {
   "cell_type": "code",
   "execution_count": 20,
   "metadata": {
    "collapsed": false
   },
   "outputs": [
    {
     "name": "stdout",
     "output_type": "stream",
     "text": [
      "Values for gang_related converted per supplied mapping\n",
      "Converted variable <gang_related> to boolean and added metadata\n"
     ]
    }
   ],
   "source": [
    "# vargroups are used to define the Search Filter UI 'accordians' and their order\n",
    "# set default variable group - used if variable is not exicitly assigned to a group\n",
    "defaultVarGroup = \"{0} (Unharmonized)\".format(city)\n",
    "hz.addVarGroup(defaultVarGroup,order=90,default=True)\n",
    "\n",
    "# Metadata for the harmonized variables is already defined in 'hz' class.\n",
    "# Use hz.addVarMetadata() to add metadata for additional (non harmonized) variables to control\n",
    "# how they are presented in the data dictionary and search UI.\n",
    "\n",
    "# Here, \"GANG_RELATED\" is not defined as one of the standard harmonized variables, but we can configure how it will be \n",
    "## handled in the filter UI by setting metadata here.\n",
    "# First, convert the Y/N values to 1|0 (true|false) and cast to int, to support a boolean selector\n",
    "df = hz.mapValues(df, \"gang_related\", {\"Y\":1,\"N\":0})\n",
    "df = df.withColumn('gang_related', df['gang_related'].cast(\"int\"))\n",
    "# Then set 'type' to boolean, which will generate a True/False selector in the UI. \n",
    "hz.addVarMetadata(\"gang_related\", \n",
    "                 vargroup=defaultVarGroup, \n",
    "                 type=\"boolean\", \n",
    "                 descr=\"Incident is gang related?\", \n",
    "                 uifilter=True)\n",
    "print(\"Converted variable <gang_related> to boolean and added metadata\")"
   ]
  },
  {
   "cell_type": "code",
   "execution_count": 21,
   "metadata": {
    "collapsed": false
   },
   "outputs": [
    {
     "data": {
      "text/plain": [
       "[Row(gang_related=0, hour=23, description=u'Miscellaneous', crime_category_number=u'23', crime_category_description=u'VEHICLE / BOATING LAWS', statistical_code=u'250', statistical_code_description=u'VEHICLE AND BOATING LAWS: Hit And Run, Misdemeanor', victim_count=u'1', city=u'LosAngeles', state=u'CA', zip=None, reporting_district=u'2290', station_identifier=u'CA0190022', station_name=u'MALIBU/LOST HILLS', crime_identifier=u'17788596', location=u'PENLAND RD AND LONG VALLEY RD', neighbourhood=u'MALIBU/LOST HILLS', geolocation=u'34.162644982309975,-118.651741997145288', month=6, day=11, year=2016, minute=6, datetime=datetime.datetime(2016, 6, 11, 23, 6), dayofweek=u'Saturday', rawdatapath=u's3://datasearch-blog-jupyterspark-180dxejofo-emrbucket-1fvo1qv4b0l67/crimedata/raw/LosAngeles.csv', harmonizeddatapath=u's3://datasearch-blog-jupyterspark-180dxejofo-emrbucket-1fvo1qv4b0l67/crimedata/harmonized/LosAngeles', notebookhtml=u'https://s3.amazonaws.com/datasearch-blog-jupyterspark-180dxejofo-emrbucket-1fvo1qv4b0l67/crimedata/harmonized/LosAngeles/docs/LosAngeles-notebook.html'),\n",
       " Row(gang_related=0, hour=9, description=u'Theft', crime_category_number=u'6', crime_category_description=u'LARCENY THEFT', statistical_code=u'340', statistical_code_description=u'VEHICLE BURGLARY: Auto/Passenger Van Burglary', victim_count=u'1', city=u'LosAngeles', state=u'CA', zip=u'91011', reporting_district=u'1264', station_identifier=u'CA0190012', station_name=u'CRESCENTA VALLEY', crime_identifier=u'17848877', location=u'4490 CORNISHON AVE', neighbourhood=u'CRESCENTA VALLEY', geolocation=u'34.205662739282817,-118.203612006911255', month=7, day=21, year=2016, minute=7, datetime=datetime.datetime(2016, 7, 21, 9, 7), dayofweek=u'Thursday', rawdatapath=u's3://datasearch-blog-jupyterspark-180dxejofo-emrbucket-1fvo1qv4b0l67/crimedata/raw/LosAngeles.csv', harmonizeddatapath=u's3://datasearch-blog-jupyterspark-180dxejofo-emrbucket-1fvo1qv4b0l67/crimedata/harmonized/LosAngeles', notebookhtml=u'https://s3.amazonaws.com/datasearch-blog-jupyterspark-180dxejofo-emrbucket-1fvo1qv4b0l67/crimedata/harmonized/LosAngeles/docs/LosAngeles-notebook.html')]"
      ]
     },
     "execution_count": 21,
     "metadata": {},
     "output_type": "execute_result"
    }
   ],
   "source": [
    "df.head(2)"
   ]
  },
  {
   "cell_type": "markdown",
   "metadata": {},
   "source": [
    "## Generate Dictionary\n",
    "Generate a dictionary table containing field distribution stats and metadata data from the mappings \n",
    "\n",
    "#### What does this do\n",
    "All variables that a) don't match standard harmonized variables, and b) don't have added metadata will be assigned to the default vargroup, and the variable type will be derived from the data distribution characteristics, calculated by hz.buildDataDict().\n",
    "\n",
    "#### Why are we doing this\n",
    "The data dictionary is used to generate dynamic search widgets and tools based on the data sets themselves. By basing our search widgets on the data itself, rather than hard-coded, it allows the search UI to update based on available data."
   ]
  },
  {
   "cell_type": "code",
   "execution_count": 22,
   "metadata": {
    "collapsed": false
   },
   "outputs": [
    {
     "name": "stdout",
     "output_type": "stream",
     "text": [
      "Data Dictionary created.\n"
     ]
    }
   ],
   "source": [
    "df_dict = hz.buildDataDict(df)\n",
    "print(\"Data Dictionary created.\")"
   ]
  },
  {
   "cell_type": "markdown",
   "metadata": {},
   "source": [
    "## Save Data and Dictionary\n",
    "Use the hiveContext object 'hc' to create a new schema for this city, and save the data dafarame and dictionary dataframe as tables in this schema with the hz.saveAsParquetTable() method. \n",
    "\n",
    "#### What does this do\n",
    "Data and the associated dictionary information is saved to the S3 output path as parquet files.\n",
    "\n",
    "#### Why are we doing this\n",
    "This allows the tables we've created or modified through harmonization to be easily restored, combined, and analysed using SQL."
   ]
  },
  {
   "cell_type": "code",
   "execution_count": 23,
   "metadata": {
    "collapsed": false
   },
   "outputs": [
    {
     "name": "stdout",
     "output_type": "stream",
     "text": [
      "Creating Spark SQL table: incidents.losangeles\n",
      "Creating Spark SQL table: incidents.losangeles_dict\n",
      "Done creating tables\n"
     ]
    }
   ],
   "source": [
    "# Drop and create schema\n",
    "schema=\"incidents\"\n",
    "hc.sql(\"DROP SCHEMA IF EXISTS {0} CASCADE\".format(schema))\n",
    "hc.sql(\"CREATE SCHEMA {0} COMMENT 'Crime incident data for {0}'\".format(schema))\n",
    "\n",
    "# Create Incident Data as SparkSQL table with S3 backed storage\n",
    "data_table=city.lower()\n",
    "data_table_ddl=hz.saveAsParquetTable(df,schema,data_table,outputpath_data)\n",
    "\n",
    "# Create Dictionary as SparkSQL table with S3 backed storage\n",
    "dict_table = data_table+\"_dict\"\n",
    "dict_table_ddl=hz.saveAsParquetTable(df_dict.coalesce(1),schema,dict_table,outputpath_dictionary)\n",
    "\n",
    "print \"Done creating tables\""
   ]
  },
  {
   "cell_type": "markdown",
   "metadata": {},
   "source": [
    "## Create External Tables in Amazon Athena\n",
    "\n",
    "#### What does this do\n",
    "\n",
    "The S3 parquet files containing the harmonizd data are registered as Amazon Athena external tables.\n",
    "\n",
    "#### Why are we doing this\n",
    "\n",
    "You can use Amazon Athena to perform detailed ad-hoc analysis of this and other harmonised datasets using the familiar power of SQL. Using Athena also allows you to easily integrate the dataset with Amazon Quicksight where you can create visual analyses and dashboards."
   ]
  },
  {
   "cell_type": "code",
   "execution_count": 24,
   "metadata": {
    "collapsed": false
   },
   "outputs": [
    {
     "name": "stdout",
     "output_type": "stream",
     "text": [
      "Exectuting Athena DDL: CREATE DATABASE IF NOT EXISTS `incidents`;\n",
      "Exectuting Athena DDL: DROP TABLE IF EXISTS `incidents`.`losangeles`;\n",
      "Exectuting Athena DDL: DROP TABLE IF EXISTS `incidents`.`losangeles_dict`;\n",
      "Exectuting Athena DDL: CREATE EXTERNAL TABLE `incidents`.`losangeles` (`gang_related` INT, `hour` INT, `description` STRING, `crime_category_number` STRING, `crime_category_description` STRING, `statistical_code` STRING, `statistical_code_description` STRING, `victim_count` STRING, `city` STRING, `state` STRING, `zip` STRING, `reporting_district` STRING, `station_identifier` STRING, `station_name` STRING, `crime_identifier` STRING, `location` STRING, `neighbourhood` STRING, `geolocation` STRING, `month` INT, `day` INT, `year` INT, `minute` INT, `datetime` TIMESTAMP, `dayofweek` STRING, `rawdatapath` STRING, `harmonizeddatapath` STRING, `notebookhtml` STRING)\n",
      "STORED AS parquet\n",
      "LOCATION 's3://datasearch-blog-jupyterspark-180dxejofo-emrbucket-1fvo1qv4b0l67/crimedata/harmonized/LosAngeles/data/table=losangeles/';\n",
      "Exectuting Athena DDL: CREATE EXTERNAL TABLE `incidents`.`losangeles_dict` (`dict_field` STRING, `dict_count` BIGINT, `dict_countdistinct` BIGINT, `dict_countmissing` BIGINT, `dict_mean` DOUBLE, `dict_stddev` DOUBLE, `dict_min` STRING, `dict_max` STRING, `dict_vargroup` STRING, `dict_vardescr` STRING, `dict_uifilter` STRING, `dict_varmapping` STRING, `dict_vartype` STRING)\n",
      "STORED AS parquet\n",
      "LOCATION 's3://datasearch-blog-jupyterspark-180dxejofo-emrbucket-1fvo1qv4b0l67/crimedata/harmonized/LosAngeles/dictionary/table=losangeles_dict/';\n"
     ]
    }
   ],
   "source": [
    "ddlList=[\n",
    "    \"CREATE DATABASE IF NOT EXISTS `{0}`;\".format(schema),\n",
    "    \"DROP TABLE IF EXISTS `{0}`.`{1}`;\".format(schema,data_table),\n",
    "    \"DROP TABLE IF EXISTS `{0}`.`{1}`;\".format(schema,dict_table),\n",
    "    data_table_ddl,\n",
    "    dict_table_ddl\n",
    "]\n",
    "athena_s3_staging_dir = \"s3://{0}/athena_staging_dir\".format(scratch_bucket)\n",
    "hz.executeAthenaDDL(athena_s3_staging_dir, ddlList)"
   ]
  },
  {
   "cell_type": "markdown",
   "metadata": {},
   "source": [
    "## Index Data and Dictionary\n",
    "\n",
    "#### What does this do\n",
    "Creates or replaces the elastic search index to store our harmonized data and assoicated dictionary file\n",
    "\n",
    "#### Why are we doing this\n",
    "We save both incident data and dictionary information to elastic search, to power the search page.\n",
    "The dictionary fields are used to dynamically build the search filter panels in the search page side bar - these fields identify each variable, it's vargroup (accordian panel), type (ui selector to use), & description (hover tooltip).\n",
    "The incident record fields are used for the dataset record search."
   ]
  },
  {
   "cell_type": "markdown",
   "metadata": {},
   "source": [
    "Call  es.createOrReplaceIndex(es_index) to reset and set up default field mappings for the index (see ./lib/elasticsearch.py for more info on default mappings). \n",
    "You can also optionally specify field mappings for individual fields using es.addTypeMapping() as illustrated below, to support the search features you need - for example use a mapping to set date type for timestamps, or to speficy geo_point field if you want to use maps in your Kibana dashboard."
   ]
  },
  {
   "cell_type": "code",
   "execution_count": 25,
   "metadata": {
    "collapsed": false
   },
   "outputs": [
    {
     "name": "stdout",
     "output_type": "stream",
     "text": [
      "Deleted existing elasticsearch documents (losangeles_harmonized)\n",
      "Create index <losangeles_harmonized> response: {\"acknowledged\":true}\n",
      "Add type mapping for <losangeles_harmonized.incidents> response: {\"acknowledged\":true}\n"
     ]
    }
   ],
   "source": [
    "# set up data index\n",
    "# index name city name for uniqueness, and *harmonized* to allow ES queries across all datasets\n",
    "es_dataindex = \"{0}_harmonized\".format(city.lower())\n",
    "es_datatype = 'incidents'\n",
    "es.createOrReplaceIndex(es_dataindex)\n",
    "\n",
    "# create mappings for geolocation and datetime field.. all other fields inherit default mapping\n",
    "mapping=\"\"\"\n",
    "{\n",
    "    \"properties\": {\n",
    "        \"geolocation\": {\n",
    "          \"type\": \"geo_point\"\n",
    "        },\n",
    "        \"datetime\": {\n",
    "          \"type\": \"date\",\n",
    "          \"format\" : \"yyyy-MM-dd HH:mm:ss\"}\n",
    "        }\n",
    "    }\n",
    "}\n",
    "\"\"\"\n",
    "es.addTypeMapping(es_dataindex, es_datatype, mapping)"
   ]
  },
  {
   "cell_type": "code",
   "execution_count": 26,
   "metadata": {
    "collapsed": false
   },
   "outputs": [
    {
     "name": "stdout",
     "output_type": "stream",
     "text": [
      "Deleted existing elasticsearch documents (losangeles_dictionary)\n",
      "Create index <losangeles_dictionary> response: {\"acknowledged\":true}\n"
     ]
    }
   ],
   "source": [
    "# set up dictionary index\n",
    "# index name city name for uniqueness, and *dictionary* to allow ES queries across all datasets\n",
    "es_dictindex = \"{0}_dictionary\".format(city.lower())\n",
    "es_dicttype = 'dictionary'\n",
    "es.createOrReplaceIndex(es_dictindex)"
   ]
  },
  {
   "cell_type": "markdown",
   "metadata": {},
   "source": [
    "All data and dictionary fields can be indexed, by calling ex.saveToEs() and passing the df and df_dict object directly, as shown below.\n",
    "If instead you want to index a subset of the variables, make copy of the data dataframe, drop columns you don't want to index, generate a new dictionary dataframe using the new data dataframe as the argument to hz.buildDataDict(df_for_indexing), and pass the new data and dictionary dataframes to es.saveToEs() as shown below."
   ]
  },
  {
   "cell_type": "code",
   "execution_count": 27,
   "metadata": {
    "collapsed": false
   },
   "outputs": [
    {
     "name": "stdout",
     "output_type": "stream",
     "text": [
      "Saving data to elasticsearch - please be patient\n",
      "Dataset 1 saved to elasticsearch <losangeles_harmonized/incidents>\n"
     ]
    }
   ],
   "source": [
    "# index all variables in data dataframe\n",
    "print(\"Saving data to elasticsearch - please be patient\")\n",
    "df = df.withColumn(\"datetime\",df[\"datetime\"].cast(\"string\")) # elasticsearch needs datetimes in a string type\n",
    "es.saveToEs(df,index=es_dataindex,doctype=es_datatype)"
   ]
  },
  {
   "cell_type": "code",
   "execution_count": 28,
   "metadata": {
    "collapsed": false
   },
   "outputs": [
    {
     "name": "stdout",
     "output_type": "stream",
     "text": [
      "Saving dictionary to elasticsearch - please be patient\n",
      "Dataset 1 saved to elasticsearch <losangeles_dictionary/dictionary>\n"
     ]
    }
   ],
   "source": [
    "# index all variables in dictionary dataframe\n",
    "print(\"Saving dictionary to elasticsearch - please be patient\")\n",
    "es.saveToEs(df_dict,index=es_dictindex,doctype=es_dicttype)"
   ]
  },
  {
   "cell_type": "markdown",
   "metadata": {},
   "source": [
    "## View Harmonized Data Sample\n",
    "\n",
    "#### What does this do\n",
    "Test that the data table was sucessfully created by using SQL to load a few rows.\n",
    "\n",
    "#### Why are we doing this\n",
    "What we see below is what will be exposed in the search UI, so we want to see what our harmonized data looks like. Did we get all the right headers? Does it match the target data type? Is any applied logic correct? etc... "
   ]
  },
  {
   "cell_type": "code",
   "execution_count": 29,
   "metadata": {
    "collapsed": false
   },
   "outputs": [
    {
     "data": {
      "text/html": [
       "<table border=\"1\" class=\"dataframe\">\n",
       "  <thead>\n",
       "    <tr style=\"text-align: right;\">\n",
       "      <th></th>\n",
       "      <th>gang_related</th>\n",
       "      <th>hour</th>\n",
       "      <th>description</th>\n",
       "      <th>crime_category_number</th>\n",
       "      <th>crime_category_description</th>\n",
       "      <th>statistical_code</th>\n",
       "      <th>statistical_code_description</th>\n",
       "      <th>victim_count</th>\n",
       "      <th>city</th>\n",
       "      <th>state</th>\n",
       "      <th>zip</th>\n",
       "      <th>reporting_district</th>\n",
       "      <th>station_identifier</th>\n",
       "      <th>station_name</th>\n",
       "      <th>crime_identifier</th>\n",
       "      <th>location</th>\n",
       "      <th>neighbourhood</th>\n",
       "      <th>geolocation</th>\n",
       "      <th>month</th>\n",
       "      <th>day</th>\n",
       "      <th>year</th>\n",
       "      <th>minute</th>\n",
       "      <th>datetime</th>\n",
       "      <th>dayofweek</th>\n",
       "      <th>rawdatapath</th>\n",
       "      <th>harmonizeddatapath</th>\n",
       "      <th>notebookhtml</th>\n",
       "    </tr>\n",
       "  </thead>\n",
       "  <tbody>\n",
       "    <tr>\n",
       "      <th>0</th>\n",
       "      <td>0</td>\n",
       "      <td>1</td>\n",
       "      <td>Miscellaneous</td>\n",
       "      <td>24</td>\n",
       "      <td>VANDALISM</td>\n",
       "      <td>264</td>\n",
       "      <td>VANDALISM: Graffiti/Tagging</td>\n",
       "      <td>1</td>\n",
       "      <td>LosAngeles</td>\n",
       "      <td>CA</td>\n",
       "      <td>90713</td>\n",
       "      <td>1326</td>\n",
       "      <td>CA0190013</td>\n",
       "      <td>LAKEWOOD</td>\n",
       "      <td>18011973</td>\n",
       "      <td>6700 DEL AMO BLVD</td>\n",
       "      <td>LAKEWOOD</td>\n",
       "      <td>33.846502560003428,-118.100904422619492</td>\n",
       "      <td>1</td>\n",
       "      <td>2</td>\n",
       "      <td>2017</td>\n",
       "      <td>1</td>\n",
       "      <td>2017-01-02 01:01:00</td>\n",
       "      <td>Monday</td>\n",
       "      <td>s3://datasearch-blog-jupyterspark-180dxejofo-e...</td>\n",
       "      <td>s3://datasearch-blog-jupyterspark-180dxejofo-e...</td>\n",
       "      <td>https://s3.amazonaws.com/datasearch-blog-jupyt...</td>\n",
       "    </tr>\n",
       "    <tr>\n",
       "      <th>1</th>\n",
       "      <td>0</td>\n",
       "      <td>15</td>\n",
       "      <td>Miscellaneous</td>\n",
       "      <td>24</td>\n",
       "      <td>VANDALISM</td>\n",
       "      <td>263</td>\n",
       "      <td>VANDALISM FELONY</td>\n",
       "      <td>1</td>\n",
       "      <td>LosAngeles</td>\n",
       "      <td>CA</td>\n",
       "      <td>None</td>\n",
       "      <td>2603</td>\n",
       "      <td>CA01900W9</td>\n",
       "      <td>PALMDALE</td>\n",
       "      <td>17675235</td>\n",
       "      <td>2730 BUTTERCUP DR</td>\n",
       "      <td>PALMDALE</td>\n",
       "      <td>34.548028576745566,-118.078934775399617</td>\n",
       "      <td>3</td>\n",
       "      <td>19</td>\n",
       "      <td>2016</td>\n",
       "      <td>3</td>\n",
       "      <td>2016-03-19 15:03:00</td>\n",
       "      <td>Saturday</td>\n",
       "      <td>s3://datasearch-blog-jupyterspark-180dxejofo-e...</td>\n",
       "      <td>s3://datasearch-blog-jupyterspark-180dxejofo-e...</td>\n",
       "      <td>https://s3.amazonaws.com/datasearch-blog-jupyt...</td>\n",
       "    </tr>\n",
       "    <tr>\n",
       "      <th>2</th>\n",
       "      <td>0</td>\n",
       "      <td>4</td>\n",
       "      <td>Narcotics</td>\n",
       "      <td>16</td>\n",
       "      <td>NARCOTICS</td>\n",
       "      <td>185</td>\n",
       "      <td>Misdemeanor Possessn of a Controlled Substance...</td>\n",
       "      <td>1</td>\n",
       "      <td>LosAngeles</td>\n",
       "      <td>CA</td>\n",
       "      <td>90046</td>\n",
       "      <td>0973</td>\n",
       "      <td>CA0190009</td>\n",
       "      <td>WEST HOLLYWOOD</td>\n",
       "      <td>17862232</td>\n",
       "      <td>1200 N VISTA ST</td>\n",
       "      <td>WEST HOLLYWOOD</td>\n",
       "      <td>34.092571514199761,-118.351744412126732</td>\n",
       "      <td>8</td>\n",
       "      <td>6</td>\n",
       "      <td>2016</td>\n",
       "      <td>8</td>\n",
       "      <td>2016-08-06 04:08:00</td>\n",
       "      <td>Saturday</td>\n",
       "      <td>s3://datasearch-blog-jupyterspark-180dxejofo-e...</td>\n",
       "      <td>s3://datasearch-blog-jupyterspark-180dxejofo-e...</td>\n",
       "      <td>https://s3.amazonaws.com/datasearch-blog-jupyt...</td>\n",
       "    </tr>\n",
       "  </tbody>\n",
       "</table>"
      ],
      "text/plain": [
       "<IPython.core.display.HTML object>"
      ]
     },
     "execution_count": 29,
     "metadata": {},
     "output_type": "execute_result"
    }
   ],
   "source": [
    "sql=\"SELECT * FROM %s.%s LIMIT 3\" % (schema, data_table)\n",
    "# run query, convert results to a local pandas dataframe, and display as an HTML table.\n",
    "HTML(hc.sql(sql).toPandas().to_html())"
   ]
  },
  {
   "cell_type": "markdown",
   "metadata": {},
   "source": [
    "## View Data Dictionary\n",
    "\n",
    "#### What does this do\n",
    "Test the summary of the data to verify our dictionary was successfully created\n",
    "\n",
    "#### Why are we doing this\n",
    "The data dictionary drives how the data is organized and presented in the UI. We want to ensure we have our expected row counts, data types, mins and means, and that data is organized correctly for display in the UI. What we see here will translate into the search widgets and any available ranges that control those widgets."
   ]
  },
  {
   "cell_type": "code",
   "execution_count": 30,
   "metadata": {
    "collapsed": false
   },
   "outputs": [
    {
     "data": {
      "text/html": [
       "<table border=\"1\" class=\"dataframe\">\n",
       "  <thead>\n",
       "    <tr style=\"text-align: right;\">\n",
       "      <th></th>\n",
       "      <th>dict_field</th>\n",
       "      <th>dict_count</th>\n",
       "      <th>dict_countdistinct</th>\n",
       "      <th>dict_countmissing</th>\n",
       "      <th>dict_mean</th>\n",
       "      <th>dict_stddev</th>\n",
       "      <th>dict_min</th>\n",
       "      <th>dict_max</th>\n",
       "      <th>dict_vargroup</th>\n",
       "      <th>dict_vardescr</th>\n",
       "      <th>dict_uifilter</th>\n",
       "      <th>dict_varmapping</th>\n",
       "      <th>dict_vartype</th>\n",
       "    </tr>\n",
       "  </thead>\n",
       "  <tbody>\n",
       "    <tr>\n",
       "      <th>0</th>\n",
       "      <td>city</td>\n",
       "      <td>161439</td>\n",
       "      <td>1</td>\n",
       "      <td>0</td>\n",
       "      <td>NaN</td>\n",
       "      <td>NaN</td>\n",
       "      <td>LosAngeles</td>\n",
       "      <td>LosAngeles</td>\n",
       "      <td>04.Location</td>\n",
       "      <td>Incident city</td>\n",
       "      <td>True</td>\n",
       "      <td>Source CITY. \"city\" assigned by harmonization ...</td>\n",
       "      <td>text</td>\n",
       "    </tr>\n",
       "    <tr>\n",
       "      <th>1</th>\n",
       "      <td>crime_category_description</td>\n",
       "      <td>161439</td>\n",
       "      <td>30</td>\n",
       "      <td>0</td>\n",
       "      <td>NaN</td>\n",
       "      <td>NaN</td>\n",
       "      <td>AGGRAVATED ASSAULT</td>\n",
       "      <td>WEAPON LAWS</td>\n",
       "      <td>90.LosAngeles (Unharmonized)</td>\n",
       "      <td>unknown</td>\n",
       "      <td>True</td>\n",
       "      <td>Source CRIME_CATEGORY_DESCRIPTION. Variable va...</td>\n",
       "      <td>text</td>\n",
       "    </tr>\n",
       "    <tr>\n",
       "      <th>2</th>\n",
       "      <td>crime_category_number</td>\n",
       "      <td>161439</td>\n",
       "      <td>30</td>\n",
       "      <td>0</td>\n",
       "      <td>NaN</td>\n",
       "      <td>NaN</td>\n",
       "      <td>1</td>\n",
       "      <td>9</td>\n",
       "      <td>90.LosAngeles (Unharmonized)</td>\n",
       "      <td>unknown</td>\n",
       "      <td>True</td>\n",
       "      <td>Source CRIME_CATEGORY_NUMBER. Variable value u...</td>\n",
       "      <td>text</td>\n",
       "    </tr>\n",
       "    <tr>\n",
       "      <th>3</th>\n",
       "      <td>crime_identifier</td>\n",
       "      <td>161439</td>\n",
       "      <td>161439</td>\n",
       "      <td>0</td>\n",
       "      <td>NaN</td>\n",
       "      <td>NaN</td>\n",
       "      <td>16474037</td>\n",
       "      <td>18032284</td>\n",
       "      <td>90.LosAngeles (Unharmonized)</td>\n",
       "      <td>unknown</td>\n",
       "      <td>True</td>\n",
       "      <td>Source CRIME_IDENTIFIER. Variable value unchan...</td>\n",
       "      <td>text</td>\n",
       "    </tr>\n",
       "    <tr>\n",
       "      <th>4</th>\n",
       "      <td>datetime</td>\n",
       "      <td>161439</td>\n",
       "      <td>8776</td>\n",
       "      <td>0</td>\n",
       "      <td>NaN</td>\n",
       "      <td>NaN</td>\n",
       "      <td>2016-01-20 00:01:00</td>\n",
       "      <td>2017-01-20 01:01:00</td>\n",
       "      <td>00.Date and Time</td>\n",
       "      <td>Incident date and time</td>\n",
       "      <td>True</td>\n",
       "      <td>Full timestamp with date and time, eg 2007-04-...</td>\n",
       "      <td>datetime</td>\n",
       "    </tr>\n",
       "    <tr>\n",
       "      <th>5</th>\n",
       "      <td>day</td>\n",
       "      <td>161439</td>\n",
       "      <td>31</td>\n",
       "      <td>0</td>\n",
       "      <td>15.762486</td>\n",
       "      <td>8.854145</td>\n",
       "      <td>1</td>\n",
       "      <td>31</td>\n",
       "      <td>00.Date and Time</td>\n",
       "      <td>Incident date</td>\n",
       "      <td>True</td>\n",
       "      <td>day, extracted from crime_date</td>\n",
       "      <td>enum,1,2,3,4,5,6,7,8,9,10,11,12,13,14,15,16,17...</td>\n",
       "    </tr>\n",
       "    <tr>\n",
       "      <th>6</th>\n",
       "      <td>dayofweek</td>\n",
       "      <td>161439</td>\n",
       "      <td>7</td>\n",
       "      <td>0</td>\n",
       "      <td>NaN</td>\n",
       "      <td>NaN</td>\n",
       "      <td>Friday</td>\n",
       "      <td>Wednesday</td>\n",
       "      <td>00.Date and Time</td>\n",
       "      <td>Incident day of week</td>\n",
       "      <td>True</td>\n",
       "      <td>day of Week, calculated from datetime</td>\n",
       "      <td>enum,Sunday,Monday,Tuesday,Wednesday,Thursday,...</td>\n",
       "    </tr>\n",
       "    <tr>\n",
       "      <th>7</th>\n",
       "      <td>description</td>\n",
       "      <td>161439</td>\n",
       "      <td>14</td>\n",
       "      <td>0</td>\n",
       "      <td>NaN</td>\n",
       "      <td>NaN</td>\n",
       "      <td>Arson</td>\n",
       "      <td>Weapons</td>\n",
       "      <td>01.Incident</td>\n",
       "      <td>Incident description</td>\n",
       "      <td>True</td>\n",
       "      <td>Map values {\"WEAPON LAWS\": \"Weapons\", \"VAGRANC...</td>\n",
       "      <td>text</td>\n",
       "    </tr>\n",
       "    <tr>\n",
       "      <th>8</th>\n",
       "      <td>gang_related</td>\n",
       "      <td>161439</td>\n",
       "      <td>2</td>\n",
       "      <td>0</td>\n",
       "      <td>0.017468</td>\n",
       "      <td>0.131007</td>\n",
       "      <td>0</td>\n",
       "      <td>1</td>\n",
       "      <td>90.LosAngeles (Unharmonized)</td>\n",
       "      <td>Incident is gang related?</td>\n",
       "      <td>True</td>\n",
       "      <td>Source GANG_RELATED. Map values {\"Y\": 1, \"N\": 0}</td>\n",
       "      <td>boolean</td>\n",
       "    </tr>\n",
       "    <tr>\n",
       "      <th>9</th>\n",
       "      <td>geolocation</td>\n",
       "      <td>161439</td>\n",
       "      <td>90046</td>\n",
       "      <td>0</td>\n",
       "      <td>NaN</td>\n",
       "      <td>NaN</td>\n",
       "      <td>33.333295355757807,-118.310438737128455</td>\n",
       "      <td>34.820662388325244,-118.15607922235384</td>\n",
       "      <td>04.Location</td>\n",
       "      <td>Incident geoLocation coordinates</td>\n",
       "      <td>False</td>\n",
       "      <td>geolocation variable created from latitude and...</td>\n",
       "      <td>text</td>\n",
       "    </tr>\n",
       "    <tr>\n",
       "      <th>10</th>\n",
       "      <td>harmonizeddatapath</td>\n",
       "      <td>161439</td>\n",
       "      <td>1</td>\n",
       "      <td>0</td>\n",
       "      <td>NaN</td>\n",
       "      <td>NaN</td>\n",
       "      <td>s3://datasearch-blog-jupyterspark-180dxejofo-e...</td>\n",
       "      <td>s3://datasearch-blog-jupyterspark-180dxejofo-e...</td>\n",
       "      <td>99.Miscellaneous</td>\n",
       "      <td>S3 Path to harmonized dataset root prefix.</td>\n",
       "      <td>False</td>\n",
       "      <td>Assigned by harmonization code</td>\n",
       "      <td>text</td>\n",
       "    </tr>\n",
       "    <tr>\n",
       "      <th>11</th>\n",
       "      <td>hour</td>\n",
       "      <td>161439</td>\n",
       "      <td>24</td>\n",
       "      <td>0</td>\n",
       "      <td>11.936509</td>\n",
       "      <td>7.008366</td>\n",
       "      <td>0</td>\n",
       "      <td>23</td>\n",
       "      <td>00.Date and Time</td>\n",
       "      <td>Incident hour</td>\n",
       "      <td>True</td>\n",
       "      <td>hour, extracted from crime_date</td>\n",
       "      <td>enum,1,2,3,4,5,6,7,8,9,10,11,12,13,14,15,16,17...</td>\n",
       "    </tr>\n",
       "    <tr>\n",
       "      <th>12</th>\n",
       "      <td>location</td>\n",
       "      <td>161439</td>\n",
       "      <td>86544</td>\n",
       "      <td>0</td>\n",
       "      <td>NaN</td>\n",
       "      <td>NaN</td>\n",
       "      <td>\"6201 WINNETKA AVE AND BEHIND \"\"GREAT WALL\"\"\"</td>\n",
       "      <td>ZUMA MESA DR AND PACIFIC COAST HWY</td>\n",
       "      <td>04.Location</td>\n",
       "      <td>Incident location/address</td>\n",
       "      <td>True</td>\n",
       "      <td>Source STREET. Variable value unchanged from s...</td>\n",
       "      <td>text</td>\n",
       "    </tr>\n",
       "    <tr>\n",
       "      <th>13</th>\n",
       "      <td>minute</td>\n",
       "      <td>161439</td>\n",
       "      <td>12</td>\n",
       "      <td>0</td>\n",
       "      <td>6.569150</td>\n",
       "      <td>3.357518</td>\n",
       "      <td>1</td>\n",
       "      <td>12</td>\n",
       "      <td>00.Date and Time</td>\n",
       "      <td>Incident minute</td>\n",
       "      <td>True</td>\n",
       "      <td>minute, extracted from crime_date</td>\n",
       "      <td>range,0,59,1</td>\n",
       "    </tr>\n",
       "    <tr>\n",
       "      <th>14</th>\n",
       "      <td>month</td>\n",
       "      <td>161439</td>\n",
       "      <td>12</td>\n",
       "      <td>0</td>\n",
       "      <td>6.569150</td>\n",
       "      <td>3.357518</td>\n",
       "      <td>1</td>\n",
       "      <td>12</td>\n",
       "      <td>00.Date and Time</td>\n",
       "      <td>Incident month</td>\n",
       "      <td>True</td>\n",
       "      <td>month, extracted from crime_date</td>\n",
       "      <td>enum,1,2,3,4,5,6,7,8,9,10,11,12</td>\n",
       "    </tr>\n",
       "    <tr>\n",
       "      <th>15</th>\n",
       "      <td>neighbourhood</td>\n",
       "      <td>161439</td>\n",
       "      <td>52</td>\n",
       "      <td>0</td>\n",
       "      <td>NaN</td>\n",
       "      <td>NaN</td>\n",
       "      <td>ADMIN</td>\n",
       "      <td>WEST HOLLYWOOD</td>\n",
       "      <td>04.Location</td>\n",
       "      <td>Incident neighborhood</td>\n",
       "      <td>True</td>\n",
       "      <td>Source STATION_NAME. Variable value unchanged ...</td>\n",
       "      <td>text</td>\n",
       "    </tr>\n",
       "    <tr>\n",
       "      <th>16</th>\n",
       "      <td>notebookhtml</td>\n",
       "      <td>161439</td>\n",
       "      <td>1</td>\n",
       "      <td>0</td>\n",
       "      <td>NaN</td>\n",
       "      <td>NaN</td>\n",
       "      <td>https://s3.amazonaws.com/datasearch-blog-jupyt...</td>\n",
       "      <td>https://s3.amazonaws.com/datasearch-blog-jupyt...</td>\n",
       "      <td>99.Miscellaneous</td>\n",
       "      <td>URL to Jupyter notebook containing documentati...</td>\n",
       "      <td>False</td>\n",
       "      <td>Assigned by harmonization code</td>\n",
       "      <td>text</td>\n",
       "    </tr>\n",
       "    <tr>\n",
       "      <th>17</th>\n",
       "      <td>rawdatapath</td>\n",
       "      <td>161439</td>\n",
       "      <td>1</td>\n",
       "      <td>0</td>\n",
       "      <td>NaN</td>\n",
       "      <td>NaN</td>\n",
       "      <td>s3://datasearch-blog-jupyterspark-180dxejofo-e...</td>\n",
       "      <td>s3://datasearch-blog-jupyterspark-180dxejofo-e...</td>\n",
       "      <td>99.Miscellaneous</td>\n",
       "      <td>S3 Path to raw dataset.</td>\n",
       "      <td>False</td>\n",
       "      <td>Assigned by harmonization code</td>\n",
       "      <td>text</td>\n",
       "    </tr>\n",
       "    <tr>\n",
       "      <th>18</th>\n",
       "      <td>reporting_district</td>\n",
       "      <td>161439</td>\n",
       "      <td>1259</td>\n",
       "      <td>0</td>\n",
       "      <td>NaN</td>\n",
       "      <td>NaN</td>\n",
       "      <td>0230</td>\n",
       "      <td>8884</td>\n",
       "      <td>90.LosAngeles (Unharmonized)</td>\n",
       "      <td>unknown</td>\n",
       "      <td>True</td>\n",
       "      <td>Source REPORTING_DISTRICT. Variable value unch...</td>\n",
       "      <td>text</td>\n",
       "    </tr>\n",
       "    <tr>\n",
       "      <th>19</th>\n",
       "      <td>state</td>\n",
       "      <td>161425</td>\n",
       "      <td>1</td>\n",
       "      <td>14</td>\n",
       "      <td>NaN</td>\n",
       "      <td>NaN</td>\n",
       "      <td>CA</td>\n",
       "      <td>CA</td>\n",
       "      <td>90.LosAngeles (Unharmonized)</td>\n",
       "      <td>unknown</td>\n",
       "      <td>True</td>\n",
       "      <td>Source STATE. Variable value unchanged from so...</td>\n",
       "      <td>text</td>\n",
       "    </tr>\n",
       "    <tr>\n",
       "      <th>20</th>\n",
       "      <td>station_identifier</td>\n",
       "      <td>161439</td>\n",
       "      <td>53</td>\n",
       "      <td>0</td>\n",
       "      <td>NaN</td>\n",
       "      <td>NaN</td>\n",
       "      <td>CA0190000</td>\n",
       "      <td>CA01900W9</td>\n",
       "      <td>90.LosAngeles (Unharmonized)</td>\n",
       "      <td>unknown</td>\n",
       "      <td>True</td>\n",
       "      <td>Source STATION_IDENTIFIER. Variable value unch...</td>\n",
       "      <td>text</td>\n",
       "    </tr>\n",
       "    <tr>\n",
       "      <th>21</th>\n",
       "      <td>station_name</td>\n",
       "      <td>161439</td>\n",
       "      <td>52</td>\n",
       "      <td>0</td>\n",
       "      <td>NaN</td>\n",
       "      <td>NaN</td>\n",
       "      <td>ADMIN</td>\n",
       "      <td>WEST HOLLYWOOD</td>\n",
       "      <td>90.LosAngeles (Unharmonized)</td>\n",
       "      <td>unknown</td>\n",
       "      <td>True</td>\n",
       "      <td>Source STATION_NAME. Variable value unchanged ...</td>\n",
       "      <td>text</td>\n",
       "    </tr>\n",
       "    <tr>\n",
       "      <th>22</th>\n",
       "      <td>statistical_code</td>\n",
       "      <td>161439</td>\n",
       "      <td>236</td>\n",
       "      <td>0</td>\n",
       "      <td>NaN</td>\n",
       "      <td>NaN</td>\n",
       "      <td>101</td>\n",
       "      <td>98</td>\n",
       "      <td>90.LosAngeles (Unharmonized)</td>\n",
       "      <td>unknown</td>\n",
       "      <td>True</td>\n",
       "      <td>Source STATISTICAL_CODE. Variable value unchan...</td>\n",
       "      <td>text</td>\n",
       "    </tr>\n",
       "    <tr>\n",
       "      <th>23</th>\n",
       "      <td>statistical_code_description</td>\n",
       "      <td>161439</td>\n",
       "      <td>236</td>\n",
       "      <td>0</td>\n",
       "      <td>NaN</td>\n",
       "      <td>NaN</td>\n",
       "      <td>ARSON: All Other Structures (Bldg Under Constr...</td>\n",
       "      <td>WORTHLESS DOCUMENTS/FORGERY: Possess of Comple...</td>\n",
       "      <td>90.LosAngeles (Unharmonized)</td>\n",
       "      <td>unknown</td>\n",
       "      <td>True</td>\n",
       "      <td>Source STATISTICAL_CODE_DESCRIPTION. Variable ...</td>\n",
       "      <td>text</td>\n",
       "    </tr>\n",
       "    <tr>\n",
       "      <th>24</th>\n",
       "      <td>victim_count</td>\n",
       "      <td>161439</td>\n",
       "      <td>15</td>\n",
       "      <td>0</td>\n",
       "      <td>NaN</td>\n",
       "      <td>NaN</td>\n",
       "      <td>1</td>\n",
       "      <td>9</td>\n",
       "      <td>90.LosAngeles (Unharmonized)</td>\n",
       "      <td>unknown</td>\n",
       "      <td>True</td>\n",
       "      <td>Source VICTIM_COUNT. Variable value unchanged ...</td>\n",
       "      <td>text</td>\n",
       "    </tr>\n",
       "    <tr>\n",
       "      <th>25</th>\n",
       "      <td>year</td>\n",
       "      <td>161439</td>\n",
       "      <td>2</td>\n",
       "      <td>0</td>\n",
       "      <td>2016.040294</td>\n",
       "      <td>0.196648</td>\n",
       "      <td>2016</td>\n",
       "      <td>2017</td>\n",
       "      <td>00.Date and Time</td>\n",
       "      <td>Incident year</td>\n",
       "      <td>True</td>\n",
       "      <td>year, extracted from crime_date</td>\n",
       "      <td>range,2000,2017,1</td>\n",
       "    </tr>\n",
       "    <tr>\n",
       "      <th>26</th>\n",
       "      <td>zip</td>\n",
       "      <td>91569</td>\n",
       "      <td>320</td>\n",
       "      <td>69870</td>\n",
       "      <td>NaN</td>\n",
       "      <td>NaN</td>\n",
       "      <td>90000</td>\n",
       "      <td>93591</td>\n",
       "      <td>90.LosAngeles (Unharmonized)</td>\n",
       "      <td>unknown</td>\n",
       "      <td>True</td>\n",
       "      <td>Source ZIP. Variable value unchanged from sour...</td>\n",
       "      <td>text</td>\n",
       "    </tr>\n",
       "  </tbody>\n",
       "</table>"
      ],
      "text/plain": [
       "<IPython.core.display.HTML object>"
      ]
     },
     "execution_count": 30,
     "metadata": {},
     "output_type": "execute_result"
    }
   ],
   "source": [
    "sql=\"SELECT * FROM %s.%s ORDER BY dict_field ASC\" % (schema, dict_table)\n",
    "# run query, convert results to a local pandas dataframe, and display as an HTML table.\n",
    "HTML(hc.sql(sql).toPandas().to_html())"
   ]
  },
  {
   "cell_type": "markdown",
   "metadata": {},
   "source": [
    "## Publish Notebook\n",
    "Save the notebook using javascript to trigger the save_checkpoint method.\n",
    "\n",
    "#### What does this do\n",
    "Convert notebook .ipny to html, and use hz.publishNotebookToS3 to copy the .ipny and .html files to the target S3 folder with web access enabled.\n",
    "\n",
    "#### Why are we doing this\n",
    "This provides a record within the UI of all the harmonization logic used to transform the raw data into what is exposed through the search and discovery tool. This record allows for easier verification, enhancements, or modifications of harmonization routines."
   ]
  },
  {
   "cell_type": "code",
   "execution_count": 31,
   "metadata": {
    "collapsed": false
   },
   "outputs": [
    {
     "data": {
      "text/html": [
       "<!- SHOW / HIDE CODE TOGGLE ->\n",
       "<script>\n",
       "    var code_hide=true; //true -> hide code at first\n",
       "    function code_showhide_toggle() {\n",
       "        if (code_hide){\n",
       "            $('div.input').hide();\n",
       "            $('div.prompt').hide();\n",
       "        } else {\n",
       "            $('div.input').show();\n",
       "            $('div.prompt').show();\n",
       "        }\n",
       "        code_hide = !code_hide\n",
       "    }\n",
       "    $( document ).ready(code_showhide_toggle);\n",
       "</script>"
      ],
      "text/plain": [
       "<IPython.core.display.HTML object>"
      ]
     },
     "metadata": {},
     "output_type": "display_data"
    }
   ],
   "source": [
    "%%html\n",
    "<!- SHOW / HIDE CODE TOGGLE ->\n",
    "<script>\n",
    "    var code_hide=true; //true -> hide code at first\n",
    "    function code_showhide_toggle() {\n",
    "        if (code_hide){\n",
    "            $('div.input').hide();\n",
    "            $('div.prompt').hide();\n",
    "        } else {\n",
    "            $('div.input').show();\n",
    "            $('div.prompt').show();\n",
    "        }\n",
    "        code_hide = !code_hide\n",
    "    }\n",
    "    $( document ).ready(code_showhide_toggle);\n",
    "</script>"
   ]
  },
  {
   "cell_type": "code",
   "execution_count": 32,
   "metadata": {
    "collapsed": false
   },
   "outputs": [
    {
     "name": "stdout",
     "output_type": "stream",
     "text": [
      "Fri Jan 20 20:40:31 UTC 2017\r\n"
     ]
    }
   ],
   "source": [
    "!date"
   ]
  },
  {
   "cell_type": "code",
   "execution_count": 33,
   "metadata": {
    "collapsed": false
   },
   "outputs": [
    {
     "data": {
      "application/javascript": [
       "// save current notebook\n",
       "IPython.notebook.save_checkpoint()"
      ],
      "text/plain": [
       "<IPython.core.display.Javascript object>"
      ]
     },
     "metadata": {},
     "output_type": "display_data"
    }
   ],
   "source": [
    "%%javascript\n",
    "// save current notebook\n",
    "IPython.notebook.save_checkpoint()"
   ]
  },
  {
   "cell_type": "code",
   "execution_count": 34,
   "metadata": {
    "collapsed": false
   },
   "outputs": [
    {
     "name": "stdout",
     "output_type": "stream",
     "text": [
      "[NbConvertApp] Converting notebook LosAngeles-notebook.ipynb to html\n",
      "[NbConvertApp] Writing 413956 bytes to LosAngeles-notebook.html\n"
     ]
    }
   ],
   "source": [
    "# convert ipynb to html\n",
    "!jupyter nbconvert --to html $citynotebook"
   ]
  },
  {
   "cell_type": "code",
   "execution_count": 37,
   "metadata": {
    "collapsed": false
   },
   "outputs": [
    {
     "name": "stdout",
     "output_type": "stream",
     "text": [
      "Copy LosAngeles-notebook.ipynb to s3://datasearch-blog-jupyterspark-180dxejofo-emrbucket-1fvo1qv4b0l67/crimedata/harmonized/LosAngeles/docs/LosAngeles-notebook.ipynb\n",
      "URL: https://s3.amazonaws.com/datasearch-blog-jupyterspark-180dxejofo-emrbucket-1fvo1qv4b0l67/crimedata/harmonized/LosAngeles/docs/LosAngeles-notebook.ipynb\n",
      "Copy LosAngeles-notebook.html to s3://datasearch-blog-jupyterspark-180dxejofo-emrbucket-1fvo1qv4b0l67/crimedata/harmonized/LosAngeles/docs/LosAngeles-notebook.html\n",
      "URL: https://s3.amazonaws.com/datasearch-blog-jupyterspark-180dxejofo-emrbucket-1fvo1qv4b0l67/crimedata/harmonized/LosAngeles/docs/LosAngeles-notebook.html\n",
      "Move LosAngeles-notebook.html to subfolder ./html\n"
     ]
    }
   ],
   "source": [
    "# copy saved notebook (ipynb and html formats) to target S3 bucket\n",
    "hz.publishNotebookToS3(outputpath_doc, notebook_urlbase, citynotebook) \n",
    "# move html copy of notebook into subfolder\n",
    "f = citynotebook + \".html\"\n",
    "print(\"Move {} to subfolder ./html\".format(f))\n",
    "!mkdir -p ./html\n",
    "os.rename(f,\"./html/{}\".format(f))"
   ]
  },
  {
   "cell_type": "code",
   "execution_count": 36,
   "metadata": {
    "collapsed": false
   },
   "outputs": [
    {
     "name": "stdout",
     "output_type": "stream",
     "text": [
      "Notebook execution complete.\n"
     ]
    }
   ],
   "source": [
    "print(\"Notebook execution complete.\")"
   ]
  },
  {
   "cell_type": "code",
   "execution_count": null,
   "metadata": {
    "collapsed": true
   },
   "outputs": [],
   "source": []
  }
 ],
 "metadata": {
  "kernelspec": {
   "display_name": "Python 2",
   "language": "python",
   "name": "python2"
  },
  "language_info": {
   "codemirror_mode": {
    "name": "ipython",
    "version": 2
   },
   "file_extension": ".py",
   "mimetype": "text/x-python",
   "name": "python",
   "nbconvert_exporter": "python",
   "pygments_lexer": "ipython2",
   "version": "2.7.12"
  }
 },
 "nbformat": 4,
 "nbformat_minor": 1
}
