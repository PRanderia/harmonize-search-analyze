{
 "cells": [
  {
   "cell_type": "markdown",
   "metadata": {},
   "source": [
    "# Import Kibana visualizations, dashboards, and default index settings"
   ]
  },
  {
   "cell_type": "code",
   "execution_count": 1,
   "metadata": {
    "collapsed": false
   },
   "outputs": [
    {
     "name": "stdout",
     "output_type": "stream",
     "text": [
      "-rw-rw-r-- 1 hadoop hadoop 11104 Jan  4 20:02 kibana-exported-visualizations.json\n"
     ]
    }
   ],
   "source": [
    "ls -l kibana-exported-visualizations.json"
   ]
  },
  {
   "cell_type": "code",
   "execution_count": 2,
   "metadata": {
    "collapsed": false
   },
   "outputs": [
    {
     "name": "stdout",
     "output_type": "stream",
     "text": [
      "Wed, 04 Jan 2017 20:05:13 GMT | starting dump\n",
      "Wed, 04 Jan 2017 20:05:13 GMT | got 8 objects from source file (offset: 0)\n",
      "Wed, 04 Jan 2017 20:05:13 GMT | sent 8 objects to destination elasticsearch, wrote 8\n",
      "Wed, 04 Jan 2017 20:05:13 GMT | got 0 objects from source file (offset: 8)\n",
      "Wed, 04 Jan 2017 20:05:13 GMT | Total Writes: 8\n",
      "Wed, 04 Jan 2017 20:05:13 GMT | dump complete\n"
     ]
    }
   ],
   "source": [
    "n use stable /usr/bin/elasticdump --input=kibana-exported-visualizations.json --output=http://localhost:9200/.kibana --type=data "
   ]
  },
  {
   "cell_type": "code",
   "execution_count": null,
   "metadata": {
    "collapsed": true
   },
   "outputs": [],
   "source": []
  }
 ],
 "metadata": {
  "kernelspec": {
   "display_name": "Bash",
   "language": "bash",
   "name": "bash"
  },
  "language_info": {
   "codemirror_mode": "shell",
   "file_extension": ".sh",
   "mimetype": "text/x-sh",
   "name": "bash"
  }
 },
 "nbformat": 4,
 "nbformat_minor": 2
}
