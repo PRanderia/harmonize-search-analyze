{
 "cells": [
  {
   "cell_type": "code",
   "execution_count": 26,
   "metadata": {},
   "outputs": [
    {
     "data": {
      "text/html": [
       "<a href=\"javascript:code_showhide_toggle()\">Show/Hide Code</a>"
      ],
      "text/plain": [
       "<IPython.core.display.HTML object>"
      ]
     },
     "metadata": {},
     "output_type": "display_data"
    }
   ],
   "source": [
    "%%html \n",
    "<a href=\"javascript:code_showhide_toggle()\">Show/Hide Code</a>"
   ]
  },
  {
   "cell_type": "markdown",
   "metadata": {},
   "source": [
    "# Harmonize and Index Detroit Crime Incident Dataset"
   ]
  },
  {
   "cell_type": "markdown",
   "metadata": {},
   "source": [
    "## Contents"
   ]
  },
  {
   "cell_type": "markdown",
   "metadata": {},
   "source": [
    "- [Introduction](#Introduction)\n",
    "- [Setup](#Setup)\n",
    "- [Load Input Data](#Load-Input-Data)\n",
    "- [Exploratory Analysis](#Exploratory-Analysis)\n",
    "- [Harmonize Variables](#Harmonize-Variables)\n",
    "- [Add metadata for additional variables](#Add-metadata-for-additional-variables)\n",
    "- [Generate Dictionary](#Generate-Dictionary)\n",
    "- [Save Data and Dictionary](#Save-Data-and-Dictionary)\n",
    "- [Create External Tables in Amazon Athena](#Create-External-Tables-in-Amazon-Athena)\n",
    "- [Index Data and Dictionary](#Index-Data-and-Dictionary)\n",
    "- [View Harmonized Data Sample](#View-Harmonized-Data-Sample)\n",
    "- [View Data Dictionary](#View-Data-Dictionary)\n",
    "- [Publish Notebook](#Publish-Notebook)"
   ]
  },
  {
   "cell_type": "markdown",
   "metadata": {},
   "source": [
    "## Introduction \n",
    "This notebook will illustrate use of Jupyter with PySpark to \n",
    "- harmonize crime datasets from multiple jurisdictions\n",
    "- add metadata to support a data driven search UI\n",
    "- create a data dictionary with metadata for each variable\n",
    "- save data and metadata as Spark SQL tables backed by (Athena compatible) Parquet files in S3\n",
    "- index data and metadata to support search\n",
    "- self-publish this notebook so it can be linked from the search UI to provide transparency and reproducability\n"
   ]
  },
  {
   "cell_type": "markdown",
   "metadata": {},
   "source": [
    "## Setup\n",
    "\n",
    "#### What does this do\n",
    "This sets up our environment variables to use for data input, output, indexing, etc..."
   ]
  },
  {
   "cell_type": "code",
   "execution_count": 27,
   "metadata": {},
   "outputs": [
    {
     "name": "stdout",
     "output_type": "stream",
     "text": [
      "City: Detroit\n",
      "Notebook Name: Detroit-notebook\n",
      "Dataset URL: https://data.detroitmi.gov/api/views/6gdg-y3kf/rows.csv?accessType=DOWNLOAD\n",
      "S3 dataset input: s3://datasearch-blog-jupyterspark-xn0iflaqfg-emrbucket-10gb2028l2ygj/crimedata/raw/Detroit.csv\n",
      "Harmonized output: s3://datasearch-blog-jupyterspark-xn0iflaqfg-emrbucket-10gb2028l2ygj/crimedata/harmonized/Detroit\n",
      "ElasticSearch Cluster: localhost.9200\n",
      "Setup & Initialization done\n"
     ]
    }
   ],
   "source": [
    "# CONFIGURATION VARIABLES\n",
    "city=\"Detroit\"\n",
    "cityurl=\"https://data.detroitmi.gov/api/views/6gdg-y3kf/rows.csv?accessType=DOWNLOAD\"\n",
    "citynotebook=\"Detroit-notebook\" # citynotebook is used to automatically publish the notebook at the end\n",
    "\n",
    "\n",
    "# location for raw (unprocessed) dataset in S3\n",
    "scratch_bucket=os.environ[\"S3_SCRATCH_BUCKET\"]\n",
    "datasets3 = \"s3://{0}/crimedata/raw/{1}.csv\".format(scratch_bucket, city)\n",
    "\n",
    "# locaton for harmonized (processed) dataset in S3. Structure is:\n",
    "#   outputroot\n",
    "#       |--- data - incidents - multiple CSV files\n",
    "#       |--- dictionary - incidents - CSV file containing data dictionary\n",
    "#       |--- doc - copy of notebook (published for web access)\n",
    "outputroot = \"s3://{0}/crimedata/harmonized/{1}\".format(scratch_bucket,city)\n",
    "outputpath_data = \"{}/data\".format(outputroot)\n",
    "outputpath_dictionary=\"{}/dictionary\".format(outputroot)\n",
    "outputpath_doc=\"{}/docs\".format(outputroot)\n",
    "notebook_urlbase = \"https://s3.amazonaws.com/{0}/{1}\".format(outputpath_doc.replace(\"s3://\",\"\"), citynotebook)\n",
    "\n",
    "# elasticsearch cluster endpoint\n",
    "# - use local proxy service (installed via an EMR bootstrap) which signs ES API calls using EMR EC2 role.\n",
    "esendpoint=\"localhost\"\n",
    "esport=9200\n",
    "\n",
    "# Summary of configuration\n",
    "print(\"City: {}\".format(city))\n",
    "print(\"Notebook Name: {}\".format(citynotebook))\n",
    "print(\"Dataset URL: {}\".format(cityurl))\n",
    "print(\"S3 dataset input: {}\".format(datasets3))\n",
    "print(\"Harmonized output: {}\".format(outputroot))\n",
    "print(\"ElasticSearch Cluster: {}.{}\".format(esendpoint, esport))\n",
    "print(\"Setup & Initialization done\")"
   ]
  },
  {
   "cell_type": "code",
   "execution_count": 28,
   "metadata": {},
   "outputs": [
    {
     "name": "stdout",
     "output_type": "stream",
     "text": [
      "Initialization complete.\n"
     ]
    }
   ],
   "source": [
    "# INITIALIZATION - instantiate objects used by notebook\n",
    "\n",
    "%matplotlib inline\n",
    "from pyspark import SparkContext\n",
    "from pyspark.sql import HiveContext\n",
    "from pyspark.sql.functions import *\n",
    "from IPython.display import display, HTML\n",
    "import datetime\n",
    "import subprocess\n",
    "\n",
    "# elasticsearch and harmonization objects defined in ./lib/esindex.py and ./lib/harmonizeCrimeIncidents.py\n",
    "from lib.esindex import esindex\n",
    "from lib.harmonizeCrimeIncidents import harmonizeCrimeIncidents\n",
    "\n",
    "sc = SparkContext.getOrCreate()\n",
    "hc = HiveContext(sc)\n",
    "es = esindex(esendpoint)\n",
    "hz = harmonizeCrimeIncidents(hc)\n",
    "print(\"Initialization complete.\")"
   ]
  },
  {
   "cell_type": "markdown",
   "metadata": {},
   "source": [
    "## Load Input Data\n",
    "\n",
    "#### What does this do\n",
    "This takes a data source file, in our case a CSV file, and puts it into our S3 bucket for procssing. Once the source file is copied into the bucket, we will load the file into a Spark dataframe for analysis and processing.## Load Input Data"
   ]
  },
  {
   "cell_type": "code",
   "execution_count": 29,
   "metadata": {},
   "outputs": [
    {
     "name": "stdout",
     "output_type": "stream",
     "text": [
      "Downloading /tmp/Detroit.csv from: https://data.detroitmi.gov/api/views/6gdg-y3kf/rows.csv?accessType=DOWNLOAD\n",
      "Copying /tmp/Detroit.csv to: s3://datasearch-blog-jupyterspark-xn0iflaqfg-emrbucket-10gb2028l2ygj/crimedata/raw/Detroit.csv\n"
     ]
    }
   ],
   "source": [
    "# Download & install dataset from website\n",
    "\n",
    "def copy_from_website_to_s3(city, cityurl, datasets3):\n",
    "    tmpfile=\"/tmp/{0}.csv\".format(city)\n",
    "    print(\"Downloading {0} from: {1}\".format(tmpfile, cityurl))\n",
    "    subprocess.check_output(\"curl {0} -o {1}\".format(cityurl, tmpfile).split())\n",
    "    print(\"Copying {0} to: {1}\".format(tmpfile, datasets3))\n",
    "    subprocess.check_output(\"aws s3 cp {0} {1} --sse AES256\".format(tmpfile, datasets3).split())\n",
    "    os.remove(tmpfile)\n",
    "    \n",
    "# uncomment if you want to re-download the dataset\n",
    "copy_from_website_to_s3(city, cityurl, datasets3)\n"
   ]
  },
  {
   "cell_type": "code",
   "execution_count": 30,
   "metadata": {
    "scrolled": true
   },
   "outputs": [
    {
     "name": "stdout",
     "output_type": "stream",
     "text": [
      "Loading dataset from S3\n",
      "Dataset Detroit: Loaded 96812 rows.\n"
     ]
    }
   ],
   "source": [
    "# Read input datasets as DataFrames\n",
    "# No need to infer schema - all variables initially typed as strings\n",
    "print(\"Loading dataset from S3\")\n",
    "df = hc.read.load( datasets3,\n",
    "                   format='com.databricks.spark.csv',\n",
    "                   header='true',\n",
    "                   inferSchema='false',\n",
    "                   delimiter=',') \n",
    "df_in=df # keep copy of raw data for reference\n",
    "print(\"Dataset {0}: Loaded {1} rows.\".format(city, df.count()))"
   ]
  },
  {
   "cell_type": "markdown",
   "metadata": {},
   "source": [
    "## Exploratory Analysis\n",
    "Edit as desired to interactively explore the data\n",
    "\n",
    "#### What does this do\n",
    "With the data source file loaded into a Spark Data Frame, you can get some details on the content of the data using methods from Spark, Pandas, and others. This is purely exploratory information to give users insights into the raw data set."
   ]
  },
  {
   "cell_type": "code",
   "execution_count": 31,
   "metadata": {},
   "outputs": [
    {
     "data": {
      "text/plain": [
       "\"['Crime ID', 'Report #', 'Incident Address', 'Offense Description', 'Offense Category', 'State Offense Code', 'Incident Date & Time', 'Incident Time (24h)', 'Day of Week (Sunday is 1)', 'Hour of Day', 'Year', 'Scout Car Area', 'Precinct Number', 'Census Block GEOID', 'Neighborhood', 'Council District', 'Zip Code', 'Longitude', 'Latitude', 'IBR Report Date', 'Location', 'uniq']\""
      ]
     },
     "execution_count": 31,
     "metadata": {},
     "output_type": "execute_result"
    }
   ],
   "source": [
    "# examine column headers\n",
    "str(df.columns)"
   ]
  },
  {
   "cell_type": "code",
   "execution_count": 32,
   "metadata": {},
   "outputs": [
    {
     "data": {
      "text/plain": [
       "[Row(Crime ID=u'3027833', Report #=u'1702210072', Incident Address=u'18400 block of W 8 MILE RD', Offense Description=u'ASSAULT AND BATTERY/SIMPLE ASSAULT', Offense Category=u'DAMAGE TO PROPERTY', State Offense Code=u'2900', Incident Date & Time=u'02/20/2017 11:00:00 PM', Incident Time (24h)=u'2300', Day of Week (Sunday is 1)=u'2', Hour of Day=u'23', Year=u'2017', Scout Car Area=u'0803', Precinct Number=u'08', Census Block GEOID=u'261635408002000', Neighborhood=None, Council District=u'1', Zip Code=u'48219', Longitude=u'-83.22352', Latitude=u'42.44409', IBR Report Date=u'02/23/2017 03:48:59 PM', Location=u'location', uniq=None),\n",
       " Row(Crime ID=u'(42.44409', Report #=u' -83.22352)\"', Incident Address=u'1', Offense Description=None, Offense Category=None, State Offense Code=None, Incident Date & Time=None, Incident Time (24h)=None, Day of Week (Sunday is 1)=None, Hour of Day=None, Year=None, Scout Car Area=None, Precinct Number=None, Census Block GEOID=None, Neighborhood=None, Council District=None, Zip Code=None, Longitude=None, Latitude=None, IBR Report Date=None, Location=None, uniq=None)]"
      ]
     },
     "execution_count": 32,
     "metadata": {},
     "output_type": "execute_result"
    }
   ],
   "source": [
    "# look at first 2 rows\n",
    "df.head(2)"
   ]
  },
  {
   "cell_type": "code",
   "execution_count": 33,
   "metadata": {
    "scrolled": true
   },
   "outputs": [
    {
     "name": "stdout",
     "output_type": "stream",
     "text": [
      "+----------------------+\n",
      "|OFFENSE CATEGORY      |\n",
      "+----------------------+\n",
      "|FRAUD                 |\n",
      "|OUIL                  |\n",
      "|WEAPONS OFFENSES      |\n",
      "|LIQUOR                |\n",
      "|null                  |\n",
      "|STOLEN VEHICLE        |\n",
      "|SOLICITATION          |\n",
      "|ARSON                 |\n",
      "|DAMAGE TO PROPERTY    |\n",
      "|OBSTRUCTING THE POLICE|\n",
      "|AGGRAVATED ASSAULT    |\n",
      "|GAMBLING              |\n",
      "|MISCELLANEOUS         |\n",
      "|ASSAULT               |\n",
      "|DANGEROUS DRUGS       |\n",
      "|EXTORTION             |\n",
      "|FORGERY               |\n",
      "|SEX OFFENSES          |\n",
      "|ROBBERY               |\n",
      "|LARCENY               |\n",
      "+----------------------+\n",
      "only showing top 20 rows\n",
      "\n"
     ]
    }
   ],
   "source": [
    "# look at the distinct values for 'CATEGORY'\n",
    "df.select('OFFENSE CATEGORY').distinct().show(truncate=False)"
   ]
  },
  {
   "cell_type": "code",
   "execution_count": 34,
   "metadata": {},
   "outputs": [
    {
     "data": {
      "image/png": "[encoded data removed]",
      "text/plain": [
       "<matplotlib.figure.Figure at 0x7fc2bc4d5950>"
      ]
     },
     "metadata": {},
     "output_type": "display_data"
    }
   ],
   "source": [
    "# Graph incident count by Description\n",
    "descr = df.select('OFFENSE CATEGORY').toPandas()\n",
    "descrGrp = descr.groupby('OFFENSE CATEGORY').size().rename('counts')\n",
    "descrPlot = descrGrp.plot(kind='bar')"
   ]
  },
  {
   "cell_type": "markdown",
   "metadata": {},
   "source": [
    "## Harmonize Variables"
   ]
  },
  {
   "cell_type": "markdown",
   "metadata": {},
   "source": [
    "Standard harmonised variables for crime incident datasets are defined in ./lib/harmonizeCrimeIncidents.py\n",
    "(You can open this module in JupyterNB, and modify the variable list and associated standard variable metadata as required) \n",
    "\n",
    "#### What does this do\n",
    "Harmonization is the process of mapping the raw variables of each incoming dataset to use the standard 'harmonized' \n",
    "variables and associated units of measurement, as much as possible. Harmonized datasets support cross-dataset search as well as the ability to combine/union datasets to perform multi dataset analysis and research.\n",
    "\n",
    "See examples below for how to generate new variables from existing variables, and how to manipulate variable values. The hz (harmonizeCrimeIncidents) class provides methods to help abstract the code for some common actions. \n",
    "\n",
    "#### Why are we doing this\n",
    "A core challenge when combining loosely coupled in a combined search index is dealing with different names for the same attribute. For example \"Sex\" versus \"Gender\" or \"48in\" versus \"4ft\". We have a pre-defined set of standard variable names and types that we are using for our search page, the harmonization process ensures that attributes and values in the raw data files to match that predifined set to allow for a consistent search tool across multiple data sets."
   ]
  },
  {
   "cell_type": "code",
   "execution_count": 35,
   "metadata": {},
   "outputs": [
    {
     "name": "stdout",
     "output_type": "stream",
     "text": [
      "New variable <location> created from <INCIDENT ADDRESS>\n",
      "Dropped variable <INCIDENT ADDRESS>\n",
      "New variable <description> created from <OFFENSE CATEGORY>\n",
      "New variable <crimeid> created from <Crime ID>\n",
      "Dropped variable <Crime ID>\n",
      "New variable <report#> created from <Report #>\n",
      "Dropped variable <Report #>\n",
      "New variable <offensedescription> created from <Offense Description>\n",
      "Dropped variable <Offense Description>\n",
      "New variable <offensecategory> created from <Offense Category>\n",
      "Dropped variable <Offense Category>\n",
      "New variable <stateoffensecode> created from <State Offense Code>\n",
      "Dropped variable <State Offense Code>\n",
      "New variable <incidentdate&time> created from <Incident Date & Time>\n",
      "Dropped variable <Incident Date & Time>\n",
      "New variable <incidenttime24h> created from <Incident Time (24h)>\n",
      "Dropped variable <Incident Time (24h)>\n",
      "New variable <dayofweeksundayis1> created from <Day of Week (Sunday is 1)>\n",
      "Dropped variable <Day of Week (Sunday is 1)>\n",
      "New variable <hourofday> created from <Hour of Day>\n",
      "Dropped variable <Hour of Day>\n",
      "New variable <year> created from <Year>\n",
      "New variable <scoutcararea> created from <Scout Car Area>\n",
      "Dropped variable <Scout Car Area>\n",
      "New variable <precinctnumber> created from <Precinct Number>\n",
      "Dropped variable <Precinct Number>\n",
      "New variable <censusblockgeoid> created from <Census Block GEOID>\n",
      "Dropped variable <Census Block GEOID>\n",
      "New variable <neighborhood> created from <Neighborhood>\n",
      "New variable <councildistrict> created from <Council District>\n",
      "Dropped variable <Council District>\n",
      "New variable <zipcode> created from <Zip Code>\n",
      "Dropped variable <Zip Code>\n",
      "New variable <longitude> created from <Longitude>\n",
      "New variable <latitude> created from <Latitude>\n",
      "New variable <ibrreportdate> created from <IBR Report Date>\n",
      "Dropped variable <IBR Report Date>\n"
     ]
    }
   ],
   "source": [
    "# Use hz.mapVar(old,new, keepOrig=False) to create new variables from the original variables, by default dropping \n",
    "# the original variable. Use 'keepOrig=True' argument to keep the original variable in the dataset.\n",
    "# Metadata for the transformation will be captured and included in the data dictionary\n",
    "\n",
    "df = hz.mapVar(df, \"INCIDENT ADDRESS\", \"location\")\n",
    "df = hz.mapVar(df, \"OFFENSE CATEGORY\", \"description\", keepOrig=True)  # make a copy of CATEGORY variable, keeping original\n",
    "\n",
    "# Rename any variables that have illegal names \n",
    "# no illegal characters or spaces (required to support parquet output format)\n",
    "# all lowercase variable names (required to provide compatibility with Amazon Athena)\n",
    "df = hz.makeValidVariableNames(df)"
   ]
  },
  {
   "cell_type": "code",
   "execution_count": 36,
   "metadata": {},
   "outputs": [
    {
     "name": "stdout",
     "output_type": "stream",
     "text": [
      "Values for description converted per supplied mapping\n"
     ]
    }
   ],
   "source": [
    "# Harmonize Description variable to standard values.\n",
    "descrMappings = {\n",
    "    \"ABORTION\" : \"Miscellaneous\",\n",
    "    \"AGGRAVATED ASSAULT\" : \"Assault\",\n",
    "    \"ARSON\" : \"Arson\",\n",
    "    \"ASSAULT\" : \"Assault\",\n",
    "    \"BRIBERY\" : \"Bribery\",\n",
    "    \"BURGLARY\" : \"Burglary\",\n",
    "    \"CIVIL\" : \"Miscellaneous\",\n",
    "    \"DAMAGE TO PROPERTY\" : \"Miscellaneous\",\n",
    "    \"DANGEROUS DRUGS\" : \"Narcotics\",\n",
    "    \"DISORDERLY CONDUCT\" : \"Miscellaneous\",\n",
    "    \"DRUNKENNESS\" : \"OUI\",\n",
    "    \"EMBEZZLEMENT\" : \"Embezzlement\",\n",
    "    \"ENVIRONMENT\" : \"Miscellaneous\",\n",
    "    \"ESCAPE\" : \"Miscellaneous\",\n",
    "    \"EXTORTION\" : \"Miscellaneous\",\n",
    "    \"FAMILY OFFENSE\" : \"Miscellaneous\",\n",
    "    \"FORGERY\" : \"Miscellaneous\",\n",
    "    \"FRAUD\" : \"Fraud\",\n",
    "    \"GAMBLING\" : \"Miscellaneous\",\n",
    "    \"HOMICIDE\" : \"Homicide\",\n",
    "    \"IMMIGRATION\" : \"Miscellaneous\",\n",
    "    \"JUSTIFIABLE HOMICIDE\" : \"Homicide\",\n",
    "    \"KIDNAPPING\" : \"Kidnapping\",\n",
    "    \"KIDNAPING\" : \"Kidnapping\",\n",
    "    \"LARCENY\" : \"Theft\",\n",
    "    \"LIQUOR\" : \"Miscellaneous\",\n",
    "    \"MILITARY\" : \"Miscellaneous\",\n",
    "    \"MISCELLANEOUS\" : \"Miscellaneous\",\n",
    "    \"MISCELLANEOUS ARREST\" : \"Miscellaneous\",\n",
    "    \"MURDER/INFORMATION\" : \"Homicide\",\n",
    "    \"NEGLIGENT HOMICIDE\" : \"Homicide\",\n",
    "    \"OBSCENITY\" : \"Miscellaneous\",\n",
    "    \"OBSTRUCTING JUDICIARY\" : \"Miscellaneous\",\n",
    "    \"OBSTRUCTING THE POLICE\" : \"Miscellaneous\",\n",
    "    \"OTHER\" : \"Miscellaneous\",\n",
    "    \"OTHER BURGLARY\" : \"Burglary\",\n",
    "    \"OUIL\" : \"OUI\",\n",
    "    \"ROBBERY\" : \"Robbery\",\n",
    "    \"RUNAWAY\" : \"Miscellaneous\",\n",
    "    \"SOLICITATION\" : \"Miscellaneous\",\n",
    "    \"STOLEN PROPERTY\" : \"Theft\",\n",
    "    \"STOLEN VEHICLE\" : \"Vehicle Theft\",\n",
    "    \"SEXUAL ASSAULT\" : \"Sex Offenses\",\n",
    "    \"SEX OFFENSES\" : \"Sex Offenses\",\n",
    "    \"TRAFFIC\" : \"Miscellaneous\",\n",
    "    \"TRAFFIC OFFENSES\" : \"Miscellaneous\",\n",
    "    \"VAGRANCY (OTHER)\" : \"Miscellaneous\",\n",
    "    \"WEAPONS OFFENSES\" : \"Weapons\"\n",
    "}\n",
    "df = hz.mapValues(df, \"description\", descrMappings)\n"
   ]
  },
  {
   "cell_type": "code",
   "execution_count": 37,
   "metadata": {},
   "outputs": [
    {
     "name": "stdout",
     "output_type": "stream",
     "text": [
      "+-------------+\n",
      "|  description|\n",
      "+-------------+\n",
      "|Miscellaneous|\n",
      "|Vehicle Theft|\n",
      "|      Assault|\n",
      "|      Robbery|\n",
      "| Embezzlement|\n",
      "|         null|\n",
      "|        Theft|\n",
      "|      Weapons|\n",
      "|        Arson|\n",
      "|        Fraud|\n",
      "|     Homicide|\n",
      "|    Narcotics|\n",
      "|     Burglary|\n",
      "|   Kidnapping|\n",
      "| Sex Offenses|\n",
      "|          OUI|\n",
      "+-------------+\n",
      "\n"
     ]
    }
   ],
   "source": [
    "df.select(\"description\").distinct().show()"
   ]
  },
  {
   "cell_type": "code",
   "execution_count": 38,
   "metadata": {},
   "outputs": [
    {
     "name": "stdout",
     "output_type": "stream",
     "text": [
      "Add 'city' variable\n"
     ]
    }
   ],
   "source": [
    "# Add city variable. All rows are given the value of the current city name\n",
    "df = df.withColumn('city', lit(city)) \n",
    "\n",
    "# Add TransformDescr metadata field\n",
    "hz.addTransformDescr('city','\"city\" assigned by harmonization code')\n",
    "print(\"Add 'city' variable\")"
   ]
  },
  {
   "cell_type": "markdown",
   "metadata": {},
   "source": [
    "Cleanup and harmonise geographic co-ordinate variables. \n",
    "As we can see below, both LAT and LON variables have rows with invalid values - empty strings and invalid coordinates.\n",
    "For this example we will simply remove those rows from our dataset, in order to avoid constructing invalid geo-point coordinates that will cause failuers when attempting to index into elasticsearch later."
   ]
  },
  {
   "cell_type": "code",
   "execution_count": 39,
   "metadata": {},
   "outputs": [
    {
     "name": "stdout",
     "output_type": "stream",
     "text": [
      "+-------+------------------+------------------+\n",
      "|summary|          latitude|         longitude|\n",
      "+-------+------------------+------------------+\n",
      "|  count|             48406|             48406|\n",
      "|   mean| 42.32597320476823|-83.38699325476185|\n",
      "| stddev|0.8142596473263913|3.5176884111315285|\n",
      "|    min|          32.02636|        -127.91418|\n",
      "|    max|          42.47535|         -83.30388|\n",
      "+-------+------------------+------------------+\n",
      "\n"
     ]
    }
   ],
   "source": [
    "df.describe('latitude','longitude').show()"
   ]
  },
  {
   "cell_type": "code",
   "execution_count": 40,
   "metadata": {},
   "outputs": [
    {
     "name": "stdout",
     "output_type": "stream",
     "text": [
      "Deleted 48406 rows with corrupted coordinates in LATITUDE and LONGITUDE\n"
     ]
    }
   ],
   "source": [
    "# filter out records with invalid LAT or LON coordinates\n",
    "c1 = df.count()\n",
    "# eliminate empty & null values\n",
    "df = df.where(length('latitude') > 0).where(length('longitude') > 0)\n",
    "# eliminate 99999* values\n",
    "df = df.where(df.latitude < 99999).where(df.longitude < 99999)\n",
    "df = df.where(df.latitude > 0)  # Detroit latitude always > 0\n",
    "df = df.where(df.longitude < 0)  # Detroit longitude always < 0\n",
    "c2 = df.count()\n",
    "print(\"Deleted {} rows with corrupted coordinates in LATITUDE and LONGITUDE\".format(c1-c2))"
   ]
  },
  {
   "cell_type": "code",
   "execution_count": 41,
   "metadata": {},
   "outputs": [
    {
     "name": "stdout",
     "output_type": "stream",
     "text": [
      "Generated Harmonized geolocation variable, and dropped original LAT and LON variables\n"
     ]
    }
   ],
   "source": [
    "# Format GeoLocation field by combining LAT and LON\n",
    "df = df.withColumn('geolocation', concat(df.latitude, lit(','),df.longitude)) \n",
    "df = df.drop('latitude').drop('longitude')\n",
    "hz.addTransformDescr('geolocation','geolocation variable created from LAT and LON variables')\n",
    "print(\"Generated Harmonized geolocation variable, and dropped original LAT and LON variables\")"
   ]
  },
  {
   "cell_type": "code",
   "execution_count": 42,
   "metadata": {},
   "outputs": [
    {
     "name": "stdout",
     "output_type": "stream",
     "text": [
      "Harmonized date & time variables\n"
     ]
    }
   ],
   "source": [
    "# Generate standard datetime, date part, and time part fields from raw incidentdate and hour fields \n",
    "# for simplicity we will keep all times in localtime (ignoring timezones)\n",
    "\n",
    "# Split incidentdate into year, month, day (all defined as harmonized variables in the hz class)\n",
    "# incidentdate is formatted as day/month/year\n",
    "dateregex = r'(\\d+)/(\\d+)/(\\d+)'\n",
    "df = df.withColumn('month', regexp_extract('IncidentDate&Time', dateregex, 1))\n",
    "hz.addTransformDescr('month','month, extracted from incidentdate')\n",
    "df = df.withColumn('day', regexp_extract('incidentdate&time', dateregex, 2))\n",
    "hz.addTransformDescr('day','day, extracted from incidentdate')\n",
    "df = df.withColumn('year', regexp_extract('incidentdate&time', dateregex, 3))\n",
    "hz.addTransformDescr('year','year, extracted from incidentdate')\n",
    "\n",
    "# There is no Incident Time field.. Only hour.\n",
    "df = df.withColumn('hour', format_string(\"%02d\",df['hourofday'].cast('int')))    # 2 digit hour\n",
    "hz.addTransformDescr('hour','hour, derived from HOUR')\n",
    "df = df.withColumn('minute', lit('00'))  # Hardcode minute to 00\n",
    "hz.addTransformDescr('minute','minute, unrecorded in dataset - set to 00')\n",
    "\n",
    "# Create new datetime field in format YYYY-MM-DD hhmm (defined as a harmonized variable in the hz class)\n",
    "df = df.withColumn('datetime',concat(concat_ws('-',df.year,df.month,df.day),lit(' '),concat_ws(':',df.hour,df.minute,lit('00'))).cast(\"timestamp\"))\n",
    "hz.addTransformDescr('datetime','Full timestamp with date and time, eg 2007-04-05 14:30')  \n",
    "\n",
    "# Drop the original incidentdate field - no longer needed\n",
    "df = df.drop('incidentdate')\n",
    "\n",
    "# Cast all the date time part fields from string to int (allows use of numeric range filters in the search UI)\n",
    "for col in ['year','month','day','hour','minute']:\n",
    "    df = df.withColumn(col, df[col].cast(\"int\"))\n",
    "\n",
    "# Add dayofweek variable, eg Monday, Tuesday, etc. (defined as a harmonized variable in the hz class)\n",
    "df = df.withColumn('dayofweek',date_format('datetime', 'EEEE'))\n",
    "hz.addTransformDescr('dayofweek','day of Week, calculated from datetime')  \n",
    "\n",
    "print(\"Harmonized date & time variables\")"
   ]
  },
  {
   "cell_type": "code",
   "execution_count": 43,
   "metadata": {},
   "outputs": [
    {
     "name": "stdout",
     "output_type": "stream",
     "text": [
      "+---------------------+\n",
      "|datetime             |\n",
      "+---------------------+\n",
      "|2017-02-20 23:00:00.0|\n",
      "|2017-02-20 23:00:00.0|\n",
      "+---------------------+\n",
      "only showing top 2 rows\n",
      "\n"
     ]
    }
   ],
   "source": [
    "df.select('datetime').show(2,truncate=False)"
   ]
  },
  {
   "cell_type": "code",
   "execution_count": 44,
   "metadata": {},
   "outputs": [
    {
     "name": "stdout",
     "output_type": "stream",
     "text": [
      "Added dataset descriptive variables\n"
     ]
    }
   ],
   "source": [
    "# Add dataset descriptive variables (defined in hz class). \n",
    "\n",
    "# location of raw data\n",
    "df = df.withColumn('rawdatapath', lit(datasets3))\n",
    "hz.addTransformDescr('rawdatapath','Assigned by harmonization code')\n",
    "\n",
    "# location of harmonized data\n",
    "df = df.withColumn('harmonizeddatapath', lit(outputroot))\n",
    "hz.addTransformDescr('harmonizeddatapath','Assigned by harmonization code')\n",
    "\n",
    "# URL for this notoebook (notebook will be saved/published using cells at the end of the notebook)\n",
    "df = df.withColumn('notebookhtml', lit(notebook_urlbase + \".html\"))\n",
    "hz.addTransformDescr('notebookhtml','Assigned by harmonization code')\n",
    "\n",
    "print(\"Added dataset descriptive variables\")"
   ]
  },
  {
   "cell_type": "markdown",
   "metadata": {},
   "source": [
    "# Add metadata for additional variables\n",
    "Create some additional variables for this specific data set.\n",
    "\n",
    "Here we can assign a default 'vargroup' for all variables that are not part of the defined list of harmonized variables in the hz class, using the hz.addVarGroup() method.\n",
    "(The 'vargroup' is used by the search UI to group variables under 'accordian' panels in the search page side bar).\n",
    "\n",
    "We can also assign custom metadata to selected unharmonized variables as desired. NOTE:\n",
    " - default metadata for harmonized variables is defined in the hz class already, so we can ignore those\n",
    " - unharmonized variables will be assigned default metadata automatically when we build the data dictionary below using hz.buildDataDict(). However, you might want to explicitly assign metadata to selected variables to control the search UI widget type, and/or to add descriptions to the dictionary.\n",
    " \n",
    "#### What does this do\n",
    "This process adds customized search parameters to this specific data set in the UI that aren't part of our standard set.\n",
    "\n",
    "#### Why are we doing this\n",
    "Not all individual variables within a single data set are always valuable on their own. Some need some additional logic or combination to make search and discovery a better experience. This process allows the harmonization routine to apply that logic and expose it within the UI"
   ]
  },
  {
   "cell_type": "code",
   "execution_count": 45,
   "metadata": {},
   "outputs": [],
   "source": [
    "# vargroups are used to define the Search Filter UI 'accordians' and their order\n",
    "# set default variable group - used if variable is not exicitly assigned to a group\n",
    "defaultVarGroup = \"{0} (Unharmonized)\".format(city)\n",
    "hz.addVarGroup(defaultVarGroup,order=90,default=True)\n",
    "\n",
    "# Metadata for the harmonized variables is already defined in 'hz' class.\n",
    "# We can optionally add metadata here for additional (non harmonized) variables to control\n",
    "# how they are presented in the data dictionary and search UI. \n",
    "# See Baltimore or LosAngeles notebooks for examples\n"
   ]
  },
  {
   "cell_type": "code",
   "execution_count": 46,
   "metadata": {},
   "outputs": [
    {
     "data": {
      "text/plain": [
       "[Row(description=u'Miscellaneous', year=2017, neighborhood=None, location=u'18400 block of W 8 MILE RD', uniq=None, crimeid=u'3027833', report#=u'1702210072', offensedescription=u'ASSAULT AND BATTERY/SIMPLE ASSAULT', offensecategory=u'DAMAGE TO PROPERTY', stateoffensecode=u'2900', incidentdate&time=u'02/20/2017 11:00:00 PM', incidenttime24h=u'2300', dayofweeksundayis1=u'2', hourofday=u'23', scoutcararea=u'0803', precinctnumber=u'08', censusblockgeoid=u'261635408002000', councildistrict=u'1', zipcode=u'48219', ibrreportdate=u'02/23/2017 03:48:59 PM', city=u'Detroit', geolocation=u'42.44409,-83.22352', month=2, day=20, hour=23, minute=0, datetime=datetime.datetime(2017, 2, 20, 23, 0), dayofweek=u'Monday', rawdatapath=u's3://datasearch-blog-jupyterspark-xn0iflaqfg-emrbucket-10gb2028l2ygj/crimedata/raw/Detroit.csv', harmonizeddatapath=u's3://datasearch-blog-jupyterspark-xn0iflaqfg-emrbucket-10gb2028l2ygj/crimedata/harmonized/Detroit', notebookhtml=u'https://s3.amazonaws.com/datasearch-blog-jupyterspark-xn0iflaqfg-emrbucket-10gb2028l2ygj/crimedata/harmonized/Detroit/docs/Detroit-notebook.html'),\n",
       " Row(description=u'Assault', year=2017, neighborhood=None, location=u'18400 block of W 8 MILE RD', uniq=None, crimeid=u'3027833', report#=u'1702210072', offensedescription=u'ASSAULT AND BATTERY/SIMPLE ASSAULT', offensecategory=u'ASSAULT', stateoffensecode=u'1301', incidentdate&time=u'02/20/2017 11:00:00 PM', incidenttime24h=u'2300', dayofweeksundayis1=u'2', hourofday=u'23', scoutcararea=u'0803', precinctnumber=u'08', censusblockgeoid=u'261635408002000', councildistrict=u'1', zipcode=u'48219', ibrreportdate=u'02/23/2017 03:48:59 PM', city=u'Detroit', geolocation=u'42.44409,-83.22352', month=2, day=20, hour=23, minute=0, datetime=datetime.datetime(2017, 2, 20, 23, 0), dayofweek=u'Monday', rawdatapath=u's3://datasearch-blog-jupyterspark-xn0iflaqfg-emrbucket-10gb2028l2ygj/crimedata/raw/Detroit.csv', harmonizeddatapath=u's3://datasearch-blog-jupyterspark-xn0iflaqfg-emrbucket-10gb2028l2ygj/crimedata/harmonized/Detroit', notebookhtml=u'https://s3.amazonaws.com/datasearch-blog-jupyterspark-xn0iflaqfg-emrbucket-10gb2028l2ygj/crimedata/harmonized/Detroit/docs/Detroit-notebook.html')]"
      ]
     },
     "execution_count": 46,
     "metadata": {},
     "output_type": "execute_result"
    }
   ],
   "source": [
    "df.head(2)"
   ]
  },
  {
   "cell_type": "markdown",
   "metadata": {},
   "source": [
    "## Generate Dictionary\n",
    "Generate a dictionary table containing field distribution stats and metadata data from the mappings \n",
    "\n",
    "#### What does this do\n",
    "All variables that a) don't match standard harmonized variables, and b) don't have added metadata will be assigned to the default vargroup, and the variable type will be derived from the data distribution characteristics, calculated by hz.buildDataDict().\n",
    "\n",
    "#### Why are we doing this\n",
    "The data dictionary is used to generate dynamic search widgets and tools based on the data sets themselves. By basing our search widgets on the data itself, rather than hard-coded, it allows the search UI to update based on available data."
   ]
  },
  {
   "cell_type": "code",
   "execution_count": 47,
   "metadata": {},
   "outputs": [
    {
     "name": "stdout",
     "output_type": "stream",
     "text": [
      "Data Dictionary created.\n"
     ]
    }
   ],
   "source": [
    "df_dict = hz.buildDataDict(df)\n",
    "print(\"Data Dictionary created.\")"
   ]
  },
  {
   "cell_type": "markdown",
   "metadata": {},
   "source": [
    "## Save Data and Dictionary\n",
    "Use the hiveContext object 'hc' to create a new schema for this city, and save the data dafarame and dictionary dataframe as tables in this schema with the hz.saveAsParquetTable() method. \n",
    "\n",
    "#### What does this do\n",
    "Data and the associated dictionary information is saved to the S3 output path as parquet files.\n",
    "\n",
    "#### Why are we doing this\n",
    "This allows the tables we've created or modified through harmonization to be easily restored, combined, and analysed using SQL."
   ]
  },
  {
   "cell_type": "code",
   "execution_count": 48,
   "metadata": {},
   "outputs": [
    {
     "name": "stdout",
     "output_type": "stream",
     "text": [
      "Creating Spark SQL table: incidents.detroit\n",
      "Creating Spark SQL table: incidents.detroit_dict\n",
      "Done creating tables\n"
     ]
    }
   ],
   "source": [
    "# Drop and create schema\n",
    "schema=\"incidents\"\n",
    "hc.sql(\"DROP SCHEMA IF EXISTS {0} CASCADE\".format(schema))\n",
    "hc.sql(\"CREATE SCHEMA {0} COMMENT 'Crime incident data for {0}'\".format(schema))\n",
    "\n",
    "# Create Incident Data as SparkSQL table with S3 backed storage\n",
    "data_table=city.lower()\n",
    "data_table_ddl=hz.saveAsParquetTable(df,schema,data_table,outputpath_data)\n",
    "\n",
    "# Create Dictionary as SparkSQL table with S3 backed storage\n",
    "dict_table = data_table+\"_dict\"\n",
    "dict_table_ddl=hz.saveAsParquetTable(df_dict.coalesce(1),schema,dict_table,outputpath_dictionary)\n",
    "\n",
    "print \"Done creating tables\""
   ]
  },
  {
   "cell_type": "markdown",
   "metadata": {},
   "source": [
    "## Create External Tables in Amazon Athena\n",
    "\n",
    "#### What does this do\n",
    "\n",
    "The S3 parquet files containing the harmonizd data are registered as Amazon Athena external tables.\n",
    "\n",
    "#### Why are we doing this\n",
    "\n",
    "You can use Amazon Athena to perform detailed ad-hoc analysis of this and other harmonised datasets using the familiar power of SQL. Using Athena also allows you to easily integrate the dataset with Amazon Quicksight where you can create visual analyses and dashboards."
   ]
  },
  {
   "cell_type": "code",
   "execution_count": 49,
   "metadata": {},
   "outputs": [
    {
     "name": "stdout",
     "output_type": "stream",
     "text": [
      "Exectuting Athena DDL: CREATE DATABASE IF NOT EXISTS `incidents`;\n",
      "Exectuting Athena DDL: DROP TABLE IF EXISTS `incidents`.`detroit`;\n",
      "Exectuting Athena DDL: DROP TABLE IF EXISTS `incidents`.`detroit_dict`;\n",
      "Exectuting Athena DDL: CREATE EXTERNAL TABLE `incidents`.`detroit` (`description` STRING, `year` INT, `neighborhood` STRING, `location` STRING, `uniq` STRING, `crimeid` STRING, `report#` STRING, `offensedescription` STRING, `offensecategory` STRING, `stateoffensecode` STRING, `incidentdate&time` STRING, `incidenttime24h` STRING, `dayofweeksundayis1` STRING, `hourofday` STRING, `scoutcararea` STRING, `precinctnumber` STRING, `censusblockgeoid` STRING, `councildistrict` STRING, `zipcode` STRING, `ibrreportdate` STRING, `city` STRING, `geolocation` STRING, `month` INT, `day` INT, `hour` INT, `minute` INT, `datetime` TIMESTAMP, `dayofweek` STRING, `rawdatapath` STRING, `harmonizeddatapath` STRING, `notebookhtml` STRING)\n",
      "STORED AS parquet\n",
      "LOCATION 's3://datasearch-blog-jupyterspark-xn0iflaqfg-emrbucket-10gb2028l2ygj/crimedata/harmonized/Detroit/data/table=detroit/';\n",
      "Exectuting Athena DDL: CREATE EXTERNAL TABLE `incidents`.`detroit_dict` (`dict_field` STRING, `dict_count` BIGINT, `dict_countdistinct` BIGINT, `dict_countmissing` BIGINT, `dict_mean` DOUBLE, `dict_stddev` DOUBLE, `dict_min` STRING, `dict_max` STRING, `dict_vargroup` STRING, `dict_vardescr` STRING, `dict_uifilter` STRING, `dict_varmapping` STRING, `dict_vartype` STRING)\n",
      "STORED AS parquet\n",
      "LOCATION 's3://datasearch-blog-jupyterspark-xn0iflaqfg-emrbucket-10gb2028l2ygj/crimedata/harmonized/Detroit/dictionary/table=detroit_dict/';\n"
     ]
    }
   ],
   "source": [
    "ddlList=[\n",
    "    \"CREATE DATABASE IF NOT EXISTS `{0}`;\".format(schema),\n",
    "    \"DROP TABLE IF EXISTS `{0}`.`{1}`;\".format(schema,data_table),\n",
    "    \"DROP TABLE IF EXISTS `{0}`.`{1}`;\".format(schema,dict_table),\n",
    "    data_table_ddl,\n",
    "    dict_table_ddl\n",
    "]\n",
    "athena_s3_staging_dir = \"s3://{0}/athena_staging_dir\".format(scratch_bucket)\n",
    "hz.executeAthenaDDL(athena_s3_staging_dir, ddlList)"
   ]
  },
  {
   "cell_type": "markdown",
   "metadata": {},
   "source": [
    "## Index Data and Dictionary\n",
    "\n",
    "#### What does this do\n",
    "Creates or replaces the elastic search index to store our harmonized data and assoicated dictionary file\n",
    "\n",
    "#### Why are we doing this\n",
    "We save both incident data and dictionary information to elastic search, to power the search page.\n",
    "The dictionary fields are used to dynamically build the search filter panels in the search page side bar - these fields identify each variable, it's vargroup (accordian panel), type (ui selector to use), & description (hover tooltip).\n",
    "The incident record fields are used for the dataset record search."
   ]
  },
  {
   "cell_type": "markdown",
   "metadata": {},
   "source": [
    "Call  es.createOrReplaceIndex(es_index) to reset and set up default field mappings for the index (see ./lib/elasticsearch.py for more info on default mappings). \n",
    "You can also optionally specify field mappings for individual fields using es.addTypeMapping() as illustrated below, to support the search features you need - for example use a mapping to set date type for timestamps, or to speficy geo_point field if you want to use maps in your Kibana dashboard."
   ]
  },
  {
   "cell_type": "code",
   "execution_count": 50,
   "metadata": {},
   "outputs": [
    {
     "name": "stdout",
     "output_type": "stream",
     "text": [
      "No existing elasticsearch index (detroit_harmonized)\n",
      "Create index <detroit_harmonized> response: {\"acknowledged\":true,\"shards_acknowledged\":true}\n",
      "Add type mapping for <detroit_harmonized.incidents> response: {\"acknowledged\":true}\n"
     ]
    }
   ],
   "source": [
    "# set up data index\n",
    "# index name city name for uniqueness, and *harmonized* to allow ES queries across all datasets\n",
    "es_dataindex = \"{0}_harmonized\".format(city.lower())\n",
    "es_datatype = 'incidents'\n",
    "es.createOrReplaceIndex(es_dataindex)\n",
    "\n",
    "# create mappings for geolocation and datetime field.. all other fields inherit default mapping\n",
    "mapping=\"\"\"\n",
    "{\n",
    "    \"properties\": {\n",
    "        \"geolocation\": {\n",
    "          \"type\": \"geo_point\"\n",
    "        },\n",
    "        \"datetime\": {\n",
    "          \"type\": \"date\",\n",
    "          \"format\" : \"yyyy-MM-dd HH:mm:ss\"}\n",
    "        }\n",
    "    }\n",
    "}\n",
    "\"\"\"\n",
    "es.addTypeMapping(es_dataindex, es_datatype, mapping)"
   ]
  },
  {
   "cell_type": "code",
   "execution_count": 51,
   "metadata": {},
   "outputs": [
    {
     "name": "stdout",
     "output_type": "stream",
     "text": [
      "No existing elasticsearch index (detroit_dictionary)\n",
      "Create index <detroit_dictionary> response: {\"acknowledged\":true,\"shards_acknowledged\":true}\n"
     ]
    }
   ],
   "source": [
    "# set up dictionary index\n",
    "# index name city name for uniqueness, and *dictionary* to allow ES queries across all datasets\n",
    "es_dictindex = \"{0}_dictionary\".format(city.lower())\n",
    "es_dicttype = 'dictionary'\n",
    "es.createOrReplaceIndex(es_dictindex)"
   ]
  },
  {
   "cell_type": "markdown",
   "metadata": {},
   "source": [
    "All data and dictionary fields can be indexed, by calling ex.saveToEs() and passing the df and df_dict object directly, as shown below.\n",
    "If instead you want to index a subset of the variables, make copy of the data dataframe, drop columns you don't want to index, generate a new dictionary dataframe using the new data dataframe as the argument to hz.buildDataDict(df_for_indexing), and pass the new data and dictionary dataframes to es.saveToEs() in the dfList array argument, shown below."
   ]
  },
  {
   "cell_type": "code",
   "execution_count": 52,
   "metadata": {},
   "outputs": [
    {
     "name": "stdout",
     "output_type": "stream",
     "text": [
      "Saving data to elasticsearch - please be patient\n",
      "Dataset 1 saved to elasticsearch <detroit_harmonized/incidents>\n"
     ]
    }
   ],
   "source": [
    "# index all variables in data dataframe\n",
    "print(\"Saving data to elasticsearch - please be patient\")\n",
    "df = df.withColumn(\"datetime\",df[\"datetime\"].cast(\"string\")) # elasticsearch needs datetimes in a string type\n",
    "es.saveToEs(df,index=es_dataindex,doctype=es_datatype)"
   ]
  },
  {
   "cell_type": "code",
   "execution_count": 53,
   "metadata": {},
   "outputs": [
    {
     "name": "stdout",
     "output_type": "stream",
     "text": [
      "Saving dictionary to elasticsearch - please be patient\n",
      "Dataset 1 saved to elasticsearch <detroit_dictionary/dictionary>\n"
     ]
    }
   ],
   "source": [
    "# index all variables in dictionary dataframe\n",
    "print(\"Saving dictionary to elasticsearch - please be patient\")\n",
    "es.saveToEs(df_dict,index=es_dictindex,doctype=es_dicttype)"
   ]
  },
  {
   "cell_type": "markdown",
   "metadata": {},
   "source": [
    "## View Harmonized Data Sample\n",
    "\n",
    "#### What does this do\n",
    "Test that the data table was sucessfully created by using SQL to load a few rows.\n",
    "\n",
    "#### Why are we doing this\n",
    "What we see below is what will be exposed in the search UI, so we want to see what our harmonized data looks like. Did we get all the right headers? Does it match the target data type? Is any applied logic correct? etc... "
   ]
  },
  {
   "cell_type": "code",
   "execution_count": 54,
   "metadata": {},
   "outputs": [
    {
     "data": {
      "text/html": [
       "<table border=\"1\" class=\"dataframe\">\n",
       "  <thead>\n",
       "    <tr style=\"text-align: right;\">\n",
       "      <th></th>\n",
       "      <th>description</th>\n",
       "      <th>year</th>\n",
       "      <th>neighborhood</th>\n",
       "      <th>location</th>\n",
       "      <th>uniq</th>\n",
       "      <th>crimeid</th>\n",
       "      <th>report#</th>\n",
       "      <th>offensedescription</th>\n",
       "      <th>offensecategory</th>\n",
       "      <th>stateoffensecode</th>\n",
       "      <th>incidentdate&amp;time</th>\n",
       "      <th>incidenttime24h</th>\n",
       "      <th>dayofweeksundayis1</th>\n",
       "      <th>hourofday</th>\n",
       "      <th>scoutcararea</th>\n",
       "      <th>precinctnumber</th>\n",
       "      <th>censusblockgeoid</th>\n",
       "      <th>councildistrict</th>\n",
       "      <th>zipcode</th>\n",
       "      <th>ibrreportdate</th>\n",
       "      <th>city</th>\n",
       "      <th>geolocation</th>\n",
       "      <th>month</th>\n",
       "      <th>day</th>\n",
       "      <th>hour</th>\n",
       "      <th>minute</th>\n",
       "      <th>datetime</th>\n",
       "      <th>dayofweek</th>\n",
       "      <th>rawdatapath</th>\n",
       "      <th>harmonizeddatapath</th>\n",
       "      <th>notebookhtml</th>\n",
       "    </tr>\n",
       "  </thead>\n",
       "  <tbody>\n",
       "    <tr>\n",
       "      <th>0</th>\n",
       "      <td>Arson</td>\n",
       "      <td>2017</td>\n",
       "      <td>Barton-McFarland</td>\n",
       "      <td>8000 block of WISCONSIN ST</td>\n",
       "      <td>None</td>\n",
       "      <td>3014192</td>\n",
       "      <td>1701160251</td>\n",
       "      <td>ARSON</td>\n",
       "      <td>ARSON</td>\n",
       "      <td>2099</td>\n",
       "      <td>01/16/2017 05:20:00 PM</td>\n",
       "      <td>1720</td>\n",
       "      <td>2</td>\n",
       "      <td>17</td>\n",
       "      <td>0210</td>\n",
       "      <td>02</td>\n",
       "      <td>261635347002004</td>\n",
       "      <td>7</td>\n",
       "      <td>48204</td>\n",
       "      <td>02/22/2017 03:33:09 PM</td>\n",
       "      <td>Detroit</td>\n",
       "      <td>42.35227,-83.15393</td>\n",
       "      <td>1</td>\n",
       "      <td>16</td>\n",
       "      <td>17</td>\n",
       "      <td>0</td>\n",
       "      <td>2017-01-16 17:00:00</td>\n",
       "      <td>Monday</td>\n",
       "      <td>s3://datasearch-blog-jupyterspark-xn0iflaqfg-e...</td>\n",
       "      <td>s3://datasearch-blog-jupyterspark-xn0iflaqfg-e...</td>\n",
       "      <td>https://s3.amazonaws.com/datasearch-blog-jupyt...</td>\n",
       "    </tr>\n",
       "    <tr>\n",
       "      <th>1</th>\n",
       "      <td>Miscellaneous</td>\n",
       "      <td>2017</td>\n",
       "      <td>Barton-McFarland</td>\n",
       "      <td>8600 block of JOY RD</td>\n",
       "      <td>None</td>\n",
       "      <td>3042163</td>\n",
       "      <td>1703240355</td>\n",
       "      <td>VIOLATION OF CONTROLED SUBSTANCE ACT - (VCSA)</td>\n",
       "      <td>OBSTRUCTING THE POLICE</td>\n",
       "      <td>4801</td>\n",
       "      <td>03/24/2017 06:05:00 PM</td>\n",
       "      <td>1805</td>\n",
       "      <td>6</td>\n",
       "      <td>18</td>\n",
       "      <td>0209</td>\n",
       "      <td>02</td>\n",
       "      <td>261635347004034</td>\n",
       "      <td>7</td>\n",
       "      <td>48204</td>\n",
       "      <td>03/29/2017 09:26:03 AM</td>\n",
       "      <td>Detroit</td>\n",
       "      <td>42.35896,-83.15486</td>\n",
       "      <td>3</td>\n",
       "      <td>24</td>\n",
       "      <td>18</td>\n",
       "      <td>0</td>\n",
       "      <td>2017-03-24 18:00:00</td>\n",
       "      <td>Friday</td>\n",
       "      <td>s3://datasearch-blog-jupyterspark-xn0iflaqfg-e...</td>\n",
       "      <td>s3://datasearch-blog-jupyterspark-xn0iflaqfg-e...</td>\n",
       "      <td>https://s3.amazonaws.com/datasearch-blog-jupyt...</td>\n",
       "    </tr>\n",
       "    <tr>\n",
       "      <th>2</th>\n",
       "      <td>Narcotics</td>\n",
       "      <td>2017</td>\n",
       "      <td>Barton-McFarland</td>\n",
       "      <td>8600 block of JOY RD</td>\n",
       "      <td>None</td>\n",
       "      <td>3042163</td>\n",
       "      <td>1703240355</td>\n",
       "      <td>VIOLATION OF CONTROLED SUBSTANCE ACT - (VCSA)</td>\n",
       "      <td>DANGEROUS DRUGS</td>\n",
       "      <td>3501</td>\n",
       "      <td>03/24/2017 06:05:00 PM</td>\n",
       "      <td>1805</td>\n",
       "      <td>6</td>\n",
       "      <td>18</td>\n",
       "      <td>0209</td>\n",
       "      <td>02</td>\n",
       "      <td>261635347004034</td>\n",
       "      <td>7</td>\n",
       "      <td>48204</td>\n",
       "      <td>03/29/2017 09:26:03 AM</td>\n",
       "      <td>Detroit</td>\n",
       "      <td>42.35896,-83.15486</td>\n",
       "      <td>3</td>\n",
       "      <td>24</td>\n",
       "      <td>18</td>\n",
       "      <td>0</td>\n",
       "      <td>2017-03-24 18:00:00</td>\n",
       "      <td>Friday</td>\n",
       "      <td>s3://datasearch-blog-jupyterspark-xn0iflaqfg-e...</td>\n",
       "      <td>s3://datasearch-blog-jupyterspark-xn0iflaqfg-e...</td>\n",
       "      <td>https://s3.amazonaws.com/datasearch-blog-jupyt...</td>\n",
       "    </tr>\n",
       "  </tbody>\n",
       "</table>"
      ],
      "text/plain": [
       "<IPython.core.display.HTML object>"
      ]
     },
     "execution_count": 54,
     "metadata": {},
     "output_type": "execute_result"
    }
   ],
   "source": [
    "sql=\"SELECT * FROM %s.%s LIMIT 3\" % (schema, data_table)\n",
    "# run query, convert results to a local pandas dataframe, and display as an HTML table.\n",
    "HTML(hc.sql(sql).toPandas().to_html())"
   ]
  },
  {
   "cell_type": "markdown",
   "metadata": {},
   "source": [
    "## View Data Dictionary\n",
    "\n",
    "#### What does this do\n",
    "Test the summary of the data to verify our dictionary was successfully created\n",
    "\n",
    "#### Why are we doing this\n",
    "The data dictionary drives how the data is organized and presented in the UI. We want to ensure we have our expected row counts, data types, mins and means, and that data is organized correctly for display in the UI. What we see here will translate into the search widgets and any available ranges that control those widgets."
   ]
  },
  {
   "cell_type": "code",
   "execution_count": 55,
   "metadata": {},
   "outputs": [
    {
     "data": {
      "text/html": [
       "<table border=\"1\" class=\"dataframe\">\n",
       "  <thead>\n",
       "    <tr style=\"text-align: right;\">\n",
       "      <th></th>\n",
       "      <th>dict_field</th>\n",
       "      <th>dict_count</th>\n",
       "      <th>dict_countdistinct</th>\n",
       "      <th>dict_countmissing</th>\n",
       "      <th>dict_mean</th>\n",
       "      <th>dict_stddev</th>\n",
       "      <th>dict_min</th>\n",
       "      <th>dict_max</th>\n",
       "      <th>dict_vargroup</th>\n",
       "      <th>dict_vardescr</th>\n",
       "      <th>dict_uifilter</th>\n",
       "      <th>dict_varmapping</th>\n",
       "      <th>dict_vartype</th>\n",
       "    </tr>\n",
       "  </thead>\n",
       "  <tbody>\n",
       "    <tr>\n",
       "      <th>0</th>\n",
       "      <td>censusblockgeoid</td>\n",
       "      <td>48106</td>\n",
       "      <td>11232</td>\n",
       "      <td>300</td>\n",
       "      <td>NaN</td>\n",
       "      <td>NaN</td>\n",
       "      <td>260992521002012</td>\n",
       "      <td>261639859001019</td>\n",
       "      <td>90.Detroit (Unharmonized)</td>\n",
       "      <td>unknown</td>\n",
       "      <td>True</td>\n",
       "      <td>Source Census Block GEOID. Variable value unch...</td>\n",
       "      <td>text</td>\n",
       "    </tr>\n",
       "    <tr>\n",
       "      <th>1</th>\n",
       "      <td>city</td>\n",
       "      <td>48406</td>\n",
       "      <td>1</td>\n",
       "      <td>0</td>\n",
       "      <td>NaN</td>\n",
       "      <td>NaN</td>\n",
       "      <td>Detroit</td>\n",
       "      <td>Detroit</td>\n",
       "      <td>04.Location</td>\n",
       "      <td>Incident city</td>\n",
       "      <td>True</td>\n",
       "      <td>\"city\" assigned by harmonization code</td>\n",
       "      <td>text</td>\n",
       "    </tr>\n",
       "    <tr>\n",
       "      <th>2</th>\n",
       "      <td>councildistrict</td>\n",
       "      <td>47744</td>\n",
       "      <td>7</td>\n",
       "      <td>662</td>\n",
       "      <td>NaN</td>\n",
       "      <td>NaN</td>\n",
       "      <td>1</td>\n",
       "      <td>7</td>\n",
       "      <td>90.Detroit (Unharmonized)</td>\n",
       "      <td>unknown</td>\n",
       "      <td>True</td>\n",
       "      <td>Source Council District. Variable value unchan...</td>\n",
       "      <td>text</td>\n",
       "    </tr>\n",
       "    <tr>\n",
       "      <th>3</th>\n",
       "      <td>crimeid</td>\n",
       "      <td>48406</td>\n",
       "      <td>45980</td>\n",
       "      <td>0</td>\n",
       "      <td>NaN</td>\n",
       "      <td>NaN</td>\n",
       "      <td>3000004</td>\n",
       "      <td>3093774</td>\n",
       "      <td>90.Detroit (Unharmonized)</td>\n",
       "      <td>unknown</td>\n",
       "      <td>True</td>\n",
       "      <td>Source Crime ID. Variable value unchanged from...</td>\n",
       "      <td>text</td>\n",
       "    </tr>\n",
       "    <tr>\n",
       "      <th>4</th>\n",
       "      <td>datetime</td>\n",
       "      <td>48406</td>\n",
       "      <td>6139</td>\n",
       "      <td>0</td>\n",
       "      <td>NaN</td>\n",
       "      <td>NaN</td>\n",
       "      <td>2007-04-17 00:00:00</td>\n",
       "      <td>2017-07-21 11:00:00</td>\n",
       "      <td>00.Date and Time</td>\n",
       "      <td>Incident date and time</td>\n",
       "      <td>True</td>\n",
       "      <td>Full timestamp with date and time, eg 2007-04-...</td>\n",
       "      <td>datetime</td>\n",
       "    </tr>\n",
       "    <tr>\n",
       "      <th>5</th>\n",
       "      <td>day</td>\n",
       "      <td>48406</td>\n",
       "      <td>31</td>\n",
       "      <td>0</td>\n",
       "      <td>15.201773</td>\n",
       "      <td>8.667899</td>\n",
       "      <td>1</td>\n",
       "      <td>31</td>\n",
       "      <td>00.Date and Time</td>\n",
       "      <td>Incident date</td>\n",
       "      <td>True</td>\n",
       "      <td>day, extracted from incidentdate</td>\n",
       "      <td>enum,1,2,3,4,5,6,7,8,9,10,11,12,13,14,15,16,17...</td>\n",
       "    </tr>\n",
       "    <tr>\n",
       "      <th>6</th>\n",
       "      <td>dayofweek</td>\n",
       "      <td>48406</td>\n",
       "      <td>7</td>\n",
       "      <td>0</td>\n",
       "      <td>NaN</td>\n",
       "      <td>NaN</td>\n",
       "      <td>Friday</td>\n",
       "      <td>Wednesday</td>\n",
       "      <td>00.Date and Time</td>\n",
       "      <td>Incident day of week</td>\n",
       "      <td>True</td>\n",
       "      <td>day of Week, calculated from datetime</td>\n",
       "      <td>enum,Sunday,Monday,Tuesday,Wednesday,Thursday,...</td>\n",
       "    </tr>\n",
       "    <tr>\n",
       "      <th>7</th>\n",
       "      <td>dayofweeksundayis1</td>\n",
       "      <td>48406</td>\n",
       "      <td>7</td>\n",
       "      <td>0</td>\n",
       "      <td>NaN</td>\n",
       "      <td>NaN</td>\n",
       "      <td>1</td>\n",
       "      <td>7</td>\n",
       "      <td>90.Detroit (Unharmonized)</td>\n",
       "      <td>unknown</td>\n",
       "      <td>True</td>\n",
       "      <td>Source Day of Week (Sunday is 1). Variable val...</td>\n",
       "      <td>text</td>\n",
       "    </tr>\n",
       "    <tr>\n",
       "      <th>8</th>\n",
       "      <td>description</td>\n",
       "      <td>47350</td>\n",
       "      <td>15</td>\n",
       "      <td>1056</td>\n",
       "      <td>NaN</td>\n",
       "      <td>NaN</td>\n",
       "      <td>Arson</td>\n",
       "      <td>Weapons</td>\n",
       "      <td>01.Incident</td>\n",
       "      <td>Incident description</td>\n",
       "      <td>True</td>\n",
       "      <td>Source OFFENSE CATEGORY. Map values {\"KIDNAPPI...</td>\n",
       "      <td>text</td>\n",
       "    </tr>\n",
       "    <tr>\n",
       "      <th>9</th>\n",
       "      <td>geolocation</td>\n",
       "      <td>48406</td>\n",
       "      <td>39480</td>\n",
       "      <td>0</td>\n",
       "      <td>NaN</td>\n",
       "      <td>NaN</td>\n",
       "      <td>32.02636,-127.91418</td>\n",
       "      <td>42.47535,-83.02128</td>\n",
       "      <td>04.Location</td>\n",
       "      <td>Incident geoLocation coordinates</td>\n",
       "      <td>False</td>\n",
       "      <td>geolocation variable created from LAT and LON ...</td>\n",
       "      <td>text</td>\n",
       "    </tr>\n",
       "    <tr>\n",
       "      <th>10</th>\n",
       "      <td>harmonizeddatapath</td>\n",
       "      <td>48406</td>\n",
       "      <td>1</td>\n",
       "      <td>0</td>\n",
       "      <td>NaN</td>\n",
       "      <td>NaN</td>\n",
       "      <td>s3://datasearch-blog-jupyterspark-xn0iflaqfg-e...</td>\n",
       "      <td>s3://datasearch-blog-jupyterspark-xn0iflaqfg-e...</td>\n",
       "      <td>99.Miscellaneous</td>\n",
       "      <td>S3 Path to harmonized dataset root prefix.</td>\n",
       "      <td>False</td>\n",
       "      <td>Assigned by harmonization code</td>\n",
       "      <td>text</td>\n",
       "    </tr>\n",
       "    <tr>\n",
       "      <th>11</th>\n",
       "      <td>hour</td>\n",
       "      <td>48406</td>\n",
       "      <td>24</td>\n",
       "      <td>0</td>\n",
       "      <td>12.330806</td>\n",
       "      <td>7.085211</td>\n",
       "      <td>0</td>\n",
       "      <td>23</td>\n",
       "      <td>00.Date and Time</td>\n",
       "      <td>Incident hour</td>\n",
       "      <td>True</td>\n",
       "      <td>hour, derived from HOUR</td>\n",
       "      <td>enum,1,2,3,4,5,6,7,8,9,10,11,12,13,14,15,16,17...</td>\n",
       "    </tr>\n",
       "    <tr>\n",
       "      <th>12</th>\n",
       "      <td>hourofday</td>\n",
       "      <td>48406</td>\n",
       "      <td>24</td>\n",
       "      <td>0</td>\n",
       "      <td>NaN</td>\n",
       "      <td>NaN</td>\n",
       "      <td>0</td>\n",
       "      <td>9</td>\n",
       "      <td>90.Detroit (Unharmonized)</td>\n",
       "      <td>unknown</td>\n",
       "      <td>True</td>\n",
       "      <td>Source Hour of Day. Variable value unchanged f...</td>\n",
       "      <td>text</td>\n",
       "    </tr>\n",
       "    <tr>\n",
       "      <th>13</th>\n",
       "      <td>ibrreportdate</td>\n",
       "      <td>48406</td>\n",
       "      <td>57</td>\n",
       "      <td>0</td>\n",
       "      <td>NaN</td>\n",
       "      <td>NaN</td>\n",
       "      <td>01/27/2017 03:08:19 PM</td>\n",
       "      <td>12/13/2016 12:47:00 PM</td>\n",
       "      <td>90.Detroit (Unharmonized)</td>\n",
       "      <td>unknown</td>\n",
       "      <td>True</td>\n",
       "      <td>Source IBR Report Date. Variable value unchang...</td>\n",
       "      <td>text</td>\n",
       "    </tr>\n",
       "    <tr>\n",
       "      <th>14</th>\n",
       "      <td>incidentdate&amp;time</td>\n",
       "      <td>48406</td>\n",
       "      <td>28659</td>\n",
       "      <td>0</td>\n",
       "      <td>NaN</td>\n",
       "      <td>NaN</td>\n",
       "      <td>01/01/2009 12:00:00 AM</td>\n",
       "      <td>12/31/2016 12:45:00 PM</td>\n",
       "      <td>90.Detroit (Unharmonized)</td>\n",
       "      <td>unknown</td>\n",
       "      <td>True</td>\n",
       "      <td>Source Incident Date &amp; Time. Variable value un...</td>\n",
       "      <td>text</td>\n",
       "    </tr>\n",
       "    <tr>\n",
       "      <th>15</th>\n",
       "      <td>incidenttime24h</td>\n",
       "      <td>48406</td>\n",
       "      <td>1435</td>\n",
       "      <td>0</td>\n",
       "      <td>NaN</td>\n",
       "      <td>NaN</td>\n",
       "      <td>0000</td>\n",
       "      <td>2359</td>\n",
       "      <td>90.Detroit (Unharmonized)</td>\n",
       "      <td>unknown</td>\n",
       "      <td>True</td>\n",
       "      <td>Source Incident Time (24h). Variable value unc...</td>\n",
       "      <td>text</td>\n",
       "    </tr>\n",
       "    <tr>\n",
       "      <th>16</th>\n",
       "      <td>location</td>\n",
       "      <td>48406</td>\n",
       "      <td>19988</td>\n",
       "      <td>0</td>\n",
       "      <td>NaN</td>\n",
       "      <td>NaN</td>\n",
       "      <td>100 block of 8 MILE RD</td>\n",
       "      <td>W WARREN AVE</td>\n",
       "      <td>04.Location</td>\n",
       "      <td>Incident location/address</td>\n",
       "      <td>True</td>\n",
       "      <td>Source INCIDENT ADDRESS. Variable value unchan...</td>\n",
       "      <td>text</td>\n",
       "    </tr>\n",
       "    <tr>\n",
       "      <th>17</th>\n",
       "      <td>minute</td>\n",
       "      <td>48406</td>\n",
       "      <td>1</td>\n",
       "      <td>0</td>\n",
       "      <td>0.000000</td>\n",
       "      <td>0.000000</td>\n",
       "      <td>0</td>\n",
       "      <td>0</td>\n",
       "      <td>00.Date and Time</td>\n",
       "      <td>Incident minute</td>\n",
       "      <td>True</td>\n",
       "      <td>minute, unrecorded in dataset - set to 00</td>\n",
       "      <td>range,0,59,1</td>\n",
       "    </tr>\n",
       "    <tr>\n",
       "      <th>18</th>\n",
       "      <td>month</td>\n",
       "      <td>48406</td>\n",
       "      <td>12</td>\n",
       "      <td>0</td>\n",
       "      <td>4.882845</td>\n",
       "      <td>3.138476</td>\n",
       "      <td>1</td>\n",
       "      <td>12</td>\n",
       "      <td>00.Date and Time</td>\n",
       "      <td>Incident month</td>\n",
       "      <td>True</td>\n",
       "      <td>month, extracted from incidentdate</td>\n",
       "      <td>enum,1,2,3,4,5,6,7,8,9,10,11,12</td>\n",
       "    </tr>\n",
       "    <tr>\n",
       "      <th>19</th>\n",
       "      <td>neighborhood</td>\n",
       "      <td>47608</td>\n",
       "      <td>201</td>\n",
       "      <td>798</td>\n",
       "      <td>NaN</td>\n",
       "      <td>NaN</td>\n",
       "      <td>Airport Sub</td>\n",
       "      <td>Yorkshire Woods</td>\n",
       "      <td>90.Detroit (Unharmonized)</td>\n",
       "      <td>unknown</td>\n",
       "      <td>True</td>\n",
       "      <td>Source Neighborhood. Variable value unchanged ...</td>\n",
       "      <td>text</td>\n",
       "    </tr>\n",
       "    <tr>\n",
       "      <th>20</th>\n",
       "      <td>notebookhtml</td>\n",
       "      <td>48406</td>\n",
       "      <td>1</td>\n",
       "      <td>0</td>\n",
       "      <td>NaN</td>\n",
       "      <td>NaN</td>\n",
       "      <td>https://s3.amazonaws.com/datasearch-blog-jupyt...</td>\n",
       "      <td>https://s3.amazonaws.com/datasearch-blog-jupyt...</td>\n",
       "      <td>99.Miscellaneous</td>\n",
       "      <td>URL to Jupyter notebook containing documentati...</td>\n",
       "      <td>False</td>\n",
       "      <td>Assigned by harmonization code</td>\n",
       "      <td>text</td>\n",
       "    </tr>\n",
       "    <tr>\n",
       "      <th>21</th>\n",
       "      <td>offensecategory</td>\n",
       "      <td>47350</td>\n",
       "      <td>31</td>\n",
       "      <td>1056</td>\n",
       "      <td>NaN</td>\n",
       "      <td>NaN</td>\n",
       "      <td>AGGRAVATED ASSAULT</td>\n",
       "      <td>WEAPONS OFFENSES</td>\n",
       "      <td>90.Detroit (Unharmonized)</td>\n",
       "      <td>unknown</td>\n",
       "      <td>True</td>\n",
       "      <td>Source Offense Category. Variable value unchan...</td>\n",
       "      <td>text</td>\n",
       "    </tr>\n",
       "    <tr>\n",
       "      <th>22</th>\n",
       "      <td>offensedescription</td>\n",
       "      <td>48406</td>\n",
       "      <td>143</td>\n",
       "      <td>0</td>\n",
       "      <td>NaN</td>\n",
       "      <td>NaN</td>\n",
       "      <td></td>\n",
       "      <td>WEAPONS OFFENSE - OTHER</td>\n",
       "      <td>90.Detroit (Unharmonized)</td>\n",
       "      <td>unknown</td>\n",
       "      <td>True</td>\n",
       "      <td>Source Offense Description. Variable value unc...</td>\n",
       "      <td>text</td>\n",
       "    </tr>\n",
       "    <tr>\n",
       "      <th>23</th>\n",
       "      <td>precinctnumber</td>\n",
       "      <td>48406</td>\n",
       "      <td>15</td>\n",
       "      <td>0</td>\n",
       "      <td>NaN</td>\n",
       "      <td>NaN</td>\n",
       "      <td>0</td>\n",
       "      <td>HP</td>\n",
       "      <td>90.Detroit (Unharmonized)</td>\n",
       "      <td>unknown</td>\n",
       "      <td>True</td>\n",
       "      <td>Source Precinct Number. Variable value unchang...</td>\n",
       "      <td>text</td>\n",
       "    </tr>\n",
       "    <tr>\n",
       "      <th>24</th>\n",
       "      <td>rawdatapath</td>\n",
       "      <td>48406</td>\n",
       "      <td>1</td>\n",
       "      <td>0</td>\n",
       "      <td>NaN</td>\n",
       "      <td>NaN</td>\n",
       "      <td>s3://datasearch-blog-jupyterspark-xn0iflaqfg-e...</td>\n",
       "      <td>s3://datasearch-blog-jupyterspark-xn0iflaqfg-e...</td>\n",
       "      <td>99.Miscellaneous</td>\n",
       "      <td>S3 Path to raw dataset.</td>\n",
       "      <td>False</td>\n",
       "      <td>Assigned by harmonization code</td>\n",
       "      <td>text</td>\n",
       "    </tr>\n",
       "    <tr>\n",
       "      <th>25</th>\n",
       "      <td>report#</td>\n",
       "      <td>48406</td>\n",
       "      <td>45979</td>\n",
       "      <td>0</td>\n",
       "      <td>NaN</td>\n",
       "      <td>NaN</td>\n",
       "      <td>0101190334</td>\n",
       "      <td>9</td>\n",
       "      <td>90.Detroit (Unharmonized)</td>\n",
       "      <td>unknown</td>\n",
       "      <td>True</td>\n",
       "      <td>Source Report #. Variable value unchanged from...</td>\n",
       "      <td>text</td>\n",
       "    </tr>\n",
       "    <tr>\n",
       "      <th>26</th>\n",
       "      <td>scoutcararea</td>\n",
       "      <td>48406</td>\n",
       "      <td>146</td>\n",
       "      <td>0</td>\n",
       "      <td>NaN</td>\n",
       "      <td>NaN</td>\n",
       "      <td>0</td>\n",
       "      <td>HPPD</td>\n",
       "      <td>90.Detroit (Unharmonized)</td>\n",
       "      <td>unknown</td>\n",
       "      <td>True</td>\n",
       "      <td>Source Scout Car Area. Variable value unchange...</td>\n",
       "      <td>text</td>\n",
       "    </tr>\n",
       "    <tr>\n",
       "      <th>27</th>\n",
       "      <td>stateoffensecode</td>\n",
       "      <td>47325</td>\n",
       "      <td>70</td>\n",
       "      <td>1081</td>\n",
       "      <td>NaN</td>\n",
       "      <td>NaN</td>\n",
       "      <td>0901</td>\n",
       "      <td>7571</td>\n",
       "      <td>90.Detroit (Unharmonized)</td>\n",
       "      <td>unknown</td>\n",
       "      <td>True</td>\n",
       "      <td>Source State Offense Code. Variable value unch...</td>\n",
       "      <td>text</td>\n",
       "    </tr>\n",
       "    <tr>\n",
       "      <th>28</th>\n",
       "      <td>uniq</td>\n",
       "      <td>0</td>\n",
       "      <td>0</td>\n",
       "      <td>48406</td>\n",
       "      <td>NaN</td>\n",
       "      <td>NaN</td>\n",
       "      <td>None</td>\n",
       "      <td>None</td>\n",
       "      <td>90.Detroit (Unharmonized)</td>\n",
       "      <td>unknown</td>\n",
       "      <td>True</td>\n",
       "      <td>Variable value unchanged from source dataset.</td>\n",
       "      <td>text</td>\n",
       "    </tr>\n",
       "    <tr>\n",
       "      <th>29</th>\n",
       "      <td>year</td>\n",
       "      <td>48406</td>\n",
       "      <td>9</td>\n",
       "      <td>0</td>\n",
       "      <td>2016.874251</td>\n",
       "      <td>0.345600</td>\n",
       "      <td>2007</td>\n",
       "      <td>2017</td>\n",
       "      <td>00.Date and Time</td>\n",
       "      <td>Incident year</td>\n",
       "      <td>True</td>\n",
       "      <td>Source Year. year, extracted from incidentdate</td>\n",
       "      <td>range,2000,2017,1</td>\n",
       "    </tr>\n",
       "    <tr>\n",
       "      <th>30</th>\n",
       "      <td>zipcode</td>\n",
       "      <td>47602</td>\n",
       "      <td>30</td>\n",
       "      <td>804</td>\n",
       "      <td>NaN</td>\n",
       "      <td>NaN</td>\n",
       "      <td>48201</td>\n",
       "      <td>48243</td>\n",
       "      <td>90.Detroit (Unharmonized)</td>\n",
       "      <td>unknown</td>\n",
       "      <td>True</td>\n",
       "      <td>Source Zip Code. Variable value unchanged from...</td>\n",
       "      <td>text</td>\n",
       "    </tr>\n",
       "  </tbody>\n",
       "</table>"
      ],
      "text/plain": [
       "<IPython.core.display.HTML object>"
      ]
     },
     "execution_count": 55,
     "metadata": {},
     "output_type": "execute_result"
    }
   ],
   "source": [
    "sql=\"SELECT * FROM %s.%s ORDER BY dict_field ASC\" % (schema, dict_table)\n",
    "# run query, convert results to a local pandas dataframe, and display as an HTML table.\n",
    "HTML(hc.sql(sql).toPandas().to_html())"
   ]
  },
  {
   "cell_type": "markdown",
   "metadata": {},
   "source": [
    "## Publish Notebook\n",
    "Save the notebook using javascript to trigger the save_checkpoint method.\n",
    "\n",
    "#### What does this do\n",
    "Convert notebook .ipny to html, and use hz.publishNotebookToS3 to copy the .ipny and .html files to the target S3 folder with web access enabled.\n",
    "\n",
    "#### Why are we doing this\n",
    "This provides a record within the UI of all the harmonization logic used to transform the raw data into what is exposed through the search and discovery tool. This record allows for easier verification, enhancements, or modifications of harmonization routines."
   ]
  },
  {
   "cell_type": "code",
   "execution_count": 56,
   "metadata": {},
   "outputs": [
    {
     "data": {
      "text/html": [
       "<!- SHOW / HIDE CODE TOGGLE ->\n",
       "<script>\n",
       "    var code_hide=true; //true -> hide code at first\n",
       "    function code_showhide_toggle() {\n",
       "        if (code_hide){\n",
       "            $('div.input').hide();\n",
       "            $('div.prompt').hide();\n",
       "        } else {\n",
       "            $('div.input').show();\n",
       "            $('div.prompt').show();\n",
       "        }\n",
       "        code_hide = !code_hide\n",
       "    }\n",
       "    $( document ).ready(code_showhide_toggle);\n",
       "</script>"
      ],
      "text/plain": [
       "<IPython.core.display.HTML object>"
      ]
     },
     "metadata": {},
     "output_type": "display_data"
    }
   ],
   "source": [
    "%%html\n",
    "<!- SHOW / HIDE CODE TOGGLE ->\n",
    "<script>\n",
    "    var code_hide=true; //true -> hide code at first\n",
    "    function code_showhide_toggle() {\n",
    "        if (code_hide){\n",
    "            $('div.input').hide();\n",
    "            $('div.prompt').hide();\n",
    "        } else {\n",
    "            $('div.input').show();\n",
    "            $('div.prompt').show();\n",
    "        }\n",
    "        code_hide = !code_hide\n",
    "    }\n",
    "    $( document ).ready(code_showhide_toggle);\n",
    "</script>"
   ]
  },
  {
   "cell_type": "code",
   "execution_count": 57,
   "metadata": {},
   "outputs": [
    {
     "name": "stdout",
     "output_type": "stream",
     "text": [
      "Wed Aug  2 21:57:58 UTC 2017\r\n"
     ]
    }
   ],
   "source": [
    "!date"
   ]
  },
  {
   "cell_type": "code",
   "execution_count": 58,
   "metadata": {},
   "outputs": [
    {
     "data": {
      "application/javascript": [
       "// save current notebook\n",
       "IPython.notebook.save_checkpoint()"
      ],
      "text/plain": [
       "<IPython.core.display.Javascript object>"
      ]
     },
     "metadata": {},
     "output_type": "display_data"
    }
   ],
   "source": [
    "%%javascript\n",
    "// save current notebook\n",
    "IPython.notebook.save_checkpoint()"
   ]
  },
  {
   "cell_type": "code",
   "execution_count": 59,
   "metadata": {},
   "outputs": [
    {
     "name": "stdout",
     "output_type": "stream",
     "text": [
      "[NbConvertApp] Converting notebook Detroit-notebook.ipynb to html\n",
      "[NbConvertApp] Writing 405521 bytes to Detroit-notebook.html\n"
     ]
    }
   ],
   "source": [
    "# convert ipynb to html\n",
    "!jupyter nbconvert --to html $citynotebook"
   ]
  },
  {
   "cell_type": "code",
   "execution_count": 60,
   "metadata": {},
   "outputs": [
    {
     "name": "stdout",
     "output_type": "stream",
     "text": [
      "Copy Detroit-notebook.ipynb to s3://datasearch-blog-jupyterspark-xn0iflaqfg-emrbucket-10gb2028l2ygj/crimedata/harmonized/Detroit/docs/Detroit-notebook.ipynb\n",
      "URL: https://s3.amazonaws.com/datasearch-blog-jupyterspark-xn0iflaqfg-emrbucket-10gb2028l2ygj/crimedata/harmonized/Detroit/docs/Detroit-notebook.ipynb\n",
      "Copy Detroit-notebook.html to s3://datasearch-blog-jupyterspark-xn0iflaqfg-emrbucket-10gb2028l2ygj/crimedata/harmonized/Detroit/docs/Detroit-notebook.html\n",
      "URL: https://s3.amazonaws.com/datasearch-blog-jupyterspark-xn0iflaqfg-emrbucket-10gb2028l2ygj/crimedata/harmonized/Detroit/docs/Detroit-notebook.html\n",
      "Move Detroit-notebook.html to subfolder ./html\n"
     ]
    }
   ],
   "source": [
    "# copy saved notebook (ipynb and html formats) to target S3 bucket\n",
    "hz.publishNotebookToS3(outputpath_doc, notebook_urlbase, citynotebook) \n",
    "# move html copy of notebook into subfolder\n",
    "f = citynotebook + \".html\"\n",
    "print(\"Move {} to subfolder ./html\".format(f))\n",
    "!mkdir -p ./html\n",
    "os.rename(f,\"./html/{}\".format(f))"
   ]
  },
  {
   "cell_type": "code",
   "execution_count": 61,
   "metadata": {},
   "outputs": [
    {
     "name": "stdout",
     "output_type": "stream",
     "text": [
      "Notebook execution complete.\n"
     ]
    }
   ],
   "source": [
    "print(\"Notebook execution complete.\")"
   ]
  }
 ],
 "metadata": {
  "kernelspec": {
   "display_name": "Python 2",
   "language": "python",
   "name": "python2"
  }
 },
 "nbformat": 4,
 "nbformat_minor": 1
}
